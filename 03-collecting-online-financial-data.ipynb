{
 "cells": [
  {
   "cell_type": "markdown",
   "id": "4f7c7958",
   "metadata": {
    "slideshow": {
     "slide_type": "slide"
    }
   },
   "source": [
    "# Python 金融資料的處理應用\n",
    "\n",
    "> 實作：取得網路金融資料\n",
    "\n",
    "[郭耀仁](https://hahow.in/@tonykuoyj?tr=tonykuoyj) | yaojenkuo@ntu.edu.tw | April 2024"
   ]
  },
  {
   "cell_type": "code",
   "execution_count": 1,
   "id": "a29d4c8a",
   "metadata": {
    "slideshow": {
     "slide_type": "subslide"
    }
   },
   "outputs": [],
   "source": [
    "import datetime\n",
    "import time\n",
    "import io\n",
    "import requests\n",
    "import pandas as pd"
   ]
  },
  {
   "cell_type": "markdown",
   "id": "e530f5c3",
   "metadata": {
    "slideshow": {
     "slide_type": "slide"
    }
   },
   "source": [
    "## Yahoo! Finance"
   ]
  },
  {
   "cell_type": "markdown",
   "id": "77f89882",
   "metadata": {
    "slideshow": {
     "slide_type": "subslide"
    }
   },
   "source": [
    "## 關於 Yahoo! Finance\n",
    "\n",
    "- 首頁：<https://finance.yahoo.com>\n",
    "- 基礎交易資訊頁面：`f\"https://finance.yahoo.com/quote/{stock_ticker}/history\"`\n",
    "- 基礎交易資訊 API: `f\"https://query1.finance.yahoo.com/v7/finance/chart/{stock_ticker}\"`"
   ]
  },
  {
   "cell_type": "code",
   "execution_count": 2,
   "id": "04257da5",
   "metadata": {
    "slideshow": {
     "slide_type": "subslide"
    }
   },
   "outputs": [
    {
     "name": "stdout",
     "output_type": "stream",
     "text": [
      "200\n",
      "<class 'dict'>\n"
     ]
    }
   ],
   "source": [
    "# 美股代號\n",
    "stock_ticker = \"NVDA\"\n",
    "base_api_url = f\"https://query1.finance.yahoo.com/v7/finance/chart/{stock_ticker}\"\n",
    "request_headers = {\n",
    "    \"User-Agent\": \"Mozilla/5.0 (Macintosh; Intel Mac OS X 10_15_7) AppleWebKit/537.36 (KHTML, like Gecko) Chrome/123.0.0.0 Safari/537.36\"\n",
    "}\n",
    "response = requests.get(base_api_url, headers=request_headers)\n",
    "response_json = response.json()\n",
    "print(response.status_code)\n",
    "print(type(response_json))"
   ]
  },
  {
   "cell_type": "code",
   "execution_count": 3,
   "id": "0c8956e5",
   "metadata": {
    "slideshow": {
     "slide_type": "subslide"
    }
   },
   "outputs": [
    {
     "name": "stdout",
     "output_type": "stream",
     "text": [
      "200\n",
      "<class 'dict'>\n"
     ]
    }
   ],
   "source": [
    "# 台股代號\n",
    "stock_ticker = \"2330.TW\"\n",
    "base_api_url = f\"https://query1.finance.yahoo.com/v7/finance/chart/{stock_ticker}\"\n",
    "request_headers = {\n",
    "    \"User-Agent\": \"Mozilla/5.0 (Macintosh; Intel Mac OS X 10_15_7) AppleWebKit/537.36 (KHTML, like Gecko) Chrome/123.0.0.0 Safari/537.36\"\n",
    "}\n",
    "response = requests.get(base_api_url, headers=request_headers)\n",
    "response_json = response.json()\n",
    "print(response.status_code)\n",
    "print(type(response_json))"
   ]
  },
  {
   "cell_type": "markdown",
   "id": "a803a345",
   "metadata": {
    "slideshow": {
     "slide_type": "subslide"
    }
   },
   "source": [
    "## 取得 Yahoo! Finance 個股交易歷史資料\n",
    "\n",
    "- 在基礎交易資訊 API 之後加入查詢字串（Query Strings）。\n",
    "    - `period1` 起始日期時間（以 Unix time 秒數表示）。\n",
    "    - `period2` 截止日期時間（以 Unix time 秒數表示）。"
   ]
  },
  {
   "cell_type": "code",
   "execution_count": 4,
   "id": "cc9068b8",
   "metadata": {
    "slideshow": {
     "slide_type": "subslide"
    }
   },
   "outputs": [
    {
     "name": "stdout",
     "output_type": "stream",
     "text": [
      "1704072600\n",
      "1704614400\n"
     ]
    }
   ],
   "source": [
    "# 美股代號\n",
    "stock_ticker = \"NVDA\"\n",
    "start_date_str = \"2024-01-01\"\n",
    "stop_date_str = \"2024-01-07\"\n",
    "start_year, start_month, start_day = [int(e) for e in start_date_str.split(\"-\")]\n",
    "stop_year, stop_month, stop_day = [int(e) for e in stop_date_str.split(\"-\")]\n",
    "start_datetime = datetime.datetime(start_year, start_month, start_day, 9, 30)\n",
    "stop_datetime = datetime.datetime(stop_year, stop_month, stop_day, 16, 0)\n",
    "start_date_unixtime = time.mktime(start_datetime.timetuple())\n",
    "stop_date_unixtime = time.mktime(stop_datetime.timetuple())\n",
    "period1 = int(start_date_unixtime)\n",
    "period2 = int(stop_date_unixtime)\n",
    "print(period1)\n",
    "print(period2)"
   ]
  },
  {
   "cell_type": "code",
   "execution_count": 5,
   "id": "26528797",
   "metadata": {
    "slideshow": {
     "slide_type": "subslide"
    }
   },
   "outputs": [
    {
     "name": "stdout",
     "output_type": "stream",
     "text": [
      "200\n",
      "<class 'dict'>\n"
     ]
    }
   ],
   "source": [
    "base_api_url = f\"https://query1.finance.yahoo.com/v7/finance/chart/{stock_ticker}\"\n",
    "request_headers = {\n",
    "    \"User-Agent\": \"Mozilla/5.0 (Macintosh; Intel Mac OS X 10_15_7) AppleWebKit/537.36 (KHTML, like Gecko) Chrome/123.0.0.0 Safari/537.36\"\n",
    "}\n",
    "query_str_params = {\n",
    "    \"interval\": \"1d\",\n",
    "    \"period1\": period1,\n",
    "    \"period2\": period2\n",
    "}\n",
    "response = requests.get(base_api_url, headers=request_headers, params=query_str_params)\n",
    "response_json = response.json()\n",
    "print(response.status_code)\n",
    "print(type(response_json))"
   ]
  },
  {
   "cell_type": "code",
   "execution_count": 6,
   "id": "6b00e1cb",
   "metadata": {
    "slideshow": {
     "slide_type": "subslide"
    }
   },
   "outputs": [
    {
     "name": "stdout",
     "output_type": "stream",
     "text": [
      "{'chart': {'result': [{'meta': {'currency': 'USD', 'symbol': 'NVDA', 'exchangeName': 'NMS', 'instrumentType': 'EQUITY', 'firstTradeDate': 917015400, 'regularMarketTime': 1711137600, 'hasPrePostMarketData': True, 'gmtoffset': -14400, 'timezone': 'EDT', 'exchangeTimezoneName': 'America/New_York', 'regularMarketPrice': 942.89, 'chartPreviousClose': 495.22, 'priceHint': 2, 'currentTradingPeriod': {'pre': {'timezone': 'EDT', 'start': 1711094400, 'end': 1711114200, 'gmtoffset': -14400}, 'regular': {'timezone': 'EDT', 'start': 1711114200, 'end': 1711137600, 'gmtoffset': -14400}, 'post': {'timezone': 'EDT', 'start': 1711137600, 'end': 1711152000, 'gmtoffset': -14400}}, 'dataGranularity': '1d', 'range': '', 'validRanges': ['1d', '5d', '1mo', '3mo', '6mo', '1y', '2y', '5y', '10y', 'ytd', 'max']}, 'timestamp': [1704205800, 1704292200, 1704378600, 1704465000], 'indicators': {'quote': [{'open': [492.44000244140625, 474.8500061035156, 477.6700134277344, 484.6199951171875], 'low': [475.95001220703125, 473.20001220703125, 475.0799865722656, 483.05999755859375], 'close': [481.67999267578125, 475.69000244140625, 479.9800109863281, 490.9700012207031], 'high': [492.95001220703125, 481.8399963378906, 485.0, 495.4700012207031], 'volume': [41125400, 32089600, 30653500, 41456800]}], 'adjclose': [{'adjclose': [481.65740966796875, 475.6676940917969, 479.9574890136719, 490.94696044921875]}]}}], 'error': None}}\n"
     ]
    }
   ],
   "source": [
    "print(response_json)"
   ]
  },
  {
   "cell_type": "code",
   "execution_count": 7,
   "id": "150e2f35",
   "metadata": {
    "slideshow": {
     "slide_type": "subslide"
    }
   },
   "outputs": [
    {
     "name": "stdout",
     "output_type": "stream",
     "text": [
      "1704070800\n",
      "1704605400\n"
     ]
    }
   ],
   "source": [
    "# 台股代號\n",
    "stock_ticker = \"2330.TW\"\n",
    "start_date_str = \"2024-01-01\"\n",
    "stop_date_str = \"2024-01-07\"\n",
    "start_year, start_month, start_day = [int(e) for e in start_date_str.split(\"-\")]\n",
    "stop_year, stop_month, stop_day = [int(e) for e in stop_date_str.split(\"-\")]\n",
    "start_datetime = datetime.datetime(start_year, start_month, start_day, 9, 0)\n",
    "stop_datetime = datetime.datetime(stop_year, stop_month, stop_day, 13, 30)\n",
    "start_date_unixtime = time.mktime(start_datetime.timetuple())\n",
    "stop_date_unixtime = time.mktime(stop_datetime.timetuple())\n",
    "period1 = int(start_date_unixtime)\n",
    "period2 = int(stop_date_unixtime)\n",
    "print(period1)\n",
    "print(period2)"
   ]
  },
  {
   "cell_type": "code",
   "execution_count": 8,
   "id": "2f742438",
   "metadata": {
    "slideshow": {
     "slide_type": "subslide"
    }
   },
   "outputs": [
    {
     "name": "stdout",
     "output_type": "stream",
     "text": [
      "200\n",
      "<class 'dict'>\n"
     ]
    }
   ],
   "source": [
    "base_api_url = f\"https://query1.finance.yahoo.com/v7/finance/chart/{stock_ticker}\"\n",
    "request_headers = {\n",
    "    \"User-Agent\": \"Mozilla/5.0 (Macintosh; Intel Mac OS X 10_15_7) AppleWebKit/537.36 (KHTML, like Gecko) Chrome/123.0.0.0 Safari/537.36\"\n",
    "}\n",
    "query_str_params = {\n",
    "    \"interval\": \"1d\",\n",
    "    \"period1\": period1,\n",
    "    \"period2\": period2\n",
    "}\n",
    "response = requests.get(base_api_url, headers=request_headers, params=query_str_params)\n",
    "response_json = response.json()\n",
    "print(response.status_code)\n",
    "print(type(response_json))"
   ]
  },
  {
   "cell_type": "code",
   "execution_count": 9,
   "id": "1e807d9a",
   "metadata": {
    "slideshow": {
     "slide_type": "subslide"
    }
   },
   "outputs": [
    {
     "name": "stdout",
     "output_type": "stream",
     "text": [
      "{'chart': {'result': [{'meta': {'currency': 'TWD', 'symbol': '2330.TW', 'exchangeName': 'TAI', 'instrumentType': 'EQUITY', 'firstTradeDate': 946947600, 'regularMarketTime': 1711085403, 'hasPrePostMarketData': False, 'gmtoffset': 28800, 'timezone': 'CST', 'exchangeTimezoneName': 'Asia/Taipei', 'regularMarketPrice': 785.0, 'chartPreviousClose': 593.0, 'priceHint': 2, 'currentTradingPeriod': {'pre': {'timezone': 'CST', 'start': 1711069200, 'end': 1711069200, 'gmtoffset': 28800}, 'regular': {'timezone': 'CST', 'start': 1711069200, 'end': 1711085400, 'gmtoffset': 28800}, 'post': {'timezone': 'CST', 'start': 1711085400, 'end': 1711085400, 'gmtoffset': 28800}}, 'dataGranularity': '1d', 'range': '', 'validRanges': ['1d', '5d', '1mo', '3mo', '6mo', '1y', '2y', '5y', '10y', 'ytd', 'max']}, 'timestamp': [1704157200, 1704243600, 1704330000, 1704416400], 'indicators': {'quote': [{'open': [590.0, 584.0, 580.0, 578.0], 'low': [589.0, 576.0, 577.0, 574.0], 'close': [593.0, 578.0, 580.0, 576.0], 'high': [593.0, 585.0, 581.0, 580.0], 'volume': [26059058, 37106763, 15309129, 18158971]}], 'adjclose': [{'adjclose': [590.2437133789062, 575.3134155273438, 577.3041381835938, 573.3226928710938]}]}}], 'error': None}}\n"
     ]
    }
   ],
   "source": [
    "print(response_json)"
   ]
  },
  {
   "cell_type": "markdown",
   "id": "b8c9d900",
   "metadata": {
    "slideshow": {
     "slide_type": "subslide"
    }
   },
   "source": [
    "## 定義函數 `get_yfinance_data()`"
   ]
  },
  {
   "cell_type": "code",
   "execution_count": 10,
   "id": "4a15d20c",
   "metadata": {},
   "outputs": [],
   "source": [
    "def get_yfinance_data(stock_ticker: str, start_date: str, stop_date: str, listed_in_tw: bool=False) -> dict:\n",
    "    if listed_in_tw:\n",
    "        stock_ticker = f\"{stock_ticker}.TW\"\n",
    "        start_hour, start_min = 9, 0\n",
    "        stop_hour, stop_min = 13, 30\n",
    "    else:\n",
    "        start_hour, start_min = 9, 30\n",
    "        stop_hour, stop_min = 16, 0\n",
    "    start_year, start_month, start_day = [int(e) for e in start_date.split(\"-\")]\n",
    "    stop_year, stop_month, stop_day = [int(e) for e in stop_date.split(\"-\")]\n",
    "    start_datetime = datetime.datetime(start_year, start_month, start_day, start_hour, start_min)\n",
    "    stop_datetime = datetime.datetime(stop_year, stop_month, stop_day, stop_hour, stop_min)\n",
    "    start_date_unixtime = time.mktime(start_datetime.timetuple())\n",
    "    stop_date_unixtime = time.mktime(stop_datetime.timetuple())\n",
    "    period1 = int(start_date_unixtime)\n",
    "    period2 = int(stop_date_unixtime)\n",
    "    base_api_url = f\"https://query1.finance.yahoo.com/v7/finance/chart/{stock_ticker}\"\n",
    "    request_headers = {\n",
    "        \"User-Agent\": \"Mozilla/5.0 (Macintosh; Intel Mac OS X 10_15_7) AppleWebKit/537.36 (KHTML, like Gecko) Chrome/123.0.0.0 Safari/537.36\"\n",
    "    }\n",
    "    query_str_params = {\n",
    "        \"interval\": \"1d\",\n",
    "        \"period1\": period1,\n",
    "        \"period2\": period2\n",
    "    }\n",
    "    response = requests.get(base_api_url, headers=request_headers, params=query_str_params)\n",
    "    response_json = response.json()\n",
    "    print(f\"Request status code: {response.status_code}\")\n",
    "    return response_json"
   ]
  },
  {
   "cell_type": "code",
   "execution_count": 11,
   "id": "02872061",
   "metadata": {
    "slideshow": {
     "slide_type": "subslide"
    }
   },
   "outputs": [
    {
     "name": "stdout",
     "output_type": "stream",
     "text": [
      "Request status code: 200\n",
      "<class 'dict'>\n"
     ]
    }
   ],
   "source": [
    "nvda = get_yfinance_data(\"NVDA\", \"2024-01-01\", \"2024-01-07\")\n",
    "print(type(nvda))"
   ]
  },
  {
   "cell_type": "code",
   "execution_count": 12,
   "id": "2ca4e7c5",
   "metadata": {
    "slideshow": {
     "slide_type": "-"
    }
   },
   "outputs": [
    {
     "name": "stdout",
     "output_type": "stream",
     "text": [
      "Request status code: 200\n",
      "<class 'dict'>\n"
     ]
    }
   ],
   "source": [
    "tsmc = get_yfinance_data(\"2330\", \"2024-01-01\", \"2024-01-07\", True)\n",
    "print(type(tsmc))"
   ]
  },
  {
   "cell_type": "markdown",
   "id": "9f57d553",
   "metadata": {
    "slideshow": {
     "slide_type": "slide"
    }
   },
   "source": [
    "## 台灣證券交易所"
   ]
  },
  {
   "cell_type": "markdown",
   "id": "b3258714",
   "metadata": {
    "slideshow": {
     "slide_type": "subslide"
    }
   },
   "source": [
    "## 關於台灣證券交易所\n",
    "\n",
    "- 首頁：<https://www.twse.com.tw>\n",
    "- 成交資訊頁面：<https://www.twse.com.tw/zh/trading/historical/stock-day.html>\n",
    "- 成交資訊 API: `f\"https://www.twse.com.tw/exchangeReport/STOCK_DAY?response=json&date={query_date}&stockNo={stock_ticker}\"`"
   ]
  },
  {
   "cell_type": "code",
   "execution_count": 13,
   "id": "beccb11e",
   "metadata": {
    "slideshow": {
     "slide_type": "subslide"
    }
   },
   "outputs": [
    {
     "name": "stdout",
     "output_type": "stream",
     "text": [
      "200\n",
      "<class 'dict'>\n"
     ]
    }
   ],
   "source": [
    "base_api_url = f\"https://www.twse.com.tw/exchangeReport/STOCK_DAY\"\n",
    "request_headers = {\n",
    "    \"User-Agent\": \"Mozilla/5.0 (Macintosh; Intel Mac OS X 10_15_7) AppleWebKit/537.36 (KHTML, like Gecko) Chrome/123.0.0.0 Safari/537.36\"\n",
    "}\n",
    "query_str_params = {\n",
    "    \"date\": \"202401\",\n",
    "    \"stockNo\": \"2330\",\n",
    "    \"response\": \"json\"\n",
    "}\n",
    "response = requests.get(base_api_url, headers=request_headers, params=query_str_params)\n",
    "response_json = response.json()\n",
    "print(response.status_code)\n",
    "print(type(response_json))"
   ]
  },
  {
   "cell_type": "code",
   "execution_count": 14,
   "id": "d00e9932",
   "metadata": {
    "slideshow": {
     "slide_type": "subslide"
    }
   },
   "outputs": [
    {
     "name": "stdout",
     "output_type": "stream",
     "text": [
      "{'stat': 'OK', 'date': '20240324', 'title': '113年03月 2330 台積電           各日成交資訊', 'fields': ['日期', '成交股數', '成交金額', '開盤價', '最高價', '最低價', '收盤價', '漲跌價差', '成交筆數'], 'data': [['113/03/01', '24,167,721', '16,699,995,060', '697.00', '697.00', '688.00', '689.00', '-1.00', '26,282'], ['113/03/04', '97,210,112', '69,868,348,694', '714.00', '725.00', '711.00', '725.00', '+36.00', '125,799'], ['113/03/05', '73,299,411', '53,751,887,376', '735.00', '738.00', '728.00', '730.00', '+5.00', '69,851'], ['113/03/06', '52,464,833', '38,203,868,985', '718.00', '738.00', '717.00', '735.00', '+5.00', '49,897'], ['113/03/07', '80,382,406', '61,221,034,146', '755.00', '769.00', '754.00', '760.00', '+25.00', '96,348'], ['113/03/08', '98,069,174', '77,295,575,097', '795.00', '796.00', '772.00', '784.00', '+24.00', '110,758'], ['113/03/11', '73,436,931', '56,348,050,108', '768.00', '778.00', '761.00', '766.00', '-18.00', '107,368'], ['113/03/12', '63,336,798', '48,288,411,581', '757.00', '771.00', '754.00', '770.00', '+4.00', '56,154'], ['113/03/13', '43,130,896', '33,672,441,212', '785.00', '785.00', '777.00', '779.00', '+9.00', '37,744'], ['113/03/14', '48,964,017', '38,196,293,503', '779.00', '785.00', '770.00', '784.00', '+5.00', '35,137'], ['113/03/15', '80,580,846', '61,451,780,435', '771.00', '777.00', '753.00', '753.00', '-31.00', '95,014'], ['113/03/18', '46,006,400', '34,967,084,535', '754.00', '765.00', '754.00', '764.00', 'X0.00', '40,073'], ['113/03/19', '32,078,900', '24,399,917,859', '758.00', '765.00', '755.00', '762.00', '-2.00', '31,208'], ['113/03/20', '48,788,389', '37,117,091,830', '764.00', '769.00', '752.00', '758.00', '-4.00', '46,702'], ['113/03/21', '47,759,094', '37,203,673,872', '773.00', '784.00', '772.00', '784.00', '+26.00', '48,467'], ['113/03/22', '32,629,749', '25,521,571,701', '788.00', '789.00', '775.00', '785.00', '+1.00', '33,054']], 'notes': ['符號說明:+/-/X表示漲/跌/不比價', '當日統計資訊含一般、零股、盤後定價、鉅額交易，不含拍賣、標購。', 'ETF證券代號第六碼為K、M、S、C者，表示該ETF以外幣交易。', '權證證券代號可重複使用，權證顯示之名稱係目前存續權證之簡稱。'], 'total': 16}\n"
     ]
    }
   ],
   "source": [
    "print(response_json)"
   ]
  },
  {
   "cell_type": "markdown",
   "id": "a1669444",
   "metadata": {
    "slideshow": {
     "slide_type": "subslide"
    }
   },
   "source": [
    "## 定義函數 `get_twse_data()`"
   ]
  },
  {
   "cell_type": "code",
   "execution_count": 15,
   "id": "ac1319eb",
   "metadata": {},
   "outputs": [],
   "source": [
    "def get_twse_data(stock_ticker: str, data_year: int, data_month: int) -> dict:\n",
    "    base_api_url = f\"https://www.twse.com.tw/exchangeReport/STOCK_DAY\"\n",
    "    data_year_month = datetime.date(data_year, data_month, 1).strftime(\"%Y%m\")\n",
    "    request_headers = {\n",
    "        \"User-Agent\": \"Mozilla/5.0 (Macintosh; Intel Mac OS X 10_15_7) AppleWebKit/537.36 (KHTML, like Gecko) Chrome/123.0.0.0 Safari/537.36\"\n",
    "    }\n",
    "    query_str_params = {\n",
    "        \"date\": data_year_month,\n",
    "        \"stockNo\": stock_ticker,\n",
    "        \"response\": \"json\"\n",
    "    }\n",
    "    response = requests.get(base_api_url, headers=request_headers, params=query_str_params)\n",
    "    print(f\"Request status code: {response.status_code}\")\n",
    "    response_json = response.json()\n",
    "    return response_json"
   ]
  },
  {
   "cell_type": "code",
   "execution_count": 16,
   "id": "5a8b33a8",
   "metadata": {
    "slideshow": {
     "slide_type": "subslide"
    }
   },
   "outputs": [
    {
     "name": "stdout",
     "output_type": "stream",
     "text": [
      "Request status code: 200\n",
      "<class 'dict'>\n"
     ]
    }
   ],
   "source": [
    "tsmc = get_twse_data(\"2330\", 2024, 3)\n",
    "print(type(tsmc))"
   ]
  },
  {
   "cell_type": "markdown",
   "id": "51ef7339",
   "metadata": {
    "slideshow": {
     "slide_type": "slide"
    }
   },
   "source": [
    "## 台灣期貨交易所"
   ]
  },
  {
   "cell_type": "markdown",
   "id": "08121b72",
   "metadata": {
    "slideshow": {
     "slide_type": "subslide"
    }
   },
   "source": [
    "## 關於台灣期貨交易所\n",
    "\n",
    "- 首頁：<https://www.taifex.com.tw/>\n",
    "- 交易資訊頁面：<https://www.taifex.com.tw/cht/3/futAndOptDate>"
   ]
  },
  {
   "cell_type": "code",
   "execution_count": 17,
   "id": "dc509d2a",
   "metadata": {
    "slideshow": {
     "slide_type": "subslide"
    }
   },
   "outputs": [
    {
     "data": {
      "text/html": [
       "<div>\n",
       "<style scoped>\n",
       "    .dataframe tbody tr th:only-of-type {\n",
       "        vertical-align: middle;\n",
       "    }\n",
       "\n",
       "    .dataframe tbody tr th {\n",
       "        vertical-align: top;\n",
       "    }\n",
       "\n",
       "    .dataframe thead th {\n",
       "        text-align: right;\n",
       "    }\n",
       "</style>\n",
       "<table border=\"1\" class=\"dataframe\">\n",
       "  <thead>\n",
       "    <tr style=\"text-align: right;\">\n",
       "      <th></th>\n",
       "      <th>0</th>\n",
       "      <th>1</th>\n",
       "      <th>2</th>\n",
       "      <th>3</th>\n",
       "      <th>4</th>\n",
       "      <th>5</th>\n",
       "      <th>6</th>\n",
       "      <th>7</th>\n",
       "      <th>8</th>\n",
       "      <th>9</th>\n",
       "      <th>10</th>\n",
       "      <th>11</th>\n",
       "      <th>12</th>\n",
       "    </tr>\n",
       "  </thead>\n",
       "  <tbody>\n",
       "    <tr>\n",
       "      <th>6</th>\n",
       "      <td>身份別</td>\n",
       "      <td>期貨</td>\n",
       "      <td>選擇權</td>\n",
       "      <td>期貨</td>\n",
       "      <td>選擇權</td>\n",
       "      <td>期貨</td>\n",
       "      <td>選擇權</td>\n",
       "      <td>期貨</td>\n",
       "      <td>選擇權</td>\n",
       "      <td>期貨</td>\n",
       "      <td>選擇權</td>\n",
       "      <td>期貨</td>\n",
       "      <td>選擇權</td>\n",
       "    </tr>\n",
       "    <tr>\n",
       "      <th>7</th>\n",
       "      <td>自營商</td>\n",
       "      <td>58556</td>\n",
       "      <td>235407</td>\n",
       "      <td>62737598</td>\n",
       "      <td>839068</td>\n",
       "      <td>73927</td>\n",
       "      <td>241996</td>\n",
       "      <td>66006750</td>\n",
       "      <td>868966</td>\n",
       "      <td>-15371</td>\n",
       "      <td>-6589</td>\n",
       "      <td>-3269152</td>\n",
       "      <td>-29898</td>\n",
       "    </tr>\n",
       "    <tr>\n",
       "      <th>8</th>\n",
       "      <td>投信</td>\n",
       "      <td>296</td>\n",
       "      <td>0</td>\n",
       "      <td>1197238</td>\n",
       "      <td>0</td>\n",
       "      <td>107</td>\n",
       "      <td>0</td>\n",
       "      <td>246877</td>\n",
       "      <td>0</td>\n",
       "      <td>189</td>\n",
       "      <td>0</td>\n",
       "      <td>950361</td>\n",
       "      <td>0</td>\n",
       "    </tr>\n",
       "    <tr>\n",
       "      <th>9</th>\n",
       "      <td>外資</td>\n",
       "      <td>336141</td>\n",
       "      <td>179245</td>\n",
       "      <td>424746148</td>\n",
       "      <td>902797</td>\n",
       "      <td>359413</td>\n",
       "      <td>181857</td>\n",
       "      <td>473163906</td>\n",
       "      <td>926249</td>\n",
       "      <td>-23272</td>\n",
       "      <td>-2612</td>\n",
       "      <td>-48417758</td>\n",
       "      <td>-23452</td>\n",
       "    </tr>\n",
       "    <tr>\n",
       "      <th>10</th>\n",
       "      <td>合計</td>\n",
       "      <td>394993</td>\n",
       "      <td>414652</td>\n",
       "      <td>488680984</td>\n",
       "      <td>1741865</td>\n",
       "      <td>433447</td>\n",
       "      <td>423853</td>\n",
       "      <td>539417533</td>\n",
       "      <td>1795215</td>\n",
       "      <td>-38454</td>\n",
       "      <td>-9201</td>\n",
       "      <td>-50736549</td>\n",
       "      <td>-53350</td>\n",
       "    </tr>\n",
       "    <tr>\n",
       "      <th>11</th>\n",
       "      <td>NaN</td>\n",
       "      <td>未平倉餘額</td>\n",
       "      <td>未平倉餘額</td>\n",
       "      <td>未平倉餘額</td>\n",
       "      <td>未平倉餘額</td>\n",
       "      <td>未平倉餘額</td>\n",
       "      <td>未平倉餘額</td>\n",
       "      <td>未平倉餘額</td>\n",
       "      <td>未平倉餘額</td>\n",
       "      <td>未平倉餘額</td>\n",
       "      <td>未平倉餘額</td>\n",
       "      <td>未平倉餘額</td>\n",
       "      <td>未平倉餘額</td>\n",
       "    </tr>\n",
       "    <tr>\n",
       "      <th>12</th>\n",
       "      <td>NaN</td>\n",
       "      <td>多方</td>\n",
       "      <td>多方</td>\n",
       "      <td>多方</td>\n",
       "      <td>多方</td>\n",
       "      <td>空方</td>\n",
       "      <td>空方</td>\n",
       "      <td>空方</td>\n",
       "      <td>空方</td>\n",
       "      <td>多空淨額</td>\n",
       "      <td>多空淨額</td>\n",
       "      <td>多空淨額</td>\n",
       "      <td>多空淨額</td>\n",
       "    </tr>\n",
       "    <tr>\n",
       "      <th>13</th>\n",
       "      <td>NaN</td>\n",
       "      <td>口數</td>\n",
       "      <td>口數</td>\n",
       "      <td>契約金額</td>\n",
       "      <td>契約金額</td>\n",
       "      <td>口數</td>\n",
       "      <td>口數</td>\n",
       "      <td>契約金額</td>\n",
       "      <td>契約金額</td>\n",
       "      <td>口數</td>\n",
       "      <td>口數</td>\n",
       "      <td>契約金額</td>\n",
       "      <td>契約金額</td>\n",
       "    </tr>\n",
       "    <tr>\n",
       "      <th>14</th>\n",
       "      <td>身份別</td>\n",
       "      <td>期貨</td>\n",
       "      <td>選擇權</td>\n",
       "      <td>期貨</td>\n",
       "      <td>選擇權</td>\n",
       "      <td>期貨</td>\n",
       "      <td>選擇權</td>\n",
       "      <td>期貨</td>\n",
       "      <td>選擇權</td>\n",
       "      <td>期貨</td>\n",
       "      <td>選擇權</td>\n",
       "      <td>期貨</td>\n",
       "      <td>選擇權</td>\n",
       "    </tr>\n",
       "    <tr>\n",
       "      <th>15</th>\n",
       "      <td>自營商</td>\n",
       "      <td>36991</td>\n",
       "      <td>97475</td>\n",
       "      <td>25434300</td>\n",
       "      <td>863266</td>\n",
       "      <td>317312</td>\n",
       "      <td>105853</td>\n",
       "      <td>132758320</td>\n",
       "      <td>578870</td>\n",
       "      <td>-280321</td>\n",
       "      <td>-8378</td>\n",
       "      <td>-107324020</td>\n",
       "      <td>284396</td>\n",
       "    </tr>\n",
       "    <tr>\n",
       "      <th>16</th>\n",
       "      <td>投信</td>\n",
       "      <td>16025</td>\n",
       "      <td>172</td>\n",
       "      <td>55654956</td>\n",
       "      <td>877</td>\n",
       "      <td>10299</td>\n",
       "      <td>0</td>\n",
       "      <td>34748783</td>\n",
       "      <td>0</td>\n",
       "      <td>5726</td>\n",
       "      <td>172</td>\n",
       "      <td>20906173</td>\n",
       "      <td>877</td>\n",
       "    </tr>\n",
       "    <tr>\n",
       "      <th>17</th>\n",
       "      <td>外資</td>\n",
       "      <td>143377</td>\n",
       "      <td>31820</td>\n",
       "      <td>181490422</td>\n",
       "      <td>287178</td>\n",
       "      <td>228556</td>\n",
       "      <td>43855</td>\n",
       "      <td>215673082</td>\n",
       "      <td>206025</td>\n",
       "      <td>-85179</td>\n",
       "      <td>-12035</td>\n",
       "      <td>-34182660</td>\n",
       "      <td>81153</td>\n",
       "    </tr>\n",
       "    <tr>\n",
       "      <th>18</th>\n",
       "      <td>合計</td>\n",
       "      <td>196393</td>\n",
       "      <td>129467</td>\n",
       "      <td>262579678</td>\n",
       "      <td>1151321</td>\n",
       "      <td>556167</td>\n",
       "      <td>149708</td>\n",
       "      <td>383180185</td>\n",
       "      <td>784895</td>\n",
       "      <td>-359774</td>\n",
       "      <td>-20241</td>\n",
       "      <td>-120600507</td>\n",
       "      <td>366426</td>\n",
       "    </tr>\n",
       "  </tbody>\n",
       "</table>\n",
       "</div>"
      ],
      "text/plain": [
       "     0       1       2          3        4       5       6          7   \\\n",
       "6   身份別      期貨     選擇權         期貨      選擇權      期貨     選擇權         期貨   \n",
       "7   自營商   58556  235407   62737598   839068   73927  241996   66006750   \n",
       "8    投信     296       0    1197238        0     107       0     246877   \n",
       "9    外資  336141  179245  424746148   902797  359413  181857  473163906   \n",
       "10   合計  394993  414652  488680984  1741865  433447  423853  539417533   \n",
       "11  NaN   未平倉餘額   未平倉餘額      未平倉餘額    未平倉餘額   未平倉餘額   未平倉餘額      未平倉餘額   \n",
       "12  NaN      多方      多方         多方       多方      空方      空方         空方   \n",
       "13  NaN      口數      口數       契約金額     契約金額      口數      口數       契約金額   \n",
       "14  身份別      期貨     選擇權         期貨      選擇權      期貨     選擇權         期貨   \n",
       "15  自營商   36991   97475   25434300   863266  317312  105853  132758320   \n",
       "16   投信   16025     172   55654956      877   10299       0   34748783   \n",
       "17   外資  143377   31820  181490422   287178  228556   43855  215673082   \n",
       "18   合計  196393  129467  262579678  1151321  556167  149708  383180185   \n",
       "\n",
       "         8        9       10          11      12  \n",
       "6       選擇權       期貨     選擇權          期貨     選擇權  \n",
       "7    868966   -15371   -6589    -3269152  -29898  \n",
       "8         0      189       0      950361       0  \n",
       "9    926249   -23272   -2612   -48417758  -23452  \n",
       "10  1795215   -38454   -9201   -50736549  -53350  \n",
       "11    未平倉餘額    未平倉餘額   未平倉餘額       未平倉餘額   未平倉餘額  \n",
       "12       空方     多空淨額    多空淨額        多空淨額    多空淨額  \n",
       "13     契約金額       口數      口數        契約金額    契約金額  \n",
       "14      選擇權       期貨     選擇權          期貨     選擇權  \n",
       "15   578870  -280321   -8378  -107324020  284396  \n",
       "16        0     5726     172    20906173     877  \n",
       "17   206025   -85179  -12035   -34182660   81153  \n",
       "18   784895  -359774  -20241  -120600507  366426  "
      ]
     },
     "execution_count": 17,
     "metadata": {},
     "output_type": "execute_result"
    }
   ],
   "source": [
    "html_tables = pd.read_html(\"https://www.taifex.com.tw/cht/3/futAndOptDate\")\n",
    "taifex = html_tables[2]\n",
    "taifex.iloc[6:, :]"
   ]
  },
  {
   "cell_type": "markdown",
   "id": "ae38cf27",
   "metadata": {
    "slideshow": {
     "slide_type": "slide"
    }
   },
   "source": [
    "## 政府資料開放平台"
   ]
  },
  {
   "cell_type": "markdown",
   "id": "7243b589",
   "metadata": {
    "slideshow": {
     "slide_type": "subslide"
    }
   },
   "source": [
    "## 關於政府資料開放平台\n",
    "\n",
    "- 首頁：<https://data.gov.tw>\n",
    "- 資料集頁面：<https://data.gov.tw/datasets/search?p=1&size=10&s=_score_desc&cgl-3=712&rct=254>\n",
    "- 資料集 API\n",
    "    - `f\"https://www.twse.com.tw/exchangeReport/{data_name}?response=open_data\"`\n",
    "    - `f\"https://www.taifex.com.tw/data_gov/taifex_open_data.asp?data_name={data_name}\"`"
   ]
  },
  {
   "cell_type": "code",
   "execution_count": 18,
   "id": "bbf0e471",
   "metadata": {
    "slideshow": {
     "slide_type": "subslide"
    }
   },
   "outputs": [
    {
     "name": "stdout",
     "output_type": "stream",
     "text": [
      "<class 'pandas.core.frame.DataFrame'>\n"
     ]
    }
   ],
   "source": [
    "data_name = \"STOCK_DAY_ALL\"\n",
    "api_url = f\"https://www.twse.com.tw/exchangeReport/{data_name}?response=open_data\"\n",
    "response = requests.get(api_url)\n",
    "string_io_response_text = io.StringIO(response.text)\n",
    "twse = pd.read_csv(string_io_response_text)\n",
    "print(type(twse))"
   ]
  },
  {
   "cell_type": "code",
   "execution_count": 19,
   "id": "2b8eb151",
   "metadata": {
    "slideshow": {
     "slide_type": "subslide"
    }
   },
   "outputs": [
    {
     "data": {
      "text/html": [
       "<div>\n",
       "<style scoped>\n",
       "    .dataframe tbody tr th:only-of-type {\n",
       "        vertical-align: middle;\n",
       "    }\n",
       "\n",
       "    .dataframe tbody tr th {\n",
       "        vertical-align: top;\n",
       "    }\n",
       "\n",
       "    .dataframe thead th {\n",
       "        text-align: right;\n",
       "    }\n",
       "</style>\n",
       "<table border=\"1\" class=\"dataframe\">\n",
       "  <thead>\n",
       "    <tr style=\"text-align: right;\">\n",
       "      <th></th>\n",
       "      <th>證券代號</th>\n",
       "      <th>證券名稱</th>\n",
       "      <th>成交股數</th>\n",
       "      <th>成交金額</th>\n",
       "      <th>開盤價</th>\n",
       "      <th>最高價</th>\n",
       "      <th>最低價</th>\n",
       "      <th>收盤價</th>\n",
       "      <th>漲跌價差</th>\n",
       "      <th>成交筆數</th>\n",
       "    </tr>\n",
       "  </thead>\n",
       "  <tbody>\n",
       "    <tr>\n",
       "      <th>0</th>\n",
       "      <td>0050</td>\n",
       "      <td>元大台灣50</td>\n",
       "      <td>7163593.0</td>\n",
       "      <td>1.126524e+09</td>\n",
       "      <td>157.50</td>\n",
       "      <td>158.25</td>\n",
       "      <td>156.50</td>\n",
       "      <td>157.20</td>\n",
       "      <td>-0.20</td>\n",
       "      <td>8945.0</td>\n",
       "    </tr>\n",
       "    <tr>\n",
       "      <th>1</th>\n",
       "      <td>0051</td>\n",
       "      <td>元大中型100</td>\n",
       "      <td>44071.0</td>\n",
       "      <td>3.463451e+06</td>\n",
       "      <td>78.65</td>\n",
       "      <td>78.80</td>\n",
       "      <td>78.30</td>\n",
       "      <td>78.40</td>\n",
       "      <td>-0.25</td>\n",
       "      <td>209.0</td>\n",
       "    </tr>\n",
       "    <tr>\n",
       "      <th>2</th>\n",
       "      <td>0052</td>\n",
       "      <td>富邦科技</td>\n",
       "      <td>415163.0</td>\n",
       "      <td>6.626355e+07</td>\n",
       "      <td>160.60</td>\n",
       "      <td>160.60</td>\n",
       "      <td>158.40</td>\n",
       "      <td>160.15</td>\n",
       "      <td>0.15</td>\n",
       "      <td>604.0</td>\n",
       "    </tr>\n",
       "    <tr>\n",
       "      <th>3</th>\n",
       "      <td>0053</td>\n",
       "      <td>元大電子</td>\n",
       "      <td>13454.0</td>\n",
       "      <td>1.152698e+06</td>\n",
       "      <td>85.80</td>\n",
       "      <td>86.10</td>\n",
       "      <td>85.10</td>\n",
       "      <td>85.90</td>\n",
       "      <td>0.35</td>\n",
       "      <td>111.0</td>\n",
       "    </tr>\n",
       "    <tr>\n",
       "      <th>4</th>\n",
       "      <td>0055</td>\n",
       "      <td>元大MSCI金融</td>\n",
       "      <td>886594.0</td>\n",
       "      <td>2.242133e+07</td>\n",
       "      <td>25.31</td>\n",
       "      <td>25.45</td>\n",
       "      <td>25.12</td>\n",
       "      <td>25.30</td>\n",
       "      <td>0.04</td>\n",
       "      <td>516.0</td>\n",
       "    </tr>\n",
       "    <tr>\n",
       "      <th>...</th>\n",
       "      <td>...</td>\n",
       "      <td>...</td>\n",
       "      <td>...</td>\n",
       "      <td>...</td>\n",
       "      <td>...</td>\n",
       "      <td>...</td>\n",
       "      <td>...</td>\n",
       "      <td>...</td>\n",
       "      <td>...</td>\n",
       "      <td>...</td>\n",
       "    </tr>\n",
       "    <tr>\n",
       "      <th>1225</th>\n",
       "      <td>9944</td>\n",
       "      <td>新麗</td>\n",
       "      <td>153230.0</td>\n",
       "      <td>3.070965e+06</td>\n",
       "      <td>20.10</td>\n",
       "      <td>20.15</td>\n",
       "      <td>20.00</td>\n",
       "      <td>20.05</td>\n",
       "      <td>0.05</td>\n",
       "      <td>108.0</td>\n",
       "    </tr>\n",
       "    <tr>\n",
       "      <th>1226</th>\n",
       "      <td>9945</td>\n",
       "      <td>潤泰新</td>\n",
       "      <td>6505834.0</td>\n",
       "      <td>2.282793e+08</td>\n",
       "      <td>35.10</td>\n",
       "      <td>35.35</td>\n",
       "      <td>34.90</td>\n",
       "      <td>35.10</td>\n",
       "      <td>-0.25</td>\n",
       "      <td>4629.0</td>\n",
       "    </tr>\n",
       "    <tr>\n",
       "      <th>1227</th>\n",
       "      <td>9946</td>\n",
       "      <td>三發地產</td>\n",
       "      <td>307990.0</td>\n",
       "      <td>7.467439e+06</td>\n",
       "      <td>24.20</td>\n",
       "      <td>24.55</td>\n",
       "      <td>24.00</td>\n",
       "      <td>24.30</td>\n",
       "      <td>-0.20</td>\n",
       "      <td>247.0</td>\n",
       "    </tr>\n",
       "    <tr>\n",
       "      <th>1228</th>\n",
       "      <td>9955</td>\n",
       "      <td>佳龍</td>\n",
       "      <td>388365.0</td>\n",
       "      <td>9.266355e+06</td>\n",
       "      <td>23.85</td>\n",
       "      <td>24.15</td>\n",
       "      <td>23.65</td>\n",
       "      <td>23.85</td>\n",
       "      <td>-0.05</td>\n",
       "      <td>291.0</td>\n",
       "    </tr>\n",
       "    <tr>\n",
       "      <th>1229</th>\n",
       "      <td>9958</td>\n",
       "      <td>世紀鋼</td>\n",
       "      <td>10102754.0</td>\n",
       "      <td>2.258220e+09</td>\n",
       "      <td>220.00</td>\n",
       "      <td>229.00</td>\n",
       "      <td>217.50</td>\n",
       "      <td>221.00</td>\n",
       "      <td>1.50</td>\n",
       "      <td>8846.0</td>\n",
       "    </tr>\n",
       "  </tbody>\n",
       "</table>\n",
       "<p>1230 rows × 10 columns</p>\n",
       "</div>"
      ],
      "text/plain": [
       "      證券代號      證券名稱        成交股數          成交金額     開盤價     最高價     最低價  \\\n",
       "0     0050    元大台灣50   7163593.0  1.126524e+09  157.50  158.25  156.50   \n",
       "1     0051   元大中型100     44071.0  3.463451e+06   78.65   78.80   78.30   \n",
       "2     0052      富邦科技    415163.0  6.626355e+07  160.60  160.60  158.40   \n",
       "3     0053      元大電子     13454.0  1.152698e+06   85.80   86.10   85.10   \n",
       "4     0055  元大MSCI金融    886594.0  2.242133e+07   25.31   25.45   25.12   \n",
       "...    ...       ...         ...           ...     ...     ...     ...   \n",
       "1225  9944        新麗    153230.0  3.070965e+06   20.10   20.15   20.00   \n",
       "1226  9945       潤泰新   6505834.0  2.282793e+08   35.10   35.35   34.90   \n",
       "1227  9946      三發地產    307990.0  7.467439e+06   24.20   24.55   24.00   \n",
       "1228  9955        佳龍    388365.0  9.266355e+06   23.85   24.15   23.65   \n",
       "1229  9958       世紀鋼  10102754.0  2.258220e+09  220.00  229.00  217.50   \n",
       "\n",
       "         收盤價  漲跌價差    成交筆數  \n",
       "0     157.20 -0.20  8945.0  \n",
       "1      78.40 -0.25   209.0  \n",
       "2     160.15  0.15   604.0  \n",
       "3      85.90  0.35   111.0  \n",
       "4      25.30  0.04   516.0  \n",
       "...      ...   ...     ...  \n",
       "1225   20.05  0.05   108.0  \n",
       "1226   35.10 -0.25  4629.0  \n",
       "1227   24.30 -0.20   247.0  \n",
       "1228   23.85 -0.05   291.0  \n",
       "1229  221.00  1.50  8846.0  \n",
       "\n",
       "[1230 rows x 10 columns]"
      ]
     },
     "execution_count": 19,
     "metadata": {},
     "output_type": "execute_result"
    }
   ],
   "source": [
    "twse"
   ]
  },
  {
   "cell_type": "code",
   "execution_count": 20,
   "id": "a611e44b",
   "metadata": {
    "slideshow": {
     "slide_type": "subslide"
    }
   },
   "outputs": [
    {
     "name": "stdout",
     "output_type": "stream",
     "text": [
      "<class 'pandas.core.frame.DataFrame'>\n"
     ]
    }
   ],
   "source": [
    "data_name = \"MarketDataOfMajorInstitutionalTradersDividedByFuturesAndOptionsBytheDate\"\n",
    "api_url = f\"https://www.taifex.com.tw/data_gov/taifex_open_data.asp?data_name={data_name}\"\n",
    "response = requests.get(api_url)\n",
    "string_io_response_text = io.StringIO(response.text)\n",
    "taifex = pd.read_csv(string_io_response_text)\n",
    "print(type(taifex))"
   ]
  },
  {
   "cell_type": "code",
   "execution_count": 21,
   "id": "cf195cdc",
   "metadata": {
    "slideshow": {
     "slide_type": "subslide"
    }
   },
   "outputs": [
    {
     "data": {
      "text/html": [
       "<div>\n",
       "<style scoped>\n",
       "    .dataframe tbody tr th:only-of-type {\n",
       "        vertical-align: middle;\n",
       "    }\n",
       "\n",
       "    .dataframe tbody tr th {\n",
       "        vertical-align: top;\n",
       "    }\n",
       "\n",
       "    .dataframe thead th {\n",
       "        text-align: right;\n",
       "    }\n",
       "</style>\n",
       "<table border=\"1\" class=\"dataframe\">\n",
       "  <thead>\n",
       "    <tr style=\"text-align: right;\">\n",
       "      <th></th>\n",
       "      <th>日期</th>\n",
       "      <th>身份別</th>\n",
       "      <th>期貨多方交易口數</th>\n",
       "      <th>選擇權多方交易口數</th>\n",
       "      <th>期貨多方交易契約金額(千元)</th>\n",
       "      <th>選擇權多方交易契約金額(千元)</th>\n",
       "      <th>期貨空方交易口數</th>\n",
       "      <th>選擇權空方交易口數</th>\n",
       "      <th>期貨空方交易契約金額(千元)</th>\n",
       "      <th>選擇權空方交易契約金額(千元)</th>\n",
       "      <th>...</th>\n",
       "      <th>期貨多方未平倉契約金額(千元)</th>\n",
       "      <th>選擇權多方未平倉契約金額(千元)</th>\n",
       "      <th>期貨空方未平倉口數</th>\n",
       "      <th>選擇權空方未平倉口數</th>\n",
       "      <th>期貨空方未平倉契約金額(千元)</th>\n",
       "      <th>選擇權空方未平倉契約金額(千元)</th>\n",
       "      <th>期貨多空未平倉口數淨額</th>\n",
       "      <th>選擇權多空未平倉口數淨額</th>\n",
       "      <th>期貨多空未平倉契約金額淨額(千元)</th>\n",
       "      <th>選擇權多空未平倉契約金額淨額(千元)</th>\n",
       "    </tr>\n",
       "  </thead>\n",
       "  <tbody>\n",
       "    <tr>\n",
       "      <th>0</th>\n",
       "      <td>20240322</td>\n",
       "      <td>自營商</td>\n",
       "      <td>58556</td>\n",
       "      <td>235407</td>\n",
       "      <td>62737598</td>\n",
       "      <td>839068</td>\n",
       "      <td>73927</td>\n",
       "      <td>241996</td>\n",
       "      <td>66006750</td>\n",
       "      <td>868966</td>\n",
       "      <td>...</td>\n",
       "      <td>25434300</td>\n",
       "      <td>863266</td>\n",
       "      <td>317312</td>\n",
       "      <td>105853</td>\n",
       "      <td>132758320</td>\n",
       "      <td>578870</td>\n",
       "      <td>-280321</td>\n",
       "      <td>-8378</td>\n",
       "      <td>-107324020</td>\n",
       "      <td>284396</td>\n",
       "    </tr>\n",
       "    <tr>\n",
       "      <th>1</th>\n",
       "      <td>20240322</td>\n",
       "      <td>投信</td>\n",
       "      <td>296</td>\n",
       "      <td>0</td>\n",
       "      <td>1197238</td>\n",
       "      <td>0</td>\n",
       "      <td>107</td>\n",
       "      <td>0</td>\n",
       "      <td>246877</td>\n",
       "      <td>0</td>\n",
       "      <td>...</td>\n",
       "      <td>55654956</td>\n",
       "      <td>877</td>\n",
       "      <td>10299</td>\n",
       "      <td>0</td>\n",
       "      <td>34748783</td>\n",
       "      <td>0</td>\n",
       "      <td>5726</td>\n",
       "      <td>172</td>\n",
       "      <td>20906173</td>\n",
       "      <td>877</td>\n",
       "    </tr>\n",
       "    <tr>\n",
       "      <th>2</th>\n",
       "      <td>20240322</td>\n",
       "      <td>外資及陸資</td>\n",
       "      <td>336141</td>\n",
       "      <td>179245</td>\n",
       "      <td>424746148</td>\n",
       "      <td>902797</td>\n",
       "      <td>359413</td>\n",
       "      <td>181857</td>\n",
       "      <td>473163906</td>\n",
       "      <td>926249</td>\n",
       "      <td>...</td>\n",
       "      <td>181490422</td>\n",
       "      <td>287178</td>\n",
       "      <td>228556</td>\n",
       "      <td>43855</td>\n",
       "      <td>215673082</td>\n",
       "      <td>206025</td>\n",
       "      <td>-85179</td>\n",
       "      <td>-12035</td>\n",
       "      <td>-34182660</td>\n",
       "      <td>81153</td>\n",
       "    </tr>\n",
       "  </tbody>\n",
       "</table>\n",
       "<p>3 rows × 26 columns</p>\n",
       "</div>"
      ],
      "text/plain": [
       "         日期    身份別  期貨多方交易口數  選擇權多方交易口數  期貨多方交易契約金額(千元)  選擇權多方交易契約金額(千元)  \\\n",
       "0  20240322    自營商     58556     235407        62737598           839068   \n",
       "1  20240322     投信       296          0         1197238                0   \n",
       "2  20240322  外資及陸資    336141     179245       424746148           902797   \n",
       "\n",
       "   期貨空方交易口數  選擇權空方交易口數  期貨空方交易契約金額(千元)  選擇權空方交易契約金額(千元)  ...  期貨多方未平倉契約金額(千元)  \\\n",
       "0     73927     241996        66006750           868966  ...         25434300   \n",
       "1       107          0          246877                0  ...         55654956   \n",
       "2    359413     181857       473163906           926249  ...        181490422   \n",
       "\n",
       "   選擇權多方未平倉契約金額(千元)  期貨空方未平倉口數  選擇權空方未平倉口數  期貨空方未平倉契約金額(千元)  選擇權空方未平倉契約金額(千元)  \\\n",
       "0            863266     317312      105853        132758320            578870   \n",
       "1               877      10299           0         34748783                 0   \n",
       "2            287178     228556       43855        215673082            206025   \n",
       "\n",
       "   期貨多空未平倉口數淨額  選擇權多空未平倉口數淨額  期貨多空未平倉契約金額淨額(千元)  選擇權多空未平倉契約金額淨額(千元)  \n",
       "0      -280321         -8378         -107324020              284396  \n",
       "1         5726           172           20906173                 877  \n",
       "2       -85179        -12035          -34182660               81153  \n",
       "\n",
       "[3 rows x 26 columns]"
      ]
     },
     "execution_count": 21,
     "metadata": {},
     "output_type": "execute_result"
    }
   ],
   "source": [
    "taifex"
   ]
  }
 ],
 "metadata": {
  "celltoolbar": "Slideshow",
  "kernelspec": {
   "display_name": "Python 3 (ipykernel)",
   "language": "python",
   "name": "python3"
  },
  "language_info": {
   "codemirror_mode": {
    "name": "ipython",
    "version": 3
   },
   "file_extension": ".py",
   "mimetype": "text/x-python",
   "name": "python",
   "nbconvert_exporter": "python",
   "pygments_lexer": "ipython3",
   "version": "3.11.4"
  }
 },
 "nbformat": 4,
 "nbformat_minor": 5
}

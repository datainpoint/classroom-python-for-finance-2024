{
 "cells": [
  {
   "cell_type": "markdown",
   "metadata": {
    "deletable": false,
    "slideshow": {
     "slide_type": "slide"
    }
   },
   "source": [
    "# Python 金融資料的處理應用\n",
    "\n",
    "> 兆豐銀行，2024-12-06\n",
    "\n",
    "[郭耀仁](https://hahow.in/@tonykuoyj?tr=tonykuoyj) | yaojenkuo@ntu.edu.tw"
   ]
  },
  {
   "cell_type": "markdown",
   "metadata": {
    "slideshow": {
     "slide_type": "slide"
    }
   },
   "source": [
    "## 關於 Python"
   ]
  },
  {
   "cell_type": "markdown",
   "metadata": {
    "slideshow": {
     "slide_type": "subslide"
    }
   },
   "source": [
    "## 關於 Python 的二三事\n",
    "\n",
    "1. Python 的作者是荷蘭電腦科學家 Guido van Rossum\n",
    "2. Python 的命名源於 Guido van Rossum 非常喜歡電視喜劇 Monty Python's Flying Circus\n",
    "3. Python 的第一版釋出於 1991 年。"
   ]
  },
  {
   "cell_type": "markdown",
   "metadata": {
    "slideshow": {
     "slide_type": "subslide"
    }
   },
   "source": [
    "## 寫作與執行 Python 程式需要三種類型的軟體\n",
    "\n",
    "1. 純文字編輯器：寫作程式的軟體，例如記事本、Visual Studio Code 或 Notepad++。\n",
    "2. 終端機：執行程式的軟體，例如 Windows 的命令提示字元、macOS 的 Terminal。\n",
    "3. Python 直譯器：將 Python 程式翻譯為電腦語言的軟體。"
   ]
  },
  {
   "cell_type": "markdown",
   "metadata": {
    "slideshow": {
     "slide_type": "subslide"
    }
   },
   "source": [
    "## 寫作與執行 Python 程式需要三種類型的軟體（續）\n",
    "\n",
    "- [Microsoft Visual Studio Code](https://code.visualstudio.com/)\n",
    "- [Miniconda](https://docs.anaconda.com/miniconda/)"
   ]
  },
  {
   "cell_type": "markdown",
   "metadata": {
    "slideshow": {
     "slide_type": "subslide"
    }
   },
   "source": [
    "## 初登場的兩個 Python 程式\n",
    "\n",
    "1. 哈囉世界。\n",
    "2. Python 禪學（The Zen of Python）。"
   ]
  },
  {
   "cell_type": "markdown",
   "metadata": {
    "slideshow": {
     "slide_type": "subslide"
    }
   },
   "source": [
    "## 哈囉世界\n",
    "\n",
    "- `print()` 是 Python 的內建函數，可以將小括號中的輸入印出。\n",
    "- `\"Hello world!\"` 是屬於 `str` 類別的字面值（Literal value）。"
   ]
  },
  {
   "cell_type": "code",
   "execution_count": 1,
   "metadata": {},
   "outputs": [
    {
     "name": "stdout",
     "output_type": "stream",
     "text": [
      "Hello world!\n"
     ]
    }
   ],
   "source": [
    "print(\"Hello world!\")"
   ]
  },
  {
   "cell_type": "markdown",
   "metadata": {
    "slideshow": {
     "slide_type": "subslide"
    }
   },
   "source": [
    "## Python 禪學（The Zen of Python）\n",
    "\n",
    "- `import` 是 Python 的保留字（Keywords），可以載入模組。\n",
    "- `this` 是 Python 的一個標準模組，可以印出 Python 禪學。"
   ]
  },
  {
   "cell_type": "code",
   "execution_count": 2,
   "metadata": {},
   "outputs": [
    {
     "name": "stdout",
     "output_type": "stream",
     "text": [
      "The Zen of Python, by Tim Peters\n",
      "\n",
      "Beautiful is better than ugly.\n",
      "Explicit is better than implicit.\n",
      "Simple is better than complex.\n",
      "Complex is better than complicated.\n",
      "Flat is better than nested.\n",
      "Sparse is better than dense.\n",
      "Readability counts.\n",
      "Special cases aren't special enough to break the rules.\n",
      "Although practicality beats purity.\n",
      "Errors should never pass silently.\n",
      "Unless explicitly silenced.\n",
      "In the face of ambiguity, refuse the temptation to guess.\n",
      "There should be one-- and preferably only one --obvious way to do it.\n",
      "Although that way may not be obvious at first unless you're Dutch.\n",
      "Now is better than never.\n",
      "Although never is often better than *right* now.\n",
      "If the implementation is hard to explain, it's a bad idea.\n",
      "If the implementation is easy to explain, it may be a good idea.\n",
      "Namespaces are one honking great idea -- let's do more of those!\n"
     ]
    }
   ],
   "source": [
    "import this"
   ]
  },
  {
   "cell_type": "markdown",
   "metadata": {
    "slideshow": {
     "slide_type": "subslide"
    }
   },
   "source": [
    "## 物件與函數的命名規則\n",
    "\n",
    "- 使用全小寫英文，採用蛇形命名法（Snake case），不同單字之間以底線 `_` 相隔。\n",
    "- 不能使用保留字作命名。\n",
    "- 使用單數名詞為資料類別的物件命名、使用複數名詞為資料結構類別的物件命名、使用動詞為函數或方法命名，盡量讓名稱簡潔且具有意義。\n",
    "- 不要使用內建函數作物件的命名，避免覆蓋內建函數的功能。\n",
    "\n",
    "來源：[PEP 8 -- Style Guide for Python Code](https://www.python.org/dev/peps/pep-0008/#function-and-variable-names)"
   ]
  },
  {
   "cell_type": "markdown",
   "metadata": {
    "slideshow": {
     "slide_type": "subslide"
    }
   },
   "source": [
    "## 什麼是保留字\n",
    "\n",
    "- 保留字是具有特殊作用的指令。\n",
    "- 目前有看過的 `import`、`def` 與 `return` 等都是 Python 的保留字。\n",
    "- Python 的保留字一覽：<https://docs.python.org/3/reference/lexical_analysis.html#keywords>"
   ]
  },
  {
   "cell_type": "markdown",
   "metadata": {
    "slideshow": {
     "slide_type": "subslide"
    }
   },
   "source": [
    "## 有時候我們在程式碼之中會看到用來解釋的說明文字\n",
    "\n",
    "- 註解（Comments）是口語化的文字敘述，以 `#` 標記，並不能夠被翻譯成電腦語言。\n",
    "- 註解可以細分為單行註解、行末註解。"
   ]
  },
  {
   "cell_type": "markdown",
   "metadata": {
    "slideshow": {
     "slide_type": "subslide"
    }
   },
   "source": [
    "## 五種基礎資料類別\n",
    "\n",
    "1. `int`(integer)\n",
    "2. `float`\n",
    "3. `str`(string)\n",
    "4. `bool`(boolean)\n",
    "5. `NoneType`"
   ]
  },
  {
   "cell_type": "markdown",
   "metadata": {
    "slideshow": {
     "slide_type": "subslide"
    }
   },
   "source": [
    "## 基礎資料類別的存在就是為了讓電腦能夠\n",
    "\n",
    "- 以 `int` 與 `float` 進行數值計算。\n",
    "- 以 `str` 表達與進行文字操作處理。\n",
    "- 以 `bool` 進行流程控制。"
   ]
  },
  {
   "cell_type": "code",
   "execution_count": 1,
   "metadata": {
    "slideshow": {
     "slide_type": "subslide"
    }
   },
   "outputs": [],
   "source": [
    "import io\n",
    "import requests\n",
    "import pandas as pd"
   ]
  },
  {
   "cell_type": "code",
   "execution_count": 2,
   "metadata": {},
   "outputs": [
    {
     "data": {
      "text/html": [
       "<div>\n",
       "<style scoped>\n",
       "    .dataframe tbody tr th:only-of-type {\n",
       "        vertical-align: middle;\n",
       "    }\n",
       "\n",
       "    .dataframe tbody tr th {\n",
       "        vertical-align: top;\n",
       "    }\n",
       "\n",
       "    .dataframe thead th {\n",
       "        text-align: right;\n",
       "    }\n",
       "</style>\n",
       "<table border=\"1\" class=\"dataframe\">\n",
       "  <thead>\n",
       "    <tr style=\"text-align: right;\">\n",
       "      <th></th>\n",
       "      <th>證券代號</th>\n",
       "      <th>證券名稱</th>\n",
       "      <th>成交股數</th>\n",
       "      <th>成交金額</th>\n",
       "      <th>開盤價</th>\n",
       "      <th>最高價</th>\n",
       "      <th>最低價</th>\n",
       "      <th>收盤價</th>\n",
       "      <th>漲跌價差</th>\n",
       "      <th>成交筆數</th>\n",
       "    </tr>\n",
       "  </thead>\n",
       "  <tbody>\n",
       "    <tr>\n",
       "      <th>0</th>\n",
       "      <td>0050</td>\n",
       "      <td>元大台灣50</td>\n",
       "      <td>10613810.0</td>\n",
       "      <td>2.062838e+09</td>\n",
       "      <td>194.30</td>\n",
       "      <td>194.85</td>\n",
       "      <td>193.75</td>\n",
       "      <td>194.30</td>\n",
       "      <td>2.60</td>\n",
       "      <td>14838.0</td>\n",
       "    </tr>\n",
       "    <tr>\n",
       "      <th>1</th>\n",
       "      <td>0051</td>\n",
       "      <td>元大中型100</td>\n",
       "      <td>71284.0</td>\n",
       "      <td>5.561550e+06</td>\n",
       "      <td>77.65</td>\n",
       "      <td>78.25</td>\n",
       "      <td>77.65</td>\n",
       "      <td>78.05</td>\n",
       "      <td>0.60</td>\n",
       "      <td>275.0</td>\n",
       "    </tr>\n",
       "    <tr>\n",
       "      <th>2</th>\n",
       "      <td>0052</td>\n",
       "      <td>富邦科技</td>\n",
       "      <td>1033651.0</td>\n",
       "      <td>1.976977e+08</td>\n",
       "      <td>191.05</td>\n",
       "      <td>191.95</td>\n",
       "      <td>190.50</td>\n",
       "      <td>190.90</td>\n",
       "      <td>2.75</td>\n",
       "      <td>1445.0</td>\n",
       "    </tr>\n",
       "    <tr>\n",
       "      <th>3</th>\n",
       "      <td>0053</td>\n",
       "      <td>元大電子</td>\n",
       "      <td>10444.0</td>\n",
       "      <td>1.069091e+06</td>\n",
       "      <td>102.20</td>\n",
       "      <td>102.65</td>\n",
       "      <td>102.20</td>\n",
       "      <td>102.45</td>\n",
       "      <td>1.30</td>\n",
       "      <td>135.0</td>\n",
       "    </tr>\n",
       "    <tr>\n",
       "      <th>4</th>\n",
       "      <td>0055</td>\n",
       "      <td>元大MSCI金融</td>\n",
       "      <td>405153.0</td>\n",
       "      <td>1.148577e+07</td>\n",
       "      <td>28.27</td>\n",
       "      <td>28.50</td>\n",
       "      <td>28.27</td>\n",
       "      <td>28.45</td>\n",
       "      <td>0.28</td>\n",
       "      <td>353.0</td>\n",
       "    </tr>\n",
       "  </tbody>\n",
       "</table>\n",
       "</div>"
      ],
      "text/plain": [
       "   證券代號      證券名稱        成交股數          成交金額     開盤價     最高價     最低價     收盤價  \\\n",
       "0  0050    元大台灣50  10613810.0  2.062838e+09  194.30  194.85  193.75  194.30   \n",
       "1  0051   元大中型100     71284.0  5.561550e+06   77.65   78.25   77.65   78.05   \n",
       "2  0052      富邦科技   1033651.0  1.976977e+08  191.05  191.95  190.50  190.90   \n",
       "3  0053      元大電子     10444.0  1.069091e+06  102.20  102.65  102.20  102.45   \n",
       "4  0055  元大MSCI金融    405153.0  1.148577e+07   28.27   28.50   28.27   28.45   \n",
       "\n",
       "   漲跌價差     成交筆數  \n",
       "0  2.60  14838.0  \n",
       "1  0.60    275.0  \n",
       "2  2.75   1445.0  \n",
       "3  1.30    135.0  \n",
       "4  0.28    353.0  "
      ]
     },
     "execution_count": 2,
     "metadata": {},
     "output_type": "execute_result"
    }
   ],
   "source": [
    "data_name = \"STOCK_DAY_ALL\"\n",
    "api_url = f\"https://www.twse.com.tw/exchangeReport/{data_name}?response=open_data\"\n",
    "response = requests.get(api_url)\n",
    "string_io_response_text = io.StringIO(response.text)\n",
    "twse = pd.read_csv(string_io_response_text)\n",
    "twse.head()"
   ]
  },
  {
   "cell_type": "code",
   "execution_count": 9,
   "metadata": {
    "slideshow": {
     "slide_type": "subslide"
    }
   },
   "outputs": [
    {
     "name": "stdout",
     "output_type": "stream",
     "text": [
      "(1270, 10)\n",
      "證券代號     object\n",
      "證券名稱     object\n",
      "成交股數    float64\n",
      "成交金額    float64\n",
      "開盤價     float64\n",
      "最高價     float64\n",
      "最低價     float64\n",
      "收盤價     float64\n",
      "漲跌價差    float64\n",
      "成交筆數    float64\n",
      "dtype: object\n",
      "0         元大台灣50\n",
      "1        元大中型100\n",
      "2           富邦科技\n",
      "3           元大電子\n",
      "4       元大MSCI金融\n",
      "          ...   \n",
      "1265          新麗\n",
      "1266         潤泰新\n",
      "1267        三發地產\n",
      "1268          佳龍\n",
      "1269         世紀鋼\n",
      "Name: 證券名稱, Length: 1270, dtype: object\n"
     ]
    }
   ],
   "source": [
    "# int\n",
    "print(twse.shape)\n",
    "# float\n",
    "print(twse.dtypes)\n",
    "# str\n",
    "print(twse[\"證券名稱\"])"
   ]
  },
  {
   "cell_type": "code",
   "execution_count": 11,
   "metadata": {
    "slideshow": {
     "slide_type": "subslide"
    }
   },
   "outputs": [
    {
     "name": "stdout",
     "output_type": "stream",
     "text": [
      "0       False\n",
      "1       False\n",
      "2       False\n",
      "3       False\n",
      "4       False\n",
      "        ...  \n",
      "1265    False\n",
      "1266    False\n",
      "1267    False\n",
      "1268    False\n",
      "1269    False\n",
      "Name: 證券名稱, Length: 1270, dtype: bool\n",
      "86\n"
     ]
    }
   ],
   "source": [
    "# bool\n",
    "print(twse[\"證券名稱\"].str.contains(\"KY\"))\n",
    "print(twse[\"證券名稱\"].str.contains(\"KY\").sum())"
   ]
  },
  {
   "cell_type": "markdown",
   "metadata": {
    "slideshow": {
     "slide_type": "subslide"
    }
   },
   "source": [
    "## Python 內建的四個資料結構類別\n",
    "\n",
    "1. `list`\n",
    "2. `tuple`\n",
    "3. `dict`(dictionary)\n",
    "4. `set`"
   ]
  },
  {
   "cell_type": "markdown",
   "metadata": {
    "slideshow": {
     "slide_type": "subslide"
    }
   },
   "source": [
    "## `list`\n",
    "\n",
    "- `list` 是一種「有序」且能夠「更新」的資料結構。\n",
    "- `list` 可以透過「逗號」`,` 分隔值與「中括號」`[]` 形成。"
   ]
  },
  {
   "cell_type": "code",
   "execution_count": 14,
   "metadata": {},
   "outputs": [
    {
     "name": "stdout",
     "output_type": "stream",
     "text": [
      "<class 'list'>\n",
      "1270\n"
     ]
    }
   ],
   "source": [
    "# list\n",
    "print(type(twse[\"成交股數\"].values.tolist()))\n",
    "print(len(twse[\"成交股數\"].values.tolist()))"
   ]
  },
  {
   "cell_type": "markdown",
   "metadata": {
    "slideshow": {
     "slide_type": "subslide"
    }
   },
   "source": [
    "## `tuple`\n",
    "\n",
    "- `tuple` 是一種「有序」且「不能夠更新」的資料結構。\n",
    "- `tuple` 可以透過「逗號」`,` 分隔值與「小括號」`()` 形成。"
   ]
  },
  {
   "cell_type": "code",
   "execution_count": 16,
   "metadata": {},
   "outputs": [
    {
     "name": "stdout",
     "output_type": "stream",
     "text": [
      "<class 'tuple'>\n",
      "(1270, 10)\n"
     ]
    }
   ],
   "source": [
    "# tuple\n",
    "print(type(twse.shape))\n",
    "print(twse.shape)"
   ]
  },
  {
   "cell_type": "markdown",
   "metadata": {
    "slideshow": {
     "slide_type": "subslide"
    }
   },
   "source": [
    "## `tuple` 與 `list` 最大的不同點，在於 `tuple`「不能夠更新」的特性\n",
    "\n",
    "以更新 `list` 的語法更新 `tuple` 會產生錯誤。"
   ]
  },
  {
   "cell_type": "markdown",
   "metadata": {
    "slideshow": {
     "slide_type": "subslide"
    }
   },
   "source": [
    "## `dict`\n",
    "\n",
    "- `dict` 是一種使用「鍵值對應」關係的資料結構。\n",
    "- `dict` 可以透過「逗號」`,`、「鍵值對應」`key: value` 與「大括號」`{}` 形成。"
   ]
  },
  {
   "cell_type": "markdown",
   "metadata": {
    "slideshow": {
     "slide_type": "subslide"
    }
   },
   "source": [
    "## `dict` 採用以「鍵」取「值」的索引機制\n",
    "\n",
    "```python\n",
    "dict[\"key\"]\n",
    "```"
   ]
  },
  {
   "cell_type": "code",
   "execution_count": 20,
   "metadata": {},
   "outputs": [
    {
     "name": "stdout",
     "output_type": "stream",
     "text": [
      "<class 'dict'>\n",
      "{'證券名稱': '台積電', '成交股數': 48632084.0, '成交金額': 51509603939.0, '開盤價': 1060.0, '最高價': 1065.0, '最低價': 1055.0, '收盤價': 1055.0, '漲跌價差': 20.0, '成交筆數': 55988.0}\n",
      "{'證券名稱': '聯發科', '成交股數': 6211010.0, '成交金額': 8141226882.0, '開盤價': 1325.0, '最高價': 1330.0, '最低價': 1295.0, '收盤價': 1315.0, '漲跌價差': 5.0, '成交筆數': 7911.0}\n"
     ]
    }
   ],
   "source": [
    "# dict\n",
    "twse_dict = twse.set_index(\"證券代號\").to_dict(\"index\")\n",
    "print(type(twse_dict))\n",
    "print(twse_dict[\"2330\"])\n",
    "print(twse_dict[\"2454\"])"
   ]
  },
  {
   "cell_type": "markdown",
   "metadata": {
    "slideshow": {
     "slide_type": "subslide"
    }
   },
   "source": [
    "## `set`\n",
    "\n",
    "- `set` 是一種「無序」、儲存「獨一值」並且能夠進行「集合運算」的資料結構。\n",
    "- `set` 可以透過「逗號」`,` 分隔值與「大括號」`{}` 形成。"
   ]
  },
  {
   "cell_type": "code",
   "execution_count": 23,
   "metadata": {},
   "outputs": [
    {
     "name": "stdout",
     "output_type": "stream",
     "text": [
      "<class 'set'>\n"
     ]
    }
   ],
   "source": [
    "# set\n",
    "ticker_set = set(twse[\"證券代號\"].values)\n",
    "print(type(ticker_set))"
   ]
  },
  {
   "cell_type": "markdown",
   "metadata": {
    "slideshow": {
     "slide_type": "subslide"
    }
   },
   "source": [
    "## 使用 `if` 依據條件決定是否執行程式區塊\n",
    "\n",
    "```python\n",
    "if 條件:\n",
    "    # 依附 if 敘述的程式區塊。\n",
    "    # 當條件為 True 的時候程式區塊才會被執行。\n",
    "```"
   ]
  },
  {
   "cell_type": "markdown",
   "metadata": {
    "slideshow": {
     "slide_type": "subslide"
    }
   },
   "source": [
    "## 使用 `if...else...` 依據條件決定執行兩個程式區塊其中的一個\n",
    "\n",
    "```python\n",
    "if 條件:\n",
    "    # 依附 if 敘述的程式區塊。\n",
    "    # 當條件為 True 的時候會被執行。\n",
    "else:\n",
    "    # 依附 else 敘述的程式區塊。\n",
    "    # 當條件為 False 的時候會被執行。\n",
    "```"
   ]
  },
  {
   "cell_type": "markdown",
   "metadata": {
    "slideshow": {
     "slide_type": "subslide"
    }
   },
   "source": [
    "## 使用 `if...elif...else...` 依據條件決定執行多個程式區塊其中的一個\n",
    "\n",
    "```python\n",
    "if 條件一:\n",
    "    # 依附 if 敘述的程式區塊。\n",
    "    # 當條件一為 True 的時候會被執行。\n",
    "elif 條件二:\n",
    "    # 依附 elif 敘述的程式區塊。\n",
    "    # 當條件一為 False 、條件二為 True 的時候會被執行。\n",
    "else:\n",
    "    # 依附 else 敘述的程式區塊。\n",
    "    # 當條件一、條件二均為 False 的時候會被執行。\n",
    "```"
   ]
  },
  {
   "cell_type": "code",
   "execution_count": 32,
   "metadata": {
    "slideshow": {
     "slide_type": "subslide"
    }
   },
   "outputs": [
    {
     "name": "stdout",
     "output_type": "stream",
     "text": [
      "非KY股\n"
     ]
    }
   ],
   "source": [
    "if \"KY\" in twse[\"證券名稱\"][0]:\n",
    "    print(\"KY股\")\n",
    "else:\n",
    "    print(\"非KY股\")"
   ]
  },
  {
   "cell_type": "markdown",
   "metadata": {
    "slideshow": {
     "slide_type": "subslide"
    }
   },
   "source": [
    "## 兩種常見的迴圈\n",
    "\n",
    "1. `while` 迴圈：重複執行程式區塊直到條件為 `False` 的時候。\n",
    "2. `for` 迴圈：走訪可迭代類別中的所有元素。"
   ]
  },
  {
   "cell_type": "markdown",
   "metadata": {
    "slideshow": {
     "slide_type": "subslide"
    }
   },
   "source": [
    "## 使用 `while` 依據條件決定是否重複執行程式區塊\n",
    "\n",
    "```python\n",
    "while 條件:\n",
    "    # 依附 while 敘述的程式區塊。\n",
    "    # 當條件為 True 的時候程式區塊會被重複執行。\n",
    "    # 當條件為 False 的時候停止執行程式區塊。\n",
    "```"
   ]
  },
  {
   "cell_type": "markdown",
   "metadata": {
    "slideshow": {
     "slide_type": "subslide"
    }
   },
   "source": [
    "## 如何寫作一個 `while` 迴圈\n",
    "\n",
    "- 在迴圈程式區塊之前定義一個物件設定起始值。\n",
    "- 設計條件讓程式區塊重複執行的次數符合我們的需求。\n",
    "- 記得在程式區塊中更新物件的值。"
   ]
  },
  {
   "cell_type": "markdown",
   "metadata": {
    "slideshow": {
     "slide_type": "subslide"
    }
   },
   "source": [
    "## 在程式區塊中更新物件的值更常會使用複合運算符（Compound operators）\n",
    "\n",
    "- `integer += 1` 等同於 `integer = integer + 1` \n",
    "- `integer -= 1` 等同於 `integer = integer - 1` \n",
    "- `integer *= 1` 等同於 `integer = integer * 1` \n",
    "- `integer /= 1` 等同於 `integer = integer / 1` \n",
    "- ...等。"
   ]
  },
  {
   "cell_type": "markdown",
   "metadata": {
    "slideshow": {
     "slide_type": "subslide"
    }
   },
   "source": [
    "## 使用 `for` 走訪可迭代類別（Iterables）中的所有元素\n",
    "\n",
    "```python\n",
    "for 元素 in 可迭代類別:\n",
    "    # 依附 for 敘述的程式區塊。\n",
    "    # 當可迭代類別還沒有走訪完的時候程式區塊會被重複執行。\n",
    "    # 當可迭代類別走訪完的時候停止執行程式區塊。\n",
    "```"
   ]
  },
  {
   "cell_type": "markdown",
   "metadata": {
    "slideshow": {
     "slide_type": "subslide"
    }
   },
   "source": [
    "## 什麼是可迭代類別\n",
    "\n",
    "具有一次回傳其中一個資料值特性的類別、輸入到內建函數 `iter()` 不會產生錯誤的類別，都屬於可迭代類別（Iterables），常見的有 `str` 與資料結構。\n",
    "\n",
    "- 資料類別：`str`\n",
    "- 資料結構類別：`list`、`tuple`、`dict`、`set`"
   ]
  },
  {
   "cell_type": "code",
   "execution_count": 29,
   "metadata": {
    "slideshow": {
     "slide_type": "subslide"
    }
   },
   "outputs": [
    {
     "name": "stdout",
     "output_type": "stream",
     "text": [
      "86\n",
      "1184\n"
     ]
    }
   ],
   "source": [
    "ky_tickers = {ticker for ticker, name in zip(twse[\"證券代號\"].values, twse[\"證券名稱\"].values) if \"KY\" in name}\n",
    "non_ky_tickers = set(twse[\"證券代號\"].values).difference(ky_tickers)\n",
    "print(len(ky_tickers))\n",
    "print(len(non_ky_tickers))"
   ]
  },
  {
   "cell_type": "markdown",
   "metadata": {
    "slideshow": {
     "slide_type": "subslide"
    }
   },
   "source": [
    "## Python 提供三種機制供使用者組織程式碼\n",
    "\n",
    "視應用範疇由小到大依序為：\n",
    "\n",
    "1. 函數（Function）。\n",
    "2. 類別（Class）。\n",
    "3. 模組（Module）。"
   ]
  },
  {
   "cell_type": "markdown",
   "metadata": {
    "slideshow": {
     "slide_type": "subslide"
    }
   },
   "source": [
    "## 如何理解程式碼組織機制的層次\n",
    "\n",
    "- 數行程式碼可以組織為一個函數。\n",
    "- 數個函數可以組織為一個類別。\n",
    "- 數個函數或類別可以組織為一個模組。\n",
    "- 數個模組可以組織為一個功能更多的模組。"
   ]
  },
  {
   "cell_type": "markdown",
   "metadata": {
    "slideshow": {
     "slide_type": "subslide"
    }
   },
   "source": [
    "## 函數有四個來源\n",
    "\n",
    "1. 來自內建函數。\n",
    "2. 來自標準模組。\n",
    "3. 來自第三方模組。\n",
    "4. 來自使用者的定義。"
   ]
  },
  {
   "cell_type": "markdown",
   "metadata": {
    "slideshow": {
     "slide_type": "subslide"
    }
   },
   "source": [
    "## 如何自行定義函數\n",
    "\n",
    "- `def` 保留字用來定義函數的名稱。\n",
    "- 縮排部分稱為程式區塊（Code block），是函數的主體，也是練習題要學員運用預期輸入與參數來完成的部分。\n",
    "- 不要忘記把函數的預期輸出寫在 `return` 保留字後。\n",
    "- 函數的類別提示（Typing）並不是必要的。"
   ]
  },
  {
   "cell_type": "markdown",
   "metadata": {
    "slideshow": {
     "slide_type": "subslide"
    }
   },
   "source": [
    "## 自行定義函數的結構\n",
    "\n",
    "```python\n",
    "def function_name(INPUTS: TYPE, ARGUMENTS: TYPE) -> TYPE:\n",
    "    ### BEGIN SOLUTION\n",
    "    OUTPUTS = INPUTS (+-*/...) ARGUMENTS\n",
    "    return OUTPUTS\n",
    "    ### END SOLUTION\n",
    "```"
   ]
  },
  {
   "cell_type": "markdown",
   "metadata": {
    "slideshow": {
     "slide_type": "subslide"
    }
   },
   "source": [
    "## 定義與使用函數的差別\n",
    "\n",
    "- 完成定義函數以後，還需要使用函數才會將引數傳入運算。\n",
    "- 定義函數的當下只有與語法錯誤相似的錯誤（例如縮排錯誤）會發起例外。\n",
    "- 如果是執行錯誤，在使用函數時才會發起。"
   ]
  },
  {
   "cell_type": "code",
   "execution_count": 33,
   "metadata": {
    "slideshow": {
     "slide_type": "subslide"
    }
   },
   "outputs": [],
   "source": [
    "def get_open_data(*args):\n",
    "    data_name = \"STOCK_DAY_ALL\"\n",
    "    api_url = f\"https://www.twse.com.tw/exchangeReport/{data_name}?response=open_data\"\n",
    "    response = requests.get(api_url)\n",
    "    string_io_response_text = io.StringIO(response.text)\n",
    "    twse = pd.read_csv(string_io_response_text)\n",
    "    stocks = twse[twse[\"證券代號\"].isin(args)]\n",
    "    return stocks"
   ]
  },
  {
   "cell_type": "code",
   "execution_count": 34,
   "metadata": {
    "slideshow": {
     "slide_type": "subslide"
    }
   },
   "outputs": [
    {
     "data": {
      "text/html": [
       "<div>\n",
       "<style scoped>\n",
       "    .dataframe tbody tr th:only-of-type {\n",
       "        vertical-align: middle;\n",
       "    }\n",
       "\n",
       "    .dataframe tbody tr th {\n",
       "        vertical-align: top;\n",
       "    }\n",
       "\n",
       "    .dataframe thead th {\n",
       "        text-align: right;\n",
       "    }\n",
       "</style>\n",
       "<table border=\"1\" class=\"dataframe\">\n",
       "  <thead>\n",
       "    <tr style=\"text-align: right;\">\n",
       "      <th></th>\n",
       "      <th>證券代號</th>\n",
       "      <th>證券名稱</th>\n",
       "      <th>成交股數</th>\n",
       "      <th>成交金額</th>\n",
       "      <th>開盤價</th>\n",
       "      <th>最高價</th>\n",
       "      <th>最低價</th>\n",
       "      <th>收盤價</th>\n",
       "      <th>漲跌價差</th>\n",
       "      <th>成交筆數</th>\n",
       "    </tr>\n",
       "  </thead>\n",
       "  <tbody>\n",
       "    <tr>\n",
       "      <th>0</th>\n",
       "      <td>0050</td>\n",
       "      <td>元大台灣50</td>\n",
       "      <td>10613810.0</td>\n",
       "      <td>2.062838e+09</td>\n",
       "      <td>194.3</td>\n",
       "      <td>194.85</td>\n",
       "      <td>193.75</td>\n",
       "      <td>194.30</td>\n",
       "      <td>2.6</td>\n",
       "      <td>14838.0</td>\n",
       "    </tr>\n",
       "    <tr>\n",
       "      <th>13</th>\n",
       "      <td>006208</td>\n",
       "      <td>富邦台50</td>\n",
       "      <td>10048421.0</td>\n",
       "      <td>1.132388e+09</td>\n",
       "      <td>113.5</td>\n",
       "      <td>113.50</td>\n",
       "      <td>112.30</td>\n",
       "      <td>112.45</td>\n",
       "      <td>1.3</td>\n",
       "      <td>14060.0</td>\n",
       "    </tr>\n",
       "    <tr>\n",
       "      <th>485</th>\n",
       "      <td>2330</td>\n",
       "      <td>台積電</td>\n",
       "      <td>48632084.0</td>\n",
       "      <td>5.150960e+10</td>\n",
       "      <td>1060.0</td>\n",
       "      <td>1065.00</td>\n",
       "      <td>1055.00</td>\n",
       "      <td>1055.00</td>\n",
       "      <td>20.0</td>\n",
       "      <td>55988.0</td>\n",
       "    </tr>\n",
       "    <tr>\n",
       "      <th>571</th>\n",
       "      <td>2454</td>\n",
       "      <td>聯發科</td>\n",
       "      <td>6211010.0</td>\n",
       "      <td>8.141227e+09</td>\n",
       "      <td>1325.0</td>\n",
       "      <td>1330.00</td>\n",
       "      <td>1295.00</td>\n",
       "      <td>1315.00</td>\n",
       "      <td>5.0</td>\n",
       "      <td>7911.0</td>\n",
       "    </tr>\n",
       "  </tbody>\n",
       "</table>\n",
       "</div>"
      ],
      "text/plain": [
       "       證券代號    證券名稱        成交股數          成交金額     開盤價      最高價      最低價  \\\n",
       "0      0050  元大台灣50  10613810.0  2.062838e+09   194.3   194.85   193.75   \n",
       "13   006208   富邦台50  10048421.0  1.132388e+09   113.5   113.50   112.30   \n",
       "485    2330     台積電  48632084.0  5.150960e+10  1060.0  1065.00  1055.00   \n",
       "571    2454     聯發科   6211010.0  8.141227e+09  1325.0  1330.00  1295.00   \n",
       "\n",
       "         收盤價  漲跌價差     成交筆數  \n",
       "0     194.30   2.6  14838.0  \n",
       "13    112.45   1.3  14060.0  \n",
       "485  1055.00  20.0  55988.0  \n",
       "571  1315.00   5.0   7911.0  "
      ]
     },
     "execution_count": 34,
     "metadata": {},
     "output_type": "execute_result"
    }
   ],
   "source": [
    "get_open_data(\"0050\", \"006208\", \"2330\", \"2454\")"
   ]
  },
  {
   "cell_type": "markdown",
   "metadata": {
    "slideshow": {
     "slide_type": "subslide"
    }
   },
   "source": [
    "## 兩種不同的程式設計\n",
    "\n",
    "1. 程序型程式設計（Procedural programming）。\n",
    "2. 物件導向程式設計（Object-oriented programming, OOP）。"
   ]
  },
  {
   "cell_type": "markdown",
   "metadata": {
    "slideshow": {
     "slide_type": "subslide"
    }
   },
   "source": [
    "## 程序型程式設計\n",
    "\n",
    "以函數為主體的撰寫程式型態稱為「程序型程式設計（Procedural programming）」，把即將要執行的程式碼組織為函數，並依序使用這些函數來完成任務。\n",
    "\n",
    "```python\n",
    "def function_one():\n",
    "    ...\n",
    "    return ...\n",
    "    \n",
    "def function_two():\n",
    "    ...\n",
    "    return ...\n",
    "\n",
    "function_one()\n",
    "function_two()\n",
    "```"
   ]
  },
  {
   "cell_type": "markdown",
   "metadata": {
    "slideshow": {
     "slide_type": "subslide"
    }
   },
   "source": [
    "## 物件導向程式設計\n",
    "\n",
    "除了程序型程式設計，另外一種在軟體開發中被採用的撰寫程式型態稱為「物件導向程式設計（Object-oriented programming, OOP）」。\n",
    "\n",
    "```python\n",
    "class class_one:\n",
    "    def method_one(self):\n",
    "        ...\n",
    "        return ...\n",
    "\n",
    "object_one = class_one()\n",
    "object_one.method_one()\n",
    "```"
   ]
  },
  {
   "cell_type": "markdown",
   "metadata": {
    "slideshow": {
     "slide_type": "subslide"
    }
   },
   "source": [
    "## 常用的內建類別\n",
    "\n",
    "- 資料\n",
    "    - `int`\n",
    "    - `float`\n",
    "    - `str`\n",
    "    - `bool`\n",
    "    - `NoneType`"
   ]
  },
  {
   "cell_type": "markdown",
   "metadata": {
    "slideshow": {
     "slide_type": "subslide"
    }
   },
   "source": [
    "## 常用的內建類別（續）\n",
    "\n",
    "- 資料結構\n",
    "    - `list`\n",
    "    - `tuple`\n",
    "    - `dict`\n",
    "    - `set`"
   ]
  },
  {
   "cell_type": "markdown",
   "metadata": {
    "slideshow": {
     "slide_type": "subslide"
    }
   },
   "source": [
    "## 資料科學模組主要提供的類別\n",
    "\n",
    "- 資料結構：\n",
    "    - `ndarray`\n",
    "    - `Index`\n",
    "    - `Series`\n",
    "    - `DataFrame`"
   ]
  },
  {
   "cell_type": "markdown",
   "metadata": {
    "slideshow": {
     "slide_type": "subslide"
    }
   },
   "source": [
    "## 設計類別時可以定義函數與資料\n",
    "\n",
    "- 在類別程式區塊中定義的函數，實例化後稱為物件的方法（Methods）。\n",
    "- 在類別程式區塊中定義的資料，實例化後稱為物件的屬性（Attributes）。"
   ]
  },
  {
   "cell_type": "markdown",
   "metadata": {
    "slideshow": {
     "slide_type": "subslide"
    }
   },
   "source": [
    "## 使用 `class` 保留字定義類別\n",
    "\n",
    "> 類別的命名習慣與物件、函數不同，非採用蛇形命名法，而是採用首字大寫的 CapWords 命名法。\n",
    "\n",
    "來源：<https://www.python.org/dev/peps/pep-0008/#class-names>"
   ]
  },
  {
   "cell_type": "markdown",
   "metadata": {
    "slideshow": {
     "slide_type": "subslide"
    }
   },
   "source": [
    "## 在類別程式區塊中使用 `def` 保留字定義函數\n",
    "\n",
    "在類別程式區塊中定義的函數，實例化後稱為物件的**方法**。\n",
    "\n",
    "```python\n",
    "class ClassName:\n",
    "    def method_name(self):\n",
    "        ...\n",
    "        return ...\n",
    "\n",
    "object_name = ClassName()\n",
    "object_name.method_name()\n",
    "```"
   ]
  },
  {
   "cell_type": "markdown",
   "metadata": {
    "slideshow": {
     "slide_type": "subslide"
    }
   },
   "source": [
    "## 如何理解 `self`\n",
    "\n",
    "- 使用物件的方法必須要指定物件名稱：`object.method()`\n",
    "- 可是設計類別的人不會知道物件名稱為何，因為實例化的物件名稱是由使用者所決定的。\n",
    "- 若是要在定義類別的階段描述方法，就必須先給物件一個代名詞：`self` 作為第一個參數名稱。"
   ]
  },
  {
   "cell_type": "markdown",
   "metadata": {
    "slideshow": {
     "slide_type": "subslide"
    }
   },
   "source": [
    "## 如何理解 `self`（續）\n",
    "\n",
    "- 事實上，也不一定要用 `self` 作為第一個參數的名稱，可以用偏好的命名。\n",
    "- 但是 Python 的使用者都習慣 `self`\n",
    "\n",
    "來源：<https://www.python.org/dev/peps/pep-0008/#function-and-method-arguments>"
   ]
  },
  {
   "cell_type": "markdown",
   "metadata": {
    "slideshow": {
     "slide_type": "subslide"
    }
   },
   "source": [
    "## 在類別程式區塊中定義函數 `__init__()` 定義資料\n",
    "\n",
    "- 在類別程式區塊中定義的資料，實例化後稱為物件的屬性。\n",
    "- `__init__()` 函數顧名思義就是在實例化當下就會起作用的函數。"
   ]
  },
  {
   "cell_type": "markdown",
   "metadata": {
    "slideshow": {
     "slide_type": "subslide"
    }
   },
   "source": [
    "## 如何理解 `self`（續）\n",
    "\n",
    "- 在使用物件的屬性時必須要指定物件名稱：`object.attribute`\n",
    "- 可是設計類別的人不會知道物件名稱為何，因為實例化的物件名稱是由使用者所決定的。\n",
    "- 若是要在定義類別的時候描述屬性，就必須先給物件一個代名詞：`self` 作為第一個參數名稱。"
   ]
  },
  {
   "cell_type": "code",
   "execution_count": 35,
   "metadata": {
    "slideshow": {
     "slide_type": "subslide"
    }
   },
   "outputs": [],
   "source": [
    "class GetOpenData:\n",
    "    def __init__(self):\n",
    "        data_name = \"STOCK_DAY_ALL\"\n",
    "        self.api_url = f\"https://www.twse.com.tw/exchangeReport/{data_name}?response=open_data\"\n",
    "    def get_dataframe(self):\n",
    "        response = requests.get(self.api_url)\n",
    "        string_io_response_text = io.StringIO(response.text)\n",
    "        twse = pd.read_csv(string_io_response_text)\n",
    "        return twse\n",
    "    def get_stocks(self, *args):\n",
    "        df = self.get_dataframe()\n",
    "        return df[df[\"證券代號\"].isin(args)]"
   ]
  },
  {
   "cell_type": "code",
   "execution_count": 36,
   "metadata": {
    "slideshow": {
     "slide_type": "subslide"
    }
   },
   "outputs": [
    {
     "data": {
      "text/html": [
       "<div>\n",
       "<style scoped>\n",
       "    .dataframe tbody tr th:only-of-type {\n",
       "        vertical-align: middle;\n",
       "    }\n",
       "\n",
       "    .dataframe tbody tr th {\n",
       "        vertical-align: top;\n",
       "    }\n",
       "\n",
       "    .dataframe thead th {\n",
       "        text-align: right;\n",
       "    }\n",
       "</style>\n",
       "<table border=\"1\" class=\"dataframe\">\n",
       "  <thead>\n",
       "    <tr style=\"text-align: right;\">\n",
       "      <th></th>\n",
       "      <th>證券代號</th>\n",
       "      <th>證券名稱</th>\n",
       "      <th>成交股數</th>\n",
       "      <th>成交金額</th>\n",
       "      <th>開盤價</th>\n",
       "      <th>最高價</th>\n",
       "      <th>最低價</th>\n",
       "      <th>收盤價</th>\n",
       "      <th>漲跌價差</th>\n",
       "      <th>成交筆數</th>\n",
       "    </tr>\n",
       "  </thead>\n",
       "  <tbody>\n",
       "    <tr>\n",
       "      <th>0</th>\n",
       "      <td>0050</td>\n",
       "      <td>元大台灣50</td>\n",
       "      <td>10613810.0</td>\n",
       "      <td>2.062838e+09</td>\n",
       "      <td>194.30</td>\n",
       "      <td>194.85</td>\n",
       "      <td>193.75</td>\n",
       "      <td>194.30</td>\n",
       "      <td>2.60</td>\n",
       "      <td>14838.0</td>\n",
       "    </tr>\n",
       "    <tr>\n",
       "      <th>1</th>\n",
       "      <td>0051</td>\n",
       "      <td>元大中型100</td>\n",
       "      <td>71284.0</td>\n",
       "      <td>5.561550e+06</td>\n",
       "      <td>77.65</td>\n",
       "      <td>78.25</td>\n",
       "      <td>77.65</td>\n",
       "      <td>78.05</td>\n",
       "      <td>0.60</td>\n",
       "      <td>275.0</td>\n",
       "    </tr>\n",
       "    <tr>\n",
       "      <th>2</th>\n",
       "      <td>0052</td>\n",
       "      <td>富邦科技</td>\n",
       "      <td>1033651.0</td>\n",
       "      <td>1.976977e+08</td>\n",
       "      <td>191.05</td>\n",
       "      <td>191.95</td>\n",
       "      <td>190.50</td>\n",
       "      <td>190.90</td>\n",
       "      <td>2.75</td>\n",
       "      <td>1445.0</td>\n",
       "    </tr>\n",
       "    <tr>\n",
       "      <th>3</th>\n",
       "      <td>0053</td>\n",
       "      <td>元大電子</td>\n",
       "      <td>10444.0</td>\n",
       "      <td>1.069091e+06</td>\n",
       "      <td>102.20</td>\n",
       "      <td>102.65</td>\n",
       "      <td>102.20</td>\n",
       "      <td>102.45</td>\n",
       "      <td>1.30</td>\n",
       "      <td>135.0</td>\n",
       "    </tr>\n",
       "    <tr>\n",
       "      <th>4</th>\n",
       "      <td>0055</td>\n",
       "      <td>元大MSCI金融</td>\n",
       "      <td>405153.0</td>\n",
       "      <td>1.148577e+07</td>\n",
       "      <td>28.27</td>\n",
       "      <td>28.50</td>\n",
       "      <td>28.27</td>\n",
       "      <td>28.45</td>\n",
       "      <td>0.28</td>\n",
       "      <td>353.0</td>\n",
       "    </tr>\n",
       "    <tr>\n",
       "      <th>...</th>\n",
       "      <td>...</td>\n",
       "      <td>...</td>\n",
       "      <td>...</td>\n",
       "      <td>...</td>\n",
       "      <td>...</td>\n",
       "      <td>...</td>\n",
       "      <td>...</td>\n",
       "      <td>...</td>\n",
       "      <td>...</td>\n",
       "      <td>...</td>\n",
       "    </tr>\n",
       "    <tr>\n",
       "      <th>1265</th>\n",
       "      <td>9944</td>\n",
       "      <td>新麗</td>\n",
       "      <td>98391.0</td>\n",
       "      <td>2.062011e+06</td>\n",
       "      <td>21.15</td>\n",
       "      <td>21.15</td>\n",
       "      <td>20.55</td>\n",
       "      <td>20.55</td>\n",
       "      <td>-0.05</td>\n",
       "      <td>79.0</td>\n",
       "    </tr>\n",
       "    <tr>\n",
       "      <th>1266</th>\n",
       "      <td>9945</td>\n",
       "      <td>潤泰新</td>\n",
       "      <td>2096478.0</td>\n",
       "      <td>9.568191e+07</td>\n",
       "      <td>45.40</td>\n",
       "      <td>45.80</td>\n",
       "      <td>45.40</td>\n",
       "      <td>45.75</td>\n",
       "      <td>0.35</td>\n",
       "      <td>2284.0</td>\n",
       "    </tr>\n",
       "    <tr>\n",
       "      <th>1267</th>\n",
       "      <td>9946</td>\n",
       "      <td>三發地產</td>\n",
       "      <td>391342.0</td>\n",
       "      <td>9.885392e+06</td>\n",
       "      <td>25.10</td>\n",
       "      <td>25.50</td>\n",
       "      <td>25.10</td>\n",
       "      <td>25.25</td>\n",
       "      <td>0.15</td>\n",
       "      <td>171.0</td>\n",
       "    </tr>\n",
       "    <tr>\n",
       "      <th>1268</th>\n",
       "      <td>9955</td>\n",
       "      <td>佳龍</td>\n",
       "      <td>228883.0</td>\n",
       "      <td>6.768874e+06</td>\n",
       "      <td>29.40</td>\n",
       "      <td>29.80</td>\n",
       "      <td>29.40</td>\n",
       "      <td>29.55</td>\n",
       "      <td>0.20</td>\n",
       "      <td>225.0</td>\n",
       "    </tr>\n",
       "    <tr>\n",
       "      <th>1269</th>\n",
       "      <td>9958</td>\n",
       "      <td>世紀鋼</td>\n",
       "      <td>1400632.0</td>\n",
       "      <td>2.542917e+08</td>\n",
       "      <td>180.00</td>\n",
       "      <td>183.00</td>\n",
       "      <td>180.00</td>\n",
       "      <td>181.00</td>\n",
       "      <td>1.00</td>\n",
       "      <td>1937.0</td>\n",
       "    </tr>\n",
       "  </tbody>\n",
       "</table>\n",
       "<p>1270 rows × 10 columns</p>\n",
       "</div>"
      ],
      "text/plain": [
       "      證券代號      證券名稱        成交股數          成交金額     開盤價     最高價     最低價  \\\n",
       "0     0050    元大台灣50  10613810.0  2.062838e+09  194.30  194.85  193.75   \n",
       "1     0051   元大中型100     71284.0  5.561550e+06   77.65   78.25   77.65   \n",
       "2     0052      富邦科技   1033651.0  1.976977e+08  191.05  191.95  190.50   \n",
       "3     0053      元大電子     10444.0  1.069091e+06  102.20  102.65  102.20   \n",
       "4     0055  元大MSCI金融    405153.0  1.148577e+07   28.27   28.50   28.27   \n",
       "...    ...       ...         ...           ...     ...     ...     ...   \n",
       "1265  9944        新麗     98391.0  2.062011e+06   21.15   21.15   20.55   \n",
       "1266  9945       潤泰新   2096478.0  9.568191e+07   45.40   45.80   45.40   \n",
       "1267  9946      三發地產    391342.0  9.885392e+06   25.10   25.50   25.10   \n",
       "1268  9955        佳龍    228883.0  6.768874e+06   29.40   29.80   29.40   \n",
       "1269  9958       世紀鋼   1400632.0  2.542917e+08  180.00  183.00  180.00   \n",
       "\n",
       "         收盤價  漲跌價差     成交筆數  \n",
       "0     194.30  2.60  14838.0  \n",
       "1      78.05  0.60    275.0  \n",
       "2     190.90  2.75   1445.0  \n",
       "3     102.45  1.30    135.0  \n",
       "4      28.45  0.28    353.0  \n",
       "...      ...   ...      ...  \n",
       "1265   20.55 -0.05     79.0  \n",
       "1266   45.75  0.35   2284.0  \n",
       "1267   25.25  0.15    171.0  \n",
       "1268   29.55  0.20    225.0  \n",
       "1269  181.00  1.00   1937.0  \n",
       "\n",
       "[1270 rows x 10 columns]"
      ]
     },
     "execution_count": 36,
     "metadata": {},
     "output_type": "execute_result"
    }
   ],
   "source": [
    "get_open_data = GetOpenData()\n",
    "get_open_data.get_dataframe()"
   ]
  },
  {
   "cell_type": "code",
   "execution_count": 37,
   "metadata": {},
   "outputs": [
    {
     "data": {
      "text/html": [
       "<div>\n",
       "<style scoped>\n",
       "    .dataframe tbody tr th:only-of-type {\n",
       "        vertical-align: middle;\n",
       "    }\n",
       "\n",
       "    .dataframe tbody tr th {\n",
       "        vertical-align: top;\n",
       "    }\n",
       "\n",
       "    .dataframe thead th {\n",
       "        text-align: right;\n",
       "    }\n",
       "</style>\n",
       "<table border=\"1\" class=\"dataframe\">\n",
       "  <thead>\n",
       "    <tr style=\"text-align: right;\">\n",
       "      <th></th>\n",
       "      <th>證券代號</th>\n",
       "      <th>證券名稱</th>\n",
       "      <th>成交股數</th>\n",
       "      <th>成交金額</th>\n",
       "      <th>開盤價</th>\n",
       "      <th>最高價</th>\n",
       "      <th>最低價</th>\n",
       "      <th>收盤價</th>\n",
       "      <th>漲跌價差</th>\n",
       "      <th>成交筆數</th>\n",
       "    </tr>\n",
       "  </thead>\n",
       "  <tbody>\n",
       "    <tr>\n",
       "      <th>0</th>\n",
       "      <td>0050</td>\n",
       "      <td>元大台灣50</td>\n",
       "      <td>10613810.0</td>\n",
       "      <td>2.062838e+09</td>\n",
       "      <td>194.3</td>\n",
       "      <td>194.85</td>\n",
       "      <td>193.75</td>\n",
       "      <td>194.30</td>\n",
       "      <td>2.6</td>\n",
       "      <td>14838.0</td>\n",
       "    </tr>\n",
       "    <tr>\n",
       "      <th>13</th>\n",
       "      <td>006208</td>\n",
       "      <td>富邦台50</td>\n",
       "      <td>10048421.0</td>\n",
       "      <td>1.132388e+09</td>\n",
       "      <td>113.5</td>\n",
       "      <td>113.50</td>\n",
       "      <td>112.30</td>\n",
       "      <td>112.45</td>\n",
       "      <td>1.3</td>\n",
       "      <td>14060.0</td>\n",
       "    </tr>\n",
       "    <tr>\n",
       "      <th>485</th>\n",
       "      <td>2330</td>\n",
       "      <td>台積電</td>\n",
       "      <td>48632084.0</td>\n",
       "      <td>5.150960e+10</td>\n",
       "      <td>1060.0</td>\n",
       "      <td>1065.00</td>\n",
       "      <td>1055.00</td>\n",
       "      <td>1055.00</td>\n",
       "      <td>20.0</td>\n",
       "      <td>55988.0</td>\n",
       "    </tr>\n",
       "    <tr>\n",
       "      <th>571</th>\n",
       "      <td>2454</td>\n",
       "      <td>聯發科</td>\n",
       "      <td>6211010.0</td>\n",
       "      <td>8.141227e+09</td>\n",
       "      <td>1325.0</td>\n",
       "      <td>1330.00</td>\n",
       "      <td>1295.00</td>\n",
       "      <td>1315.00</td>\n",
       "      <td>5.0</td>\n",
       "      <td>7911.0</td>\n",
       "    </tr>\n",
       "  </tbody>\n",
       "</table>\n",
       "</div>"
      ],
      "text/plain": [
       "       證券代號    證券名稱        成交股數          成交金額     開盤價      最高價      最低價  \\\n",
       "0      0050  元大台灣50  10613810.0  2.062838e+09   194.3   194.85   193.75   \n",
       "13   006208   富邦台50  10048421.0  1.132388e+09   113.5   113.50   112.30   \n",
       "485    2330     台積電  48632084.0  5.150960e+10  1060.0  1065.00  1055.00   \n",
       "571    2454     聯發科   6211010.0  8.141227e+09  1325.0  1330.00  1295.00   \n",
       "\n",
       "         收盤價  漲跌價差     成交筆數  \n",
       "0     194.30   2.6  14838.0  \n",
       "13    112.45   1.3  14060.0  \n",
       "485  1055.00  20.0  55988.0  \n",
       "571  1315.00   5.0   7911.0  "
      ]
     },
     "execution_count": 37,
     "metadata": {},
     "output_type": "execute_result"
    }
   ],
   "source": [
    "get_open_data.get_stocks(\"0050\", \"006208\", \"2330\", \"2454\")"
   ]
  },
  {
   "cell_type": "markdown",
   "metadata": {
    "slideshow": {
     "slide_type": "subslide"
    }
   },
   "source": [
    "## 什麼是模組\n",
    "\n",
    "模組（Module）指的是以檔案或資料夾形式，來組織 Python 的函數以及類別。檔案形式可以對應「數個函數或類別可以組織為一個模組」層次、資料夾形式可以對應「數個模組可以組織為一個功能更多的模組」層次。"
   ]
  },
  {
   "cell_type": "markdown",
   "metadata": {
    "slideshow": {
     "slide_type": "subslide"
    }
   },
   "source": [
    "## 模組有三個來源\n",
    "\n",
    "1. 標準模組。\n",
    "2. 來自使用者的定義。\n",
    "3. 第三方模組。"
   ]
  },
  {
   "cell_type": "markdown",
   "metadata": {
    "slideshow": {
     "slide_type": "subslide"
    }
   },
   "source": [
    "## 標準模組（Standard libraries）\n",
    "\n",
    "- 伴隨 Python 直譯器（來自 [python.org](https://www.python.org) 的版本）安裝的模組。\n",
    "- 可以直接載入並使用。\n",
    "- 有哪些標準模組可以直接載入並使用：<https://docs.python.org/3/library>"
   ]
  },
  {
   "cell_type": "markdown",
   "metadata": {
    "slideshow": {
     "slide_type": "subslide"
    }
   },
   "source": [
    "## 使用 `import`、`from` 與 `as` 保留字\n",
    "\n",
    "- 使用 `import` 載入模組。\n",
    "- 使用 `from module import function/class` 載入模組中特定的函數或類別。\n",
    "- 使用 `as` 調整模組、函數或者類別的命名。"
   ]
  },
  {
   "cell_type": "markdown",
   "metadata": {
    "slideshow": {
     "slide_type": "subslide"
    }
   },
   "source": [
    "## 使用 `import` 載入模組\n",
    "\n",
    "- 以 `module` 命名使用。\n",
    "- 使用模組中的函數、類別時都以 `module.function()` 或 `module.class()` 來參照命名。\n",
    "\n",
    "```python\n",
    "import module\n",
    "\n",
    "module.function()\n",
    "object = module.class()\n",
    "```"
   ]
  },
  {
   "cell_type": "code",
   "execution_count": 4,
   "metadata": {
    "slideshow": {
     "slide_type": "subslide"
    }
   },
   "outputs": [
    {
     "data": {
      "text/plain": [
       "'/Users/kuoyaojen/classroom-python-for-finance-2024'"
      ]
     },
     "execution_count": 4,
     "metadata": {},
     "output_type": "execute_result"
    }
   ],
   "source": [
    "import os\n",
    "\n",
    "os.getcwd()"
   ]
  },
  {
   "cell_type": "code",
   "execution_count": 5,
   "metadata": {},
   "outputs": [
    {
     "name": "stdout",
     "output_type": "stream",
     "text": [
      "2024-01-01\n"
     ]
    }
   ],
   "source": [
    "import datetime\n",
    "\n",
    "first_day_of_2024 = datetime.date(2024, 1, 1)\n",
    "print(first_day_of_2024)"
   ]
  },
  {
   "cell_type": "markdown",
   "metadata": {
    "slideshow": {
     "slide_type": "subslide"
    }
   },
   "source": [
    "## 使用 `from module import function/class` 載入模組中特定的函數或類別\n",
    "\n",
    "載入特定函數或類別，就直接以 `function()` 或 `class()` 來參照命名。\n",
    "\n",
    "```python\n",
    "from module import function\n",
    "from module import class\n",
    "\n",
    "function()\n",
    "object = class()\n",
    "```"
   ]
  },
  {
   "cell_type": "code",
   "execution_count": 6,
   "metadata": {
    "slideshow": {
     "slide_type": "subslide"
    }
   },
   "outputs": [
    {
     "data": {
      "text/plain": [
       "'/Users/kuoyaojen/classroom-python-for-finance-2024'"
      ]
     },
     "execution_count": 6,
     "metadata": {},
     "output_type": "execute_result"
    }
   ],
   "source": [
    "from os import getcwd\n",
    "\n",
    "getcwd()"
   ]
  },
  {
   "cell_type": "code",
   "execution_count": 7,
   "metadata": {},
   "outputs": [
    {
     "name": "stdout",
     "output_type": "stream",
     "text": [
      "2024-01-01\n"
     ]
    }
   ],
   "source": [
    "from datetime import date\n",
    "\n",
    "first_day_of_2024 = date(2024, 1, 1)\n",
    "print(first_day_of_2024)"
   ]
  },
  {
   "cell_type": "markdown",
   "metadata": {
    "slideshow": {
     "slide_type": "subslide"
    }
   },
   "source": [
    "## 使用 `as` 調整模組、函數或者類別的命名\n",
    "\n",
    "```python\n",
    "import module as module_alias\n",
    "from module import function as function_alias\n",
    "from module import class as class_alias\n",
    "\n",
    "module_alias.function()\n",
    "function_alias()\n",
    "object = class_alias()\n",
    "```"
   ]
  },
  {
   "cell_type": "code",
   "execution_count": 8,
   "metadata": {
    "slideshow": {
     "slide_type": "subslide"
    }
   },
   "outputs": [
    {
     "name": "stdout",
     "output_type": "stream",
     "text": [
      "/Users/kuoyaojen/classroom-python-for-finance-2024\n",
      "/Users/kuoyaojen/classroom-python-for-finance-2024\n"
     ]
    }
   ],
   "source": [
    "import os as operating_system\n",
    "from os import getcwd as get_current_working_directory\n",
    "\n",
    "print(operating_system.getcwd())\n",
    "print(get_current_working_directory())"
   ]
  },
  {
   "cell_type": "code",
   "execution_count": 9,
   "metadata": {},
   "outputs": [
    {
     "name": "stdout",
     "output_type": "stream",
     "text": [
      "2024-01-01\n",
      "2024-01-01\n"
     ]
    }
   ],
   "source": [
    "import datetime as dttm\n",
    "from datetime import date as dt\n",
    "\n",
    "first_day_of_2024 = dttm.date(2024, 1, 1)\n",
    "print(first_day_of_2024)\n",
    "first_day_of_2024 = dt(2024, 1, 1)\n",
    "print(first_day_of_2024)"
   ]
  },
  {
   "cell_type": "markdown",
   "metadata": {
    "slideshow": {
     "slide_type": "subslide"
    }
   },
   "source": [
    "## 如何決定模組載入的形式\n",
    "\n",
    "- `import module`\n",
    "- `import module as alias`\n",
    "- `from module import function/class`\n",
    "- `from module import function/class as alias`"
   ]
  },
  {
   "cell_type": "markdown",
   "metadata": {
    "slideshow": {
     "slide_type": "subslide"
    }
   },
   "source": [
    "## 如何決定模組載入的形式（續）\n",
    "\n",
    "- 依照模組說明文件（Documentation）中的範例決定。\n",
    "- 例如：使用 `os` 模組時採用 `import os`\n",
    "- 例如：使用 `datetime` 模組時採用 `from datetime import function/class`\n",
    "\n",
    "來源：<https://docs.python.org/3/library/os.html#file-object-creation>, <https://docs.python.org/3/library/datetime.html#examples-of-usage-date>"
   ]
  },
  {
   "cell_type": "code",
   "execution_count": 10,
   "metadata": {
    "slideshow": {
     "slide_type": "subslide"
    }
   },
   "outputs": [
    {
     "data": {
      "text/plain": [
       "'/Users/kuoyaojen/classroom-python-for-finance-2024'"
      ]
     },
     "execution_count": 10,
     "metadata": {},
     "output_type": "execute_result"
    }
   ],
   "source": [
    "import os\n",
    "\n",
    "os.getcwd()"
   ]
  },
  {
   "cell_type": "code",
   "execution_count": 11,
   "metadata": {},
   "outputs": [
    {
     "name": "stdout",
     "output_type": "stream",
     "text": [
      "2024-01-01\n"
     ]
    }
   ],
   "source": [
    "from datetime import date\n",
    "\n",
    "first_day_of_2024 = date(2024, 1, 1)\n",
    "print(first_day_of_2024)"
   ]
  },
  {
   "cell_type": "markdown",
   "metadata": {
    "slideshow": {
     "slide_type": "slide"
    }
   },
   "source": [
    "## 環境管理"
   ]
  },
  {
   "cell_type": "markdown",
   "metadata": {
    "slideshow": {
     "slide_type": "subslide"
    }
   },
   "source": [
    "## 關於 Python 程式語言的描述\n",
    "\n",
    "- 直譯式。\n",
    "- 動態類別。\n",
    "- 物件導向。\n",
    "- **泛用**。\n",
    "- ...等。"
   ]
  },
  {
   "cell_type": "markdown",
   "metadata": {
    "slideshow": {
     "slide_type": "subslide"
    }
   },
   "source": [
    "## Python 是廣泛用途的程式語言\n",
    "\n",
    "廣泛用途（General-purposed）是指作者 Guido van Rossum 在開發 Python 的過程中並沒有針對特定的應用場景去設計語言特性，而是交由程式語言的「使用者」利用第三方模組自行發展。而因為 Python 有大量來自不同領域的使用者，也使得其應用場景非常多元而且發展蓬勃。\n",
    "\n",
    "- 資料科學。\n",
    "- 網頁應用程式開發。\n",
    "- 桌面軟體使用者介面開發。\n",
    "- 遊戲開發。\n",
    "- ...等。\n",
    "\n",
    "來源：<https://www.python.org/about/apps/>"
   ]
  },
  {
   "cell_type": "markdown",
   "metadata": {
    "slideshow": {
     "slide_type": "subslide"
    }
   },
   "source": [
    "## 什麼是環境管理\n",
    "\n",
    "當程式語言的應用場景多元，伴隨而來的就是要依據專案需求安裝設定不同的 Python 版本以及不同的模組版本。在一台電腦管理軟體版本，確保各個專案的開發環境不會受到彼此影響的機制，就稱為環境管理。\n",
    "\n",
    "- 專案一需要 Python 3.9 與 NumPy/Pandas 模組進行資料科學。\n",
    "- 專案二需要 Python 3.8 與 Flask/Django 模組進行網頁應用程式開發。\n",
    "- 專案三需要 Python 3.7 與 PyQt/Kivy 模組進行桌面軟體使用者介面開發。\n",
    "- ...等。"
   ]
  },
  {
   "cell_type": "markdown",
   "metadata": {
    "slideshow": {
     "slide_type": "subslide"
    }
   },
   "source": [
    "## 環境管理可以理解為管理軟體版本\n",
    "\n",
    "- Python 版本。\n",
    "- 模組版本。\n",
    "\n",
    "掌握環境管理是從 Python 初學者成長為進階者的重要里程碑。"
   ]
  },
  {
   "cell_type": "markdown",
   "metadata": {
    "slideshow": {
     "slide_type": "subslide"
    }
   },
   "source": [
    "## 標準的 Python 版本與模組管理工具\n",
    "\n",
    "- Python 版本管理：標準模組 `venv`：<https://docs.python.org/3/tutorial/venv.html>\n",
    "- 模組版本管理：第三方模組 `pip`：<https://pip.pypa.io/en/stable>，雖然 `pip` 是第三方模組，但因為太受歡迎，自從 Python 3.4 以後已經變得像標準模組一樣會伴隨 Python 直譯器而安裝。"
   ]
  },
  {
   "cell_type": "markdown",
   "metadata": {
    "slideshow": {
     "slide_type": "subslide"
    }
   },
   "source": [
    "## conda 可以同時管理 Python 版本與模組版本\n",
    "\n",
    "> conda 是一個開源的跨平台、跨程式語言軟體，能夠在 Windows、macOS 與 Linux 上安裝運行，它被設計作為 Python、R、Scala 與 Java 等任何程式語言的模組、依賴性以及工作環境管理軟體。\n",
    "\n",
    "來源：<https://conda.io/projects/conda/en/latest/index.html>"
   ]
  },
  {
   "cell_type": "markdown",
   "metadata": {
    "slideshow": {
     "slide_type": "subslide"
    }
   },
   "source": [
    "## conda 以終端機作為執行介面\n",
    "\n",
    "- 安裝 [Minoconda](https://docs.anaconda.com/free/miniconda) 的同時就會安裝好 conda。\n",
    "- Miniconda 是 Anaconda 輕量的版本，基本只會在電腦中安裝特定 Python 直譯器版本與 conda\n",
    "- 開啟終端機\n",
    "    - macOS: Terminal\n",
    "    - Windows: Anaconda Prompt\n",
    "- 檢視 conda 的版本來確定已經安裝妥當。\n",
    "\n",
    "```bash\n",
    "conda --version\n",
    "```"
   ]
  },
  {
   "cell_type": "markdown",
   "metadata": {
    "slideshow": {
     "slide_type": "slide"
    }
   },
   "source": [
    "## Python 資料分析模組"
   ]
  },
  {
   "cell_type": "markdown",
   "metadata": {
    "slideshow": {
     "slide_type": "subslide"
    }
   },
   "source": [
    "## NumPy\n",
    "\n",
    "> NumPy 是 Numeric Python 的簡稱，是 Python 最重要的資料科學模組之一。NumPy 創造了 `ndarray` 的資料結構類別以及大量的通用函數與聚合函數，讓 Python 使用者能夠對進行快速的數值計算、使用統計函數、進行線性代數運算以及操作隨機的模擬任務等。\n",
    "\n",
    "來源：<https://numpy.org/>"
   ]
  },
  {
   "cell_type": "markdown",
   "metadata": {
    "slideshow": {
     "slide_type": "subslide"
    }
   },
   "source": [
    "## （沒什麼用的冷知識）NumPy 的前身為兩個模組\n",
    "\n",
    "- 1990 年代中期誕生的` Numeric` 與 `Numarray` 模組。\n",
    "- NumPy 於 2005 集兩者之大成問世。\n",
    "\n",
    "來源：<https://www.nature.com/articles/s41586-020-2649-2>"
   ]
  },
  {
   "cell_type": "markdown",
   "metadata": {
    "slideshow": {
     "slide_type": "subslide"
    }
   },
   "source": [
    "## 根據說明文件的範例載入\n",
    "\n",
    "來源：<https://numpy.org/doc/stable/user/absolute_beginners.html#how-to-import-numpy>"
   ]
  },
  {
   "cell_type": "code",
   "execution_count": 12,
   "metadata": {},
   "outputs": [],
   "source": [
    "import numpy as np"
   ]
  },
  {
   "cell_type": "markdown",
   "metadata": {
    "slideshow": {
     "slide_type": "subslide"
    }
   },
   "source": [
    "## NumPy 的核心功能\n",
    "\n",
    "1. 使用 `ndarray` 來進行數值操作。\n",
    "2. 使用模組定義的函數對 `ndarray` 進行數值運算。\n",
    "3. `ndarray` 是其他資料科學模組 Pandas、Matplotlib 與 Scikit-Learn 的基石。"
   ]
  },
  {
   "cell_type": "markdown",
   "metadata": {
    "slideshow": {
     "slide_type": "subslide"
    }
   },
   "source": [
    "## 常用的 `ndarray` 屬性\n",
    "\n",
    "- `ndarray.ndim` 維度數。\n",
    "- `ndarray.shape` 外型。\n",
    "- `ndarray.size` 元素個數。\n",
    "- `ndarray.dtype` 資料類別。"
   ]
  },
  {
   "cell_type": "markdown",
   "metadata": {
    "slideshow": {
     "slide_type": "subslide"
    }
   },
   "source": [
    "## `ndarray` 與 `list` 相異的地方\n",
    "\n",
    "- indexing 二維以上的 `ndarray` 可以用更便捷的語法 `[i, j, k, ...]`\n",
    "- 同質性資料結構類別。\n",
    "- 支援元素操作（Elementwise）運算。\n",
    "- 支援特殊的 indexing 語法。"
   ]
  },
  {
   "cell_type": "markdown",
   "metadata": {
    "slideshow": {
     "slide_type": "subslide"
    }
   },
   "source": [
    "## Pandas\n",
    "\n",
    "> Pandas 是 Python 處理表格式資料（Tabular data）的第三方模組，它創造了 `Index`、`Series` 與 `DataFrame` 的資料結構類別，讓 Python 在面對表格式資料時能夠用更直覺的觀念操作。\n",
    "\n",
    "來源：<https://github.com/pandas-dev/pandas>"
   ]
  },
  {
   "cell_type": "markdown",
   "metadata": {
    "slideshow": {
     "slide_type": "subslide"
    }
   },
   "source": [
    "## （沒什麼用的冷知識）Pandas 跟熊貓「沒有關係」\n",
    "\n",
    "1. **Pan**el(自從版本 0.20.0 之後棄用)\n",
    "2. **Da**taFrame\n",
    "3. **S**eries\n",
    "\n",
    "![](https://media.giphy.com/media/46Zj6ze2Z2t4k/giphy.gif)\n",
    "\n",
    "來源：<https://media.giphy.com/media/46Zj6ze2Z2t4k/giphy.gif>"
   ]
  },
  {
   "cell_type": "markdown",
   "metadata": {
    "slideshow": {
     "slide_type": "subslide"
    }
   },
   "source": [
    "## 根據說明文件的範例載入\n",
    "\n",
    "來源：<https://pandas.pydata.org/docs/user_guide/10min.html>"
   ]
  },
  {
   "cell_type": "code",
   "execution_count": 13,
   "metadata": {},
   "outputs": [],
   "source": [
    "import pandas as pd"
   ]
  },
  {
   "cell_type": "markdown",
   "metadata": {
    "slideshow": {
     "slide_type": "subslide"
    }
   },
   "source": [
    "## 入門 Pandas 的第一步就是掌握 `Index`、`ndarray`、`Series` 與 `DataFrame` 四個資料結構類別彼此之間的關係\n",
    "\n",
    "- `Series` 由 `Index` 與 `ndarray` 組合而成。\n",
    "- `DataFrame` 由數個共享同一個 `Index` 的 `Series` 組合而成。"
   ]
  },
  {
   "cell_type": "markdown",
   "metadata": {
    "slideshow": {
     "slide_type": "subslide"
    }
   },
   "source": [
    "## `DataFrame` 的基礎屬性\n",
    "\n",
    "- `DataFrame.dtypes` 資料類別。\n",
    "- `DataFrame.shape` 外型。\n",
    "- `DataFrame.index` 取出列標籤（row labels）部分。  \n",
    "- `DataFrame.columns` 取出欄標籤（column labels）的部分。"
   ]
  },
  {
   "cell_type": "markdown",
   "metadata": {
    "slideshow": {
     "slide_type": "subslide"
    }
   },
   "source": [
    "## `DataFrame` 的基礎方法\n",
    "\n",
    "- `DataFrame.head(n)` 檢視前 `n` 列。\n",
    "- `DataFrame.tail(n)` 檢視後 `n` 列。\n",
    "- `DataFrame.describe()`  檢視數值欄位的描述性統計。\n",
    "- `DataFrame.info()` 檢視詳細資訊。"
   ]
  },
  {
   "cell_type": "markdown",
   "metadata": {
    "slideshow": {
     "slide_type": "subslide"
    }
   },
   "source": [
    "## Matplotlib\n",
    "\n",
    "> Matplotlib 是 Python 資料視覺化的第三方模組。\n",
    "\n",
    "來源：<https://matplotlib.org>"
   ]
  },
  {
   "cell_type": "markdown",
   "metadata": {
    "slideshow": {
     "slide_type": "subslide"
    }
   },
   "source": [
    "## （沒什麼用的冷知識）Matplotlib 與 Matlab 有一點關係\n",
    "\n",
    "- Matrix plotting library.\n",
    "- 模仿 Matlab 作圖的指令與功能。\n",
    "\n",
    "來源：<https://matplotlib.org/stable/users/project/history.html>"
   ]
  },
  {
   "cell_type": "markdown",
   "metadata": {
    "slideshow": {
     "slide_type": "subslide"
    }
   },
   "source": [
    "## 根據說明文件的範例載入\n",
    "\n",
    "實際上主要在使用的是 `matplotlib.pyplot`\n",
    "\n",
    "來源：<https://matplotlib.org/stable/tutorials/introductory/usage.html#sphx-glr-tutorials-introductory-usage-py>"
   ]
  },
  {
   "cell_type": "code",
   "execution_count": 14,
   "metadata": {},
   "outputs": [],
   "source": [
    "import matplotlib.pyplot as plt"
   ]
  },
  {
   "cell_type": "markdown",
   "metadata": {
    "slideshow": {
     "slide_type": "subslide"
    }
   },
   "source": [
    "## 視覺化的標準五步驟\n",
    "\n",
    "1. 建立資料來源。\n",
    "2. 建立「畫布物件」與「軸物件」。\n",
    "3. 使用「軸物件」的作圖方法建立主要圖形。\n",
    "4. 使用「軸物件」的作圖方法添加圖形元素。\n",
    "5. 顯示或者儲存圖形。"
   ]
  },
  {
   "cell_type": "markdown",
   "metadata": {
    "slideshow": {
     "slide_type": "subslide"
    }
   },
   "source": [
    "## 儲存圖形：可支援的圖片格式"
   ]
  },
  {
   "cell_type": "code",
   "execution_count": 15,
   "metadata": {},
   "outputs": [
    {
     "data": {
      "text/plain": [
       "{'eps': 'Encapsulated Postscript',\n",
       " 'jpg': 'Joint Photographic Experts Group',\n",
       " 'jpeg': 'Joint Photographic Experts Group',\n",
       " 'pdf': 'Portable Document Format',\n",
       " 'pgf': 'PGF code for LaTeX',\n",
       " 'png': 'Portable Network Graphics',\n",
       " 'ps': 'Postscript',\n",
       " 'raw': 'Raw RGBA bitmap',\n",
       " 'rgba': 'Raw RGBA bitmap',\n",
       " 'svg': 'Scalable Vector Graphics',\n",
       " 'svgz': 'Scalable Vector Graphics',\n",
       " 'tif': 'Tagged Image File Format',\n",
       " 'tiff': 'Tagged Image File Format',\n",
       " 'webp': 'WebP Image Format'}"
      ]
     },
     "execution_count": 15,
     "metadata": {},
     "output_type": "execute_result"
    },
    {
     "data": {
      "text/plain": [
       "<Figure size 640x480 with 0 Axes>"
      ]
     },
     "metadata": {},
     "output_type": "display_data"
    }
   ],
   "source": [
    "fig = plt.figure()\n",
    "fig.canvas.get_supported_filetypes()"
   ]
  },
  {
   "cell_type": "markdown",
   "metadata": {
    "slideshow": {
     "slide_type": "slide"
    }
   },
   "source": [
    "## 實作：取得網路金融資料"
   ]
  },
  {
   "cell_type": "code",
   "execution_count": 16,
   "metadata": {
    "slideshow": {
     "slide_type": "subslide"
    }
   },
   "outputs": [],
   "source": [
    "import datetime\n",
    "import time\n",
    "import io\n",
    "import requests\n",
    "import pandas as pd"
   ]
  },
  {
   "cell_type": "markdown",
   "metadata": {
    "slideshow": {
     "slide_type": "subslide"
    }
   },
   "source": [
    "## 關於 Yahoo! Finance\n",
    "\n",
    "- 首頁：<https://finance.yahoo.com>\n",
    "- 基礎交易資訊頁面：`f\"https://finance.yahoo.com/quote/{stock_ticker}/history\"`\n",
    "- 基礎交易資訊 API: `f\"https://query1.finance.yahoo.com/v7/finance/chart/{stock_ticker}\"`"
   ]
  },
  {
   "cell_type": "code",
   "execution_count": 17,
   "metadata": {
    "slideshow": {
     "slide_type": "subslide"
    }
   },
   "outputs": [
    {
     "name": "stdout",
     "output_type": "stream",
     "text": [
      "200\n",
      "<class 'dict'>\n"
     ]
    }
   ],
   "source": [
    "# 美股代號\n",
    "stock_ticker = \"NVDA\"\n",
    "base_api_url = f\"https://query1.finance.yahoo.com/v7/finance/chart/{stock_ticker}\"\n",
    "request_headers = {\n",
    "    \"User-Agent\": \"Mozilla/5.0 (Macintosh; Intel Mac OS X 10_15_7) AppleWebKit/537.36 (KHTML, like Gecko) Chrome/123.0.0.0 Safari/537.36\"\n",
    "}\n",
    "response = requests.get(base_api_url, headers=request_headers)\n",
    "response_json = response.json()\n",
    "print(response.status_code)\n",
    "print(type(response_json))"
   ]
  },
  {
   "cell_type": "code",
   "execution_count": 18,
   "metadata": {
    "slideshow": {
     "slide_type": "subslide"
    }
   },
   "outputs": [
    {
     "name": "stdout",
     "output_type": "stream",
     "text": [
      "200\n",
      "<class 'dict'>\n"
     ]
    }
   ],
   "source": [
    "# 台股代號\n",
    "stock_ticker = \"2330.TW\"\n",
    "base_api_url = f\"https://query1.finance.yahoo.com/v7/finance/chart/{stock_ticker}\"\n",
    "request_headers = {\n",
    "    \"User-Agent\": \"Mozilla/5.0 (Macintosh; Intel Mac OS X 10_15_7) AppleWebKit/537.36 (KHTML, like Gecko) Chrome/123.0.0.0 Safari/537.36\"\n",
    "}\n",
    "response = requests.get(base_api_url, headers=request_headers)\n",
    "response_json = response.json()\n",
    "print(response.status_code)\n",
    "print(type(response_json))"
   ]
  },
  {
   "cell_type": "markdown",
   "metadata": {
    "slideshow": {
     "slide_type": "subslide"
    }
   },
   "source": [
    "## 取得 Yahoo! Finance 個股交易歷史資料\n",
    "\n",
    "- 在基礎交易資訊 API 之後加入查詢字串（Query Strings）。\n",
    "    - `period1` 起始日期時間（以 Unix time 秒數表示）。\n",
    "    - `period2` 截止日期時間（以 Unix time 秒數表示）。"
   ]
  },
  {
   "cell_type": "code",
   "execution_count": 19,
   "metadata": {
    "slideshow": {
     "slide_type": "subslide"
    }
   },
   "outputs": [
    {
     "name": "stdout",
     "output_type": "stream",
     "text": [
      "1704072600\n",
      "1704614400\n"
     ]
    }
   ],
   "source": [
    "# 美股代號\n",
    "stock_ticker = \"NVDA\"\n",
    "start_date_str = \"2024-01-01\"\n",
    "stop_date_str = \"2024-01-07\"\n",
    "start_year, start_month, start_day = [int(e) for e in start_date_str.split(\"-\")]\n",
    "stop_year, stop_month, stop_day = [int(e) for e in stop_date_str.split(\"-\")]\n",
    "start_datetime = datetime.datetime(start_year, start_month, start_day, 9, 30)\n",
    "stop_datetime = datetime.datetime(stop_year, stop_month, stop_day, 16, 0)\n",
    "start_date_unixtime = time.mktime(start_datetime.timetuple())\n",
    "stop_date_unixtime = time.mktime(stop_datetime.timetuple())\n",
    "period1 = int(start_date_unixtime)\n",
    "period2 = int(stop_date_unixtime)\n",
    "print(period1)\n",
    "print(period2)"
   ]
  },
  {
   "cell_type": "code",
   "execution_count": 20,
   "metadata": {
    "slideshow": {
     "slide_type": "subslide"
    }
   },
   "outputs": [
    {
     "name": "stdout",
     "output_type": "stream",
     "text": [
      "200\n",
      "<class 'dict'>\n"
     ]
    }
   ],
   "source": [
    "base_api_url = f\"https://query1.finance.yahoo.com/v7/finance/chart/{stock_ticker}\"\n",
    "request_headers = {\n",
    "    \"User-Agent\": \"Mozilla/5.0 (Macintosh; Intel Mac OS X 10_15_7) AppleWebKit/537.36 (KHTML, like Gecko) Chrome/123.0.0.0 Safari/537.36\"\n",
    "}\n",
    "query_str_params = {\n",
    "    \"interval\": \"1d\",\n",
    "    \"period1\": period1,\n",
    "    \"period2\": period2\n",
    "}\n",
    "response = requests.get(base_api_url, headers=request_headers, params=query_str_params)\n",
    "response_json = response.json()\n",
    "print(response.status_code)\n",
    "print(type(response_json))"
   ]
  },
  {
   "cell_type": "code",
   "execution_count": 21,
   "metadata": {
    "slideshow": {
     "slide_type": "subslide"
    }
   },
   "outputs": [
    {
     "name": "stdout",
     "output_type": "stream",
     "text": [
      "{'chart': {'result': [{'meta': {'currency': 'USD', 'symbol': 'NVDA', 'exchangeName': 'NMS', 'fullExchangeName': 'NasdaqGS', 'instrumentType': 'EQUITY', 'firstTradeDate': 917015400, 'regularMarketTime': 1732741200, 'hasPrePostMarketData': True, 'gmtoffset': -18000, 'timezone': 'EST', 'exchangeTimezoneName': 'America/New_York', 'regularMarketPrice': 135.34, 'fiftyTwoWeekHigh': 152.89, 'fiftyTwoWeekLow': 45.01, 'regularMarketDayHigh': 135.42, 'regularMarketDayLow': 131.9, 'regularMarketVolume': 223933836, 'longName': 'NVIDIA Corporation', 'shortName': 'NVIDIA Corporation', 'chartPreviousClose': 49.522, 'priceHint': 2, 'currentTradingPeriod': {'pre': {'timezone': 'EST', 'start': 1732698000, 'end': 1732717800, 'gmtoffset': -18000}, 'regular': {'timezone': 'EST', 'start': 1732717800, 'end': 1732741200, 'gmtoffset': -18000}, 'post': {'timezone': 'EST', 'start': 1732741200, 'end': 1732755600, 'gmtoffset': -18000}}, 'dataGranularity': '1d', 'range': '', 'validRanges': ['1d', '5d', '1mo', '3mo', '6mo', '1y', '2y', '5y', '10y', 'ytd', 'max']}, 'timestamp': [1704205800, 1704292200, 1704378600, 1704465000], 'indicators': {'quote': [{'high': [49.29499816894531, 48.183998107910156, 48.5, 49.547000885009766], 'low': [47.595001220703125, 47.31999969482422, 47.507999420166016, 48.305999755859375], 'volume': [411254000, 320896000, 306535000, 415039000], 'close': [48.167999267578125, 47.569000244140625, 47.99800109863281, 49.09700012207031], 'open': [49.24399948120117, 47.48500061035156, 47.766998291015625, 48.46200180053711]}], 'adjclose': [{'adjclose': [48.15766525268555, 47.55879211425781, 47.98770523071289, 49.086463928222656]}]}}], 'error': None}}\n"
     ]
    }
   ],
   "source": [
    "print(response_json)"
   ]
  },
  {
   "cell_type": "code",
   "execution_count": 22,
   "metadata": {
    "slideshow": {
     "slide_type": "subslide"
    }
   },
   "outputs": [
    {
     "name": "stdout",
     "output_type": "stream",
     "text": [
      "1704070800\n",
      "1704605400\n"
     ]
    }
   ],
   "source": [
    "# 台股代號\n",
    "stock_ticker = \"2330.TW\"\n",
    "start_date_str = \"2024-01-01\"\n",
    "stop_date_str = \"2024-01-07\"\n",
    "start_year, start_month, start_day = [int(e) for e in start_date_str.split(\"-\")]\n",
    "stop_year, stop_month, stop_day = [int(e) for e in stop_date_str.split(\"-\")]\n",
    "start_datetime = datetime.datetime(start_year, start_month, start_day, 9, 0)\n",
    "stop_datetime = datetime.datetime(stop_year, stop_month, stop_day, 13, 30)\n",
    "start_date_unixtime = time.mktime(start_datetime.timetuple())\n",
    "stop_date_unixtime = time.mktime(stop_datetime.timetuple())\n",
    "period1 = int(start_date_unixtime)\n",
    "period2 = int(stop_date_unixtime)\n",
    "print(period1)\n",
    "print(period2)"
   ]
  },
  {
   "cell_type": "code",
   "execution_count": 23,
   "metadata": {
    "slideshow": {
     "slide_type": "subslide"
    }
   },
   "outputs": [
    {
     "name": "stdout",
     "output_type": "stream",
     "text": [
      "200\n",
      "<class 'dict'>\n"
     ]
    }
   ],
   "source": [
    "base_api_url = f\"https://query1.finance.yahoo.com/v7/finance/chart/{stock_ticker}\"\n",
    "request_headers = {\n",
    "    \"User-Agent\": \"Mozilla/5.0 (Macintosh; Intel Mac OS X 10_15_7) AppleWebKit/537.36 (KHTML, like Gecko) Chrome/123.0.0.0 Safari/537.36\"\n",
    "}\n",
    "query_str_params = {\n",
    "    \"interval\": \"1d\",\n",
    "    \"period1\": period1,\n",
    "    \"period2\": period2\n",
    "}\n",
    "response = requests.get(base_api_url, headers=request_headers, params=query_str_params)\n",
    "response_json = response.json()\n",
    "print(response.status_code)\n",
    "print(type(response_json))"
   ]
  },
  {
   "cell_type": "code",
   "execution_count": 24,
   "metadata": {
    "slideshow": {
     "slide_type": "subslide"
    }
   },
   "outputs": [
    {
     "name": "stdout",
     "output_type": "stream",
     "text": [
      "{'chart': {'result': [{'meta': {'currency': 'TWD', 'symbol': '2330.TW', 'exchangeName': 'TAI', 'fullExchangeName': 'Taiwan', 'instrumentType': 'EQUITY', 'firstTradeDate': 946947600, 'regularMarketTime': 1732771804, 'hasPrePostMarketData': False, 'gmtoffset': 28800, 'timezone': 'CST', 'exchangeTimezoneName': 'Asia/Taipei', 'regularMarketPrice': 1005.0, 'fiftyTwoWeekHigh': 1100.0, 'fiftyTwoWeekLow': 566.0, 'regularMarketDayHigh': 1005.0, 'regularMarketDayLow': 992.0, 'regularMarketVolume': 35432195, 'longName': 'Taiwan Semiconductor Manufacturing Company Limited', 'shortName': 'TAIWAN SEMICONDUCTOR MANUFACTUR', 'chartPreviousClose': 593.0, 'priceHint': 2, 'currentTradingPeriod': {'pre': {'timezone': 'CST', 'start': 1732842000, 'end': 1732842000, 'gmtoffset': 28800}, 'regular': {'timezone': 'CST', 'start': 1732842000, 'end': 1732858200, 'gmtoffset': 28800}, 'post': {'timezone': 'CST', 'start': 1732858200, 'end': 1732858200, 'gmtoffset': 28800}}, 'dataGranularity': '1d', 'range': '', 'validRanges': ['1d', '5d', '1mo', '3mo', '6mo', '1y', '2y', '5y', '10y', 'ytd', 'max']}, 'timestamp': [1704157200, 1704243600, 1704330000, 1704416400], 'indicators': {'quote': [{'open': [590.0, 584.0, 580.0, 578.0], 'high': [593.0, 585.0, 581.0, 580.0], 'close': [593.0, 578.0, 580.0, 576.0], 'low': [589.0, 576.0, 577.0, 574.0], 'volume': [26059058, 37106763, 15309129, 18158971]}], 'adjclose': [{'adjclose': [585.3610229492188, 570.5542602539062, 572.5285034179688, 568.5800170898438]}]}}], 'error': None}}\n"
     ]
    }
   ],
   "source": [
    "print(response_json)"
   ]
  },
  {
   "cell_type": "markdown",
   "metadata": {
    "slideshow": {
     "slide_type": "subslide"
    }
   },
   "source": [
    "## 定義函數 `get_yfinance_data()`"
   ]
  },
  {
   "cell_type": "code",
   "execution_count": 25,
   "metadata": {},
   "outputs": [],
   "source": [
    "def get_yfinance_data(stock_ticker: str, start_date: str, stop_date: str, listed_in_tw: bool=False) -> dict:\n",
    "    if listed_in_tw:\n",
    "        stock_ticker = f\"{stock_ticker}.TW\"\n",
    "        start_hour, start_min = 9, 0\n",
    "        stop_hour, stop_min = 13, 30\n",
    "    else:\n",
    "        start_hour, start_min = 9, 30\n",
    "        stop_hour, stop_min = 16, 0\n",
    "    start_year, start_month, start_day = [int(e) for e in start_date.split(\"-\")]\n",
    "    stop_year, stop_month, stop_day = [int(e) for e in stop_date.split(\"-\")]\n",
    "    start_datetime = datetime.datetime(start_year, start_month, start_day, start_hour, start_min)\n",
    "    stop_datetime = datetime.datetime(stop_year, stop_month, stop_day, stop_hour, stop_min)\n",
    "    start_date_unixtime = time.mktime(start_datetime.timetuple())\n",
    "    stop_date_unixtime = time.mktime(stop_datetime.timetuple())\n",
    "    period1 = int(start_date_unixtime)\n",
    "    period2 = int(stop_date_unixtime)\n",
    "    base_api_url = f\"https://query1.finance.yahoo.com/v7/finance/chart/{stock_ticker}\"\n",
    "    request_headers = {\n",
    "        \"User-Agent\": \"Mozilla/5.0 (Macintosh; Intel Mac OS X 10_15_7) AppleWebKit/537.36 (KHTML, like Gecko) Chrome/123.0.0.0 Safari/537.36\"\n",
    "    }\n",
    "    query_str_params = {\n",
    "        \"interval\": \"1d\",\n",
    "        \"period1\": period1,\n",
    "        \"period2\": period2\n",
    "    }\n",
    "    response = requests.get(base_api_url, headers=request_headers, params=query_str_params)\n",
    "    response_json = response.json()\n",
    "    print(f\"Request status code: {response.status_code}\")\n",
    "    return response_json"
   ]
  },
  {
   "cell_type": "code",
   "execution_count": 26,
   "metadata": {
    "slideshow": {
     "slide_type": "subslide"
    }
   },
   "outputs": [
    {
     "name": "stdout",
     "output_type": "stream",
     "text": [
      "Request status code: 200\n",
      "<class 'dict'>\n"
     ]
    }
   ],
   "source": [
    "nvda = get_yfinance_data(\"NVDA\", \"2024-01-01\", \"2024-01-07\")\n",
    "print(type(nvda))"
   ]
  },
  {
   "cell_type": "code",
   "execution_count": 27,
   "metadata": {
    "slideshow": {
     "slide_type": "-"
    }
   },
   "outputs": [
    {
     "name": "stdout",
     "output_type": "stream",
     "text": [
      "Request status code: 200\n",
      "<class 'dict'>\n"
     ]
    }
   ],
   "source": [
    "tsmc = get_yfinance_data(\"2330\", \"2024-01-01\", \"2024-01-07\", True)\n",
    "print(type(tsmc))"
   ]
  },
  {
   "cell_type": "markdown",
   "metadata": {
    "slideshow": {
     "slide_type": "subslide"
    }
   },
   "source": [
    "## 關於台灣證券交易所\n",
    "\n",
    "- 首頁：<https://www.twse.com.tw>\n",
    "- 成交資訊頁面：<https://www.twse.com.tw/zh/trading/historical/stock-day.html>\n",
    "- 成交資訊 API: `f\"https://www.twse.com.tw/exchangeReport/STOCK_DAY?response=json&date={query_date}&stockNo={stock_ticker}\"`"
   ]
  },
  {
   "cell_type": "code",
   "execution_count": 28,
   "metadata": {
    "slideshow": {
     "slide_type": "subslide"
    }
   },
   "outputs": [
    {
     "name": "stdout",
     "output_type": "stream",
     "text": [
      "200\n",
      "<class 'dict'>\n"
     ]
    }
   ],
   "source": [
    "base_api_url = f\"https://www.twse.com.tw/exchangeReport/STOCK_DAY\"\n",
    "request_headers = {\n",
    "    \"User-Agent\": \"Mozilla/5.0 (Macintosh; Intel Mac OS X 10_15_7) AppleWebKit/537.36 (KHTML, like Gecko) Chrome/123.0.0.0 Safari/537.36\"\n",
    "}\n",
    "query_str_params = {\n",
    "    \"date\": \"202401\",\n",
    "    \"stockNo\": \"2330\",\n",
    "    \"response\": \"json\"\n",
    "}\n",
    "response = requests.get(base_api_url, headers=request_headers, params=query_str_params)\n",
    "response_json = response.json()\n",
    "print(response.status_code)\n",
    "print(type(response_json))"
   ]
  },
  {
   "cell_type": "code",
   "execution_count": 29,
   "metadata": {
    "slideshow": {
     "slide_type": "subslide"
    }
   },
   "outputs": [
    {
     "name": "stdout",
     "output_type": "stream",
     "text": [
      "{'stat': 'OK', 'date': '20241129', 'title': '113年11月 2330 台積電           各日成交資訊', 'fields': ['日期', '成交股數', '成交金額', '開盤價', '最高價', '最低價', '收盤價', '漲跌價差', '成交筆數'], 'data': [['113/11/01', '61,545,741', '62,269,386,415', '996.00', '1,030.00', '996.00', '1,025.00', '-5.00', '77,404'], ['113/11/04', '28,225,506', '29,263,376,605', '1,030.00', '1,045.00', '1,025.00', '1,040.00', '+15.00', '33,492'], ['113/11/05', '33,407,780', '34,851,674,542', '1,030.00', '1,055.00', '1,030.00', '1,050.00', '+10.00', '28,872'], ['113/11/06', '59,404,980', '63,110,184,620', '1,050.00', '1,080.00', '1,040.00', '1,060.00', '+10.00', '58,611'], ['113/11/07', '46,030,563', '48,979,606,039', '1,050.00', '1,075.00', '1,050.00', '1,065.00', '+5.00', '41,583'], ['113/11/08', '38,840,413', '42,224,017,162', '1,085.00', '1,090.00', '1,080.00', '1,090.00', '+25.00', '58,203'], ['113/11/11', '36,630,666', '39,467,913,757', '1,080.00', '1,090.00', '1,070.00', '1,085.00', '-5.00', '48,859'], ['113/11/12', '54,098,799', '57,135,037,210', '1,060.00', '1,065.00', '1,050.00', '1,050.00', '-35.00', '92,756'], ['113/11/13', '46,420,969', '48,395,649,023', '1,045.00', '1,050.00', '1,035.00', '1,035.00', '-15.00', '75,428'], ['113/11/14', '49,328,914', '50,864,201,443', '1,030.00', '1,040.00', '1,025.00', '1,035.00', ' 0.00', '62,545'], ['113/11/15', '37,405,855', '38,824,519,360', '1,040.00', '1,045.00', '1,030.00', '1,035.00', ' 0.00', '38,669'], ['113/11/18', '33,583,180', '34,422,999,050', '1,030.00', '1,035.00', '1,020.00', '1,025.00', '-10.00', '56,311'], ['113/11/19', '25,497,606', '26,433,399,155', '1,030.00', '1,045.00', '1,025.00', '1,040.00', '+15.00', '26,315'], ['113/11/20', '40,203,197', '41,541,948,790', '1,045.00', '1,050.00', '1,020.00', '1,025.00', '-15.00', '53,280'], ['113/11/21', '44,679,981', '45,374,625,920', '1,020.00', '1,025.00', '1,010.00', '1,010.00', '-15.00', '67,481'], ['113/11/22', '32,509,453', '33,754,431,973', '1,035.00', '1,050.00', '1,035.00', '1,040.00', '+30.00', '28,859'], ['113/11/25', '54,443,912', '56,293,841,760', '1,045.00', '1,050.00', '1,030.00', '1,030.00', '-10.00', '34,710'], ['113/11/26', '31,309,332', '31,750,783,325', '1,015.00', '1,020.00', '1,010.00', '1,010.00', '-20.00', '79,568'], ['113/11/27', '34,602,143', '34,822,499,480', '1,010.00', '1,020.00', '1,000.00', '1,000.00', '-10.00', '111,382'], ['113/11/28', '37,166,049', '37,181,706,464', '1,005.00', '1,005.00', '992.00', '1,005.00', '+5.00', '82,426']], 'notes': ['符號說明:+/-/X表示漲/跌/不比價', '當日統計資訊含一般、零股、盤後定價、鉅額交易，不含拍賣、標購。', 'ETF證券代號第六碼為K、M、S、C者，表示該ETF以外幣交易。', '權證證券代號可重複使用，權證顯示之名稱係目前存續權證之簡稱。'], 'total': 20}\n"
     ]
    }
   ],
   "source": [
    "print(response_json)"
   ]
  },
  {
   "cell_type": "markdown",
   "metadata": {
    "slideshow": {
     "slide_type": "subslide"
    }
   },
   "source": [
    "## 定義函數 `get_twse_data()`"
   ]
  },
  {
   "cell_type": "code",
   "execution_count": 30,
   "metadata": {},
   "outputs": [],
   "source": [
    "def get_twse_data(stock_ticker: str, data_year: int, data_month: int) -> dict:\n",
    "    base_api_url = f\"https://www.twse.com.tw/exchangeReport/STOCK_DAY\"\n",
    "    data_year_month = datetime.date(data_year, data_month, 1).strftime(\"%Y%m\")\n",
    "    request_headers = {\n",
    "        \"User-Agent\": \"Mozilla/5.0 (Macintosh; Intel Mac OS X 10_15_7) AppleWebKit/537.36 (KHTML, like Gecko) Chrome/123.0.0.0 Safari/537.36\"\n",
    "    }\n",
    "    query_str_params = {\n",
    "        \"date\": data_year_month,\n",
    "        \"stockNo\": stock_ticker,\n",
    "        \"response\": \"json\"\n",
    "    }\n",
    "    response = requests.get(base_api_url, headers=request_headers, params=query_str_params)\n",
    "    print(f\"Request status code: {response.status_code}\")\n",
    "    response_json = response.json()\n",
    "    return response_json"
   ]
  },
  {
   "cell_type": "code",
   "execution_count": 31,
   "metadata": {
    "slideshow": {
     "slide_type": "subslide"
    }
   },
   "outputs": [
    {
     "name": "stdout",
     "output_type": "stream",
     "text": [
      "Request status code: 200\n",
      "<class 'dict'>\n"
     ]
    }
   ],
   "source": [
    "tsmc = get_twse_data(\"2330\", 2024, 3)\n",
    "print(type(tsmc))"
   ]
  },
  {
   "cell_type": "markdown",
   "metadata": {
    "slideshow": {
     "slide_type": "subslide"
    }
   },
   "source": [
    "## 關於政府資料開放平台\n",
    "\n",
    "- 首頁：<https://data.gov.tw>\n",
    "- 資料集頁面：<https://data.gov.tw/datasets/search?p=1&size=10&s=_score_desc&cgl-3=712&rct=254>\n",
    "- 資料集 API\n",
    "    - `f\"https://www.twse.com.tw/exchangeReport/{data_name}?response=open_data\"`"
   ]
  },
  {
   "cell_type": "code",
   "execution_count": 32,
   "metadata": {
    "slideshow": {
     "slide_type": "subslide"
    }
   },
   "outputs": [
    {
     "name": "stdout",
     "output_type": "stream",
     "text": [
      "<class 'pandas.core.frame.DataFrame'>\n"
     ]
    }
   ],
   "source": [
    "data_name = \"STOCK_DAY_ALL\"\n",
    "api_url = f\"https://www.twse.com.tw/exchangeReport/{data_name}?response=open_data\"\n",
    "response = requests.get(api_url)\n",
    "string_io_response_text = io.StringIO(response.text)\n",
    "twse = pd.read_csv(string_io_response_text)\n",
    "print(type(twse))"
   ]
  },
  {
   "cell_type": "code",
   "execution_count": 33,
   "metadata": {
    "slideshow": {
     "slide_type": "subslide"
    }
   },
   "outputs": [
    {
     "data": {
      "text/html": [
       "<div>\n",
       "<style scoped>\n",
       "    .dataframe tbody tr th:only-of-type {\n",
       "        vertical-align: middle;\n",
       "    }\n",
       "\n",
       "    .dataframe tbody tr th {\n",
       "        vertical-align: top;\n",
       "    }\n",
       "\n",
       "    .dataframe thead th {\n",
       "        text-align: right;\n",
       "    }\n",
       "</style>\n",
       "<table border=\"1\" class=\"dataframe\">\n",
       "  <thead>\n",
       "    <tr style=\"text-align: right;\">\n",
       "      <th></th>\n",
       "      <th>證券代號</th>\n",
       "      <th>證券名稱</th>\n",
       "      <th>成交股數</th>\n",
       "      <th>成交金額</th>\n",
       "      <th>開盤價</th>\n",
       "      <th>最高價</th>\n",
       "      <th>最低價</th>\n",
       "      <th>收盤價</th>\n",
       "      <th>漲跌價差</th>\n",
       "      <th>成交筆數</th>\n",
       "    </tr>\n",
       "  </thead>\n",
       "  <tbody>\n",
       "    <tr>\n",
       "      <th>0</th>\n",
       "      <td>0050</td>\n",
       "      <td>元大台灣50</td>\n",
       "      <td>14338446.0</td>\n",
       "      <td>2.672826e+09</td>\n",
       "      <td>187.00</td>\n",
       "      <td>187.10</td>\n",
       "      <td>185.45</td>\n",
       "      <td>186.80</td>\n",
       "      <td>-0.30</td>\n",
       "      <td>27682.0</td>\n",
       "    </tr>\n",
       "    <tr>\n",
       "      <th>1</th>\n",
       "      <td>0051</td>\n",
       "      <td>元大中型100</td>\n",
       "      <td>111367.0</td>\n",
       "      <td>8.455506e+06</td>\n",
       "      <td>76.70</td>\n",
       "      <td>76.70</td>\n",
       "      <td>75.50</td>\n",
       "      <td>75.90</td>\n",
       "      <td>-0.80</td>\n",
       "      <td>510.0</td>\n",
       "    </tr>\n",
       "    <tr>\n",
       "      <th>2</th>\n",
       "      <td>0052</td>\n",
       "      <td>富邦科技</td>\n",
       "      <td>992255.0</td>\n",
       "      <td>1.804151e+08</td>\n",
       "      <td>182.90</td>\n",
       "      <td>183.05</td>\n",
       "      <td>181.10</td>\n",
       "      <td>182.70</td>\n",
       "      <td>-0.20</td>\n",
       "      <td>2041.0</td>\n",
       "    </tr>\n",
       "    <tr>\n",
       "      <th>3</th>\n",
       "      <td>0053</td>\n",
       "      <td>元大電子</td>\n",
       "      <td>18947.0</td>\n",
       "      <td>1.856614e+06</td>\n",
       "      <td>98.45</td>\n",
       "      <td>98.45</td>\n",
       "      <td>97.65</td>\n",
       "      <td>97.80</td>\n",
       "      <td>-0.75</td>\n",
       "      <td>167.0</td>\n",
       "    </tr>\n",
       "    <tr>\n",
       "      <th>4</th>\n",
       "      <td>0055</td>\n",
       "      <td>元大MSCI金融</td>\n",
       "      <td>89683.0</td>\n",
       "      <td>2.512171e+06</td>\n",
       "      <td>27.96</td>\n",
       "      <td>28.08</td>\n",
       "      <td>27.95</td>\n",
       "      <td>27.99</td>\n",
       "      <td>0.03</td>\n",
       "      <td>308.0</td>\n",
       "    </tr>\n",
       "    <tr>\n",
       "      <th>...</th>\n",
       "      <td>...</td>\n",
       "      <td>...</td>\n",
       "      <td>...</td>\n",
       "      <td>...</td>\n",
       "      <td>...</td>\n",
       "      <td>...</td>\n",
       "      <td>...</td>\n",
       "      <td>...</td>\n",
       "      <td>...</td>\n",
       "      <td>...</td>\n",
       "    </tr>\n",
       "    <tr>\n",
       "      <th>1264</th>\n",
       "      <td>9944</td>\n",
       "      <td>新麗</td>\n",
       "      <td>97134.0</td>\n",
       "      <td>1.986424e+06</td>\n",
       "      <td>20.45</td>\n",
       "      <td>20.60</td>\n",
       "      <td>20.35</td>\n",
       "      <td>20.40</td>\n",
       "      <td>-0.15</td>\n",
       "      <td>129.0</td>\n",
       "    </tr>\n",
       "    <tr>\n",
       "      <th>1265</th>\n",
       "      <td>9945</td>\n",
       "      <td>潤泰新</td>\n",
       "      <td>3576531.0</td>\n",
       "      <td>1.605492e+08</td>\n",
       "      <td>45.05</td>\n",
       "      <td>45.10</td>\n",
       "      <td>44.60</td>\n",
       "      <td>44.90</td>\n",
       "      <td>-0.10</td>\n",
       "      <td>2438.0</td>\n",
       "    </tr>\n",
       "    <tr>\n",
       "      <th>1266</th>\n",
       "      <td>9946</td>\n",
       "      <td>三發地產</td>\n",
       "      <td>255311.0</td>\n",
       "      <td>6.291760e+06</td>\n",
       "      <td>24.70</td>\n",
       "      <td>24.90</td>\n",
       "      <td>24.45</td>\n",
       "      <td>24.60</td>\n",
       "      <td>-0.10</td>\n",
       "      <td>132.0</td>\n",
       "    </tr>\n",
       "    <tr>\n",
       "      <th>1267</th>\n",
       "      <td>9955</td>\n",
       "      <td>佳龍</td>\n",
       "      <td>541534.0</td>\n",
       "      <td>1.625810e+07</td>\n",
       "      <td>30.50</td>\n",
       "      <td>30.50</td>\n",
       "      <td>29.80</td>\n",
       "      <td>30.05</td>\n",
       "      <td>-0.45</td>\n",
       "      <td>435.0</td>\n",
       "    </tr>\n",
       "    <tr>\n",
       "      <th>1268</th>\n",
       "      <td>9958</td>\n",
       "      <td>世紀鋼</td>\n",
       "      <td>1910099.0</td>\n",
       "      <td>3.410081e+08</td>\n",
       "      <td>181.00</td>\n",
       "      <td>182.00</td>\n",
       "      <td>175.50</td>\n",
       "      <td>180.00</td>\n",
       "      <td>0.50</td>\n",
       "      <td>3273.0</td>\n",
       "    </tr>\n",
       "  </tbody>\n",
       "</table>\n",
       "<p>1269 rows × 10 columns</p>\n",
       "</div>"
      ],
      "text/plain": [
       "      證券代號      證券名稱        成交股數          成交金額     開盤價     最高價     最低價  \\\n",
       "0     0050    元大台灣50  14338446.0  2.672826e+09  187.00  187.10  185.45   \n",
       "1     0051   元大中型100    111367.0  8.455506e+06   76.70   76.70   75.50   \n",
       "2     0052      富邦科技    992255.0  1.804151e+08  182.90  183.05  181.10   \n",
       "3     0053      元大電子     18947.0  1.856614e+06   98.45   98.45   97.65   \n",
       "4     0055  元大MSCI金融     89683.0  2.512171e+06   27.96   28.08   27.95   \n",
       "...    ...       ...         ...           ...     ...     ...     ...   \n",
       "1264  9944        新麗     97134.0  1.986424e+06   20.45   20.60   20.35   \n",
       "1265  9945       潤泰新   3576531.0  1.605492e+08   45.05   45.10   44.60   \n",
       "1266  9946      三發地產    255311.0  6.291760e+06   24.70   24.90   24.45   \n",
       "1267  9955        佳龍    541534.0  1.625810e+07   30.50   30.50   29.80   \n",
       "1268  9958       世紀鋼   1910099.0  3.410081e+08  181.00  182.00  175.50   \n",
       "\n",
       "         收盤價  漲跌價差     成交筆數  \n",
       "0     186.80 -0.30  27682.0  \n",
       "1      75.90 -0.80    510.0  \n",
       "2     182.70 -0.20   2041.0  \n",
       "3      97.80 -0.75    167.0  \n",
       "4      27.99  0.03    308.0  \n",
       "...      ...   ...      ...  \n",
       "1264   20.40 -0.15    129.0  \n",
       "1265   44.90 -0.10   2438.0  \n",
       "1266   24.60 -0.10    132.0  \n",
       "1267   30.05 -0.45    435.0  \n",
       "1268  180.00  0.50   3273.0  \n",
       "\n",
       "[1269 rows x 10 columns]"
      ]
     },
     "execution_count": 33,
     "metadata": {},
     "output_type": "execute_result"
    }
   ],
   "source": [
    "twse"
   ]
  },
  {
   "cell_type": "markdown",
   "metadata": {
    "slideshow": {
     "slide_type": "slide"
    }
   },
   "source": [
    "## 實作：簡單向量化回測"
   ]
  },
  {
   "cell_type": "code",
   "execution_count": 34,
   "metadata": {
    "slideshow": {
     "slide_type": "subslide"
    }
   },
   "outputs": [],
   "source": [
    "from my_finance_module import get_yfinance_data\n",
    "from datetime import datetime\n",
    "import pandas as pd\n",
    "from talib import abstract"
   ]
  },
  {
   "cell_type": "markdown",
   "metadata": {
    "slideshow": {
     "slide_type": "slide"
    }
   },
   "source": [
    "## 平滑異同移動平均線"
   ]
  },
  {
   "cell_type": "markdown",
   "metadata": {
    "slideshow": {
     "slide_type": "subslide"
    }
   },
   "source": [
    "## 關於平滑異同移動平均線\n",
    "\n",
    "- Moving Average Convergence and Divergence, MACD\n",
    "- 利用快線與慢線兩者的走勢與兩者相減所得的差值來判斷股價走勢。\n",
    "- 可以視為指數移動平均線（EMA）的進階應用。"
   ]
  },
  {
   "cell_type": "markdown",
   "metadata": {
    "slideshow": {
     "slide_type": "subslide"
    }
   },
   "source": [
    "## 安裝 `talib` 模組\n",
    "\n",
    "- `conda install -c conda-forge libta-lib`\n",
    "- `conda install -c conda-forge ta-lib`"
   ]
  },
  {
   "cell_type": "code",
   "execution_count": 35,
   "metadata": {
    "slideshow": {
     "slide_type": "subslide"
    }
   },
   "outputs": [
    {
     "name": "stdout",
     "output_type": "stream",
     "text": [
      "Request status code: 200\n"
     ]
    },
    {
     "data": {
      "text/html": [
       "<div>\n",
       "<style scoped>\n",
       "    .dataframe tbody tr th:only-of-type {\n",
       "        vertical-align: middle;\n",
       "    }\n",
       "\n",
       "    .dataframe tbody tr th {\n",
       "        vertical-align: top;\n",
       "    }\n",
       "\n",
       "    .dataframe thead th {\n",
       "        text-align: right;\n",
       "    }\n",
       "</style>\n",
       "<table border=\"1\" class=\"dataframe\">\n",
       "  <thead>\n",
       "    <tr style=\"text-align: right;\">\n",
       "      <th></th>\n",
       "      <th>close</th>\n",
       "    </tr>\n",
       "  </thead>\n",
       "  <tbody>\n",
       "    <tr>\n",
       "      <th>2024-01-02</th>\n",
       "      <td>593.0</td>\n",
       "    </tr>\n",
       "    <tr>\n",
       "      <th>2024-01-03</th>\n",
       "      <td>578.0</td>\n",
       "    </tr>\n",
       "    <tr>\n",
       "      <th>2024-01-04</th>\n",
       "      <td>580.0</td>\n",
       "    </tr>\n",
       "    <tr>\n",
       "      <th>2024-01-05</th>\n",
       "      <td>576.0</td>\n",
       "    </tr>\n",
       "    <tr>\n",
       "      <th>2024-01-08</th>\n",
       "      <td>583.0</td>\n",
       "    </tr>\n",
       "    <tr>\n",
       "      <th>...</th>\n",
       "      <td>...</td>\n",
       "    </tr>\n",
       "    <tr>\n",
       "      <th>2024-11-18</th>\n",
       "      <td>1025.0</td>\n",
       "    </tr>\n",
       "    <tr>\n",
       "      <th>2024-11-19</th>\n",
       "      <td>1040.0</td>\n",
       "    </tr>\n",
       "    <tr>\n",
       "      <th>2024-11-20</th>\n",
       "      <td>1025.0</td>\n",
       "    </tr>\n",
       "    <tr>\n",
       "      <th>2024-11-21</th>\n",
       "      <td>1010.0</td>\n",
       "    </tr>\n",
       "    <tr>\n",
       "      <th>2024-11-22</th>\n",
       "      <td>1040.0</td>\n",
       "    </tr>\n",
       "  </tbody>\n",
       "</table>\n",
       "<p>215 rows × 1 columns</p>\n",
       "</div>"
      ],
      "text/plain": [
       "             close\n",
       "2024-01-02   593.0\n",
       "2024-01-03   578.0\n",
       "2024-01-04   580.0\n",
       "2024-01-05   576.0\n",
       "2024-01-08   583.0\n",
       "...            ...\n",
       "2024-11-18  1025.0\n",
       "2024-11-19  1040.0\n",
       "2024-11-20  1025.0\n",
       "2024-11-21  1010.0\n",
       "2024-11-22  1040.0\n",
       "\n",
       "[215 rows x 1 columns]"
      ]
     },
     "execution_count": 35,
     "metadata": {},
     "output_type": "execute_result"
    }
   ],
   "source": [
    "start_date_str = \"2024-01-01\"\n",
    "stop_date_str = \"2024-11-22\"\n",
    "tsmc = get_yfinance_data(\"2330\", start_date_str, stop_date_str, True)\n",
    "df = pd.DataFrame()\n",
    "df[\"close\"] = tsmc[\"chart\"][\"result\"][0][\"indicators\"][\"quote\"][0][\"close\"]\n",
    "df.index = [datetime.fromtimestamp(ts).date() for ts in tsmc[\"chart\"][\"result\"][0][\"timestamp\"]]\n",
    "df"
   ]
  },
  {
   "cell_type": "markdown",
   "metadata": {
    "slideshow": {
     "slide_type": "subslide"
    }
   },
   "source": [
    "## 如何計算平滑異同移動平均線\n",
    "\n",
    "- MACD 的計算複雜，透過 `talib` 模組協助即可。\n",
    "- 載入 `talib` 模組中的 `abstract` 物件。\n",
    "- 使用 `MACD()` 方法獲得快線（macd）、慢線（macdsignal）與差值（macdhist）。"
   ]
  },
  {
   "cell_type": "code",
   "execution_count": 36,
   "metadata": {
    "slideshow": {
     "slide_type": "-"
    }
   },
   "outputs": [
    {
     "data": {
      "text/html": [
       "<div>\n",
       "<style scoped>\n",
       "    .dataframe tbody tr th:only-of-type {\n",
       "        vertical-align: middle;\n",
       "    }\n",
       "\n",
       "    .dataframe tbody tr th {\n",
       "        vertical-align: top;\n",
       "    }\n",
       "\n",
       "    .dataframe thead th {\n",
       "        text-align: right;\n",
       "    }\n",
       "</style>\n",
       "<table border=\"1\" class=\"dataframe\">\n",
       "  <thead>\n",
       "    <tr style=\"text-align: right;\">\n",
       "      <th></th>\n",
       "      <th>macd</th>\n",
       "      <th>macdsignal</th>\n",
       "      <th>macdhist</th>\n",
       "    </tr>\n",
       "  </thead>\n",
       "  <tbody>\n",
       "    <tr>\n",
       "      <th>2024-01-02</th>\n",
       "      <td>NaN</td>\n",
       "      <td>NaN</td>\n",
       "      <td>NaN</td>\n",
       "    </tr>\n",
       "    <tr>\n",
       "      <th>2024-01-03</th>\n",
       "      <td>NaN</td>\n",
       "      <td>NaN</td>\n",
       "      <td>NaN</td>\n",
       "    </tr>\n",
       "    <tr>\n",
       "      <th>2024-01-04</th>\n",
       "      <td>NaN</td>\n",
       "      <td>NaN</td>\n",
       "      <td>NaN</td>\n",
       "    </tr>\n",
       "    <tr>\n",
       "      <th>2024-01-05</th>\n",
       "      <td>NaN</td>\n",
       "      <td>NaN</td>\n",
       "      <td>NaN</td>\n",
       "    </tr>\n",
       "    <tr>\n",
       "      <th>2024-01-08</th>\n",
       "      <td>NaN</td>\n",
       "      <td>NaN</td>\n",
       "      <td>NaN</td>\n",
       "    </tr>\n",
       "    <tr>\n",
       "      <th>...</th>\n",
       "      <td>...</td>\n",
       "      <td>...</td>\n",
       "      <td>...</td>\n",
       "    </tr>\n",
       "    <tr>\n",
       "      <th>2024-11-18</th>\n",
       "      <td>6.001607</td>\n",
       "      <td>12.676750</td>\n",
       "      <td>-6.675143</td>\n",
       "    </tr>\n",
       "    <tr>\n",
       "      <th>2024-11-19</th>\n",
       "      <td>5.117239</td>\n",
       "      <td>11.164848</td>\n",
       "      <td>-6.047610</td>\n",
       "    </tr>\n",
       "    <tr>\n",
       "      <th>2024-11-20</th>\n",
       "      <td>3.169460</td>\n",
       "      <td>9.565770</td>\n",
       "      <td>-6.396311</td>\n",
       "    </tr>\n",
       "    <tr>\n",
       "      <th>2024-11-21</th>\n",
       "      <td>0.410722</td>\n",
       "      <td>7.734761</td>\n",
       "      <td>-7.324039</td>\n",
       "    </tr>\n",
       "    <tr>\n",
       "      <th>2024-11-22</th>\n",
       "      <td>0.637799</td>\n",
       "      <td>6.315368</td>\n",
       "      <td>-5.677569</td>\n",
       "    </tr>\n",
       "  </tbody>\n",
       "</table>\n",
       "<p>215 rows × 3 columns</p>\n",
       "</div>"
      ],
      "text/plain": [
       "                macd  macdsignal  macdhist\n",
       "2024-01-02       NaN         NaN       NaN\n",
       "2024-01-03       NaN         NaN       NaN\n",
       "2024-01-04       NaN         NaN       NaN\n",
       "2024-01-05       NaN         NaN       NaN\n",
       "2024-01-08       NaN         NaN       NaN\n",
       "...              ...         ...       ...\n",
       "2024-11-18  6.001607   12.676750 -6.675143\n",
       "2024-11-19  5.117239   11.164848 -6.047610\n",
       "2024-11-20  3.169460    9.565770 -6.396311\n",
       "2024-11-21  0.410722    7.734761 -7.324039\n",
       "2024-11-22  0.637799    6.315368 -5.677569\n",
       "\n",
       "[215 rows x 3 columns]"
      ]
     },
     "execution_count": 36,
     "metadata": {},
     "output_type": "execute_result"
    }
   ],
   "source": [
    "abstract.MACD(df)"
   ]
  },
  {
   "cell_type": "code",
   "execution_count": 37,
   "metadata": {
    "slideshow": {
     "slide_type": "subslide"
    }
   },
   "outputs": [
    {
     "data": {
      "text/plain": [
       "<AxesSubplot: >"
      ]
     },
     "execution_count": 37,
     "metadata": {},
     "output_type": "execute_result"
    },
    {
     "data": {
      "image/png": "[encoded data removed]",
      "text/plain": [
       "<Figure size 640x480 with 1 Axes>"
      ]
     },
     "metadata": {},
     "output_type": "display_data"
    }
   ],
   "source": [
    "abstract.MACD(df).plot()"
   ]
  },
  {
   "cell_type": "markdown",
   "metadata": {
    "slideshow": {
     "slide_type": "subslide"
    }
   },
   "source": [
    "## 依據平滑異同移動平均線制定進場、出場策略\n",
    "\n",
    "- 當快線穿過慢線且沒有庫存時買入。\n",
    "- 當慢線穿過快線且有庫存時賣出。"
   ]
  },
  {
   "cell_type": "code",
   "execution_count": 38,
   "metadata": {
    "slideshow": {
     "slide_type": "subslide"
    }
   },
   "outputs": [
    {
     "name": "stdout",
     "output_type": "stream",
     "text": [
      "trade times: 16, profit: 222.0\n",
      "[('2024-03-05', 'Buy', 730.0), ('2024-03-18', 'Sell', 764.0), ('2024-04-11', 'Buy', 820.0), ('2024-04-15', 'Sell', 806.0), ('2024-05-08', 'Buy', 802.0), ('2024-05-30', 'Sell', 838.0), ('2024-06-07', 'Buy', 879.0), ('2024-07-02', 'Sell', 960.0), ('2024-07-04', 'Buy', 1005.0), ('2024-07-17', 'Sell', 1030.0), ('2024-08-14', 'Buy', 948.0), ('2024-09-03', 'Sell', 940.0), ('2024-09-13', 'Buy', 947.0), ('2024-10-28', 'Sell', 1050.0), ('2024-11-11', 'Buy', 1085.0), ('2024-11-12', 'Sell', 1050.0)]\n"
     ]
    }
   ],
   "source": [
    "stock_inventory = 0\n",
    "profit = 0\n",
    "trade_history = []\n",
    "macd_df = abstract.MACD(df)\n",
    "for trade_date, row in macd_df.iterrows():\n",
    "    if pd.isnull(row[\"macd\"]):\n",
    "        continue\n",
    "    if row[\"macd\"] > row[\"macdsignal\"] and stock_inventory == 0:\n",
    "        stock_inventory = 1\n",
    "        price = df.loc[trade_date, \"close\"]\n",
    "        trade_history.append((trade_date.strftime(\"%Y-%m-%d\"), \"Buy\", price))\n",
    "    elif row[\"macd\"] < row[\"macdsignal\"] and stock_inventory == 1:\n",
    "        stock_inventory = 0\n",
    "        price = df.loc[trade_date, \"close\"]\n",
    "        last_price = trade_history[-1][2]\n",
    "        current_profit = price - last_price\n",
    "        profit += current_profit\n",
    "        trade_history.append((trade_date.strftime(\"%Y-%m-%d\"), \"Sell\", price))\n",
    "trade_times = len(trade_history)\n",
    "print(f\"trade times: {trade_times}, profit: {profit}\")\n",
    "print(trade_history)"
   ]
  },
  {
   "cell_type": "markdown",
   "metadata": {
    "slideshow": {
     "slide_type": "slide"
    }
   },
   "source": [
    "## 相對強弱指標"
   ]
  },
  {
   "cell_type": "markdown",
   "metadata": {
    "slideshow": {
     "slide_type": "subslide"
    }
   },
   "source": [
    "## 關於相對強弱指標\n",
    "\n",
    "- Relative Strength Index, RSI\n",
    "- 用來評估股市中「買賣雙方力道的強弱」，衡量股價上漲和下跌的天數以及幅度，來判斷股價是否有超買或超賣的狀況。"
   ]
  },
  {
   "cell_type": "markdown",
   "metadata": {
    "slideshow": {
     "slide_type": "subslide"
    }
   },
   "source": [
    "## 如何計算相對強弱指標\n",
    "\n",
    "- 相對強弱指標的計算複雜，透過 `talib` 模組協助即可。\n",
    "- 載入 `talib` 模組中的 `abstract` 物件。\n",
    "- 使用 `RSI()` 方法獲得相對強弱指標。"
   ]
  },
  {
   "cell_type": "code",
   "execution_count": 39,
   "metadata": {},
   "outputs": [
    {
     "data": {
      "text/plain": [
       "2024-01-02          NaN\n",
       "2024-01-03          NaN\n",
       "2024-01-04          NaN\n",
       "2024-01-05          NaN\n",
       "2024-01-08          NaN\n",
       "                ...    \n",
       "2024-11-18    45.648266\n",
       "2024-11-19    50.383592\n",
       "2024-11-20    46.061816\n",
       "2024-11-21    42.166643\n",
       "2024-11-22    51.077319\n",
       "Length: 215, dtype: float64"
      ]
     },
     "execution_count": 39,
     "metadata": {},
     "output_type": "execute_result"
    }
   ],
   "source": [
    "abstract.RSI(df)"
   ]
  },
  {
   "cell_type": "code",
   "execution_count": 40,
   "metadata": {
    "slideshow": {
     "slide_type": "subslide"
    }
   },
   "outputs": [
    {
     "data": {
      "text/plain": [
       "<AxesSubplot: >"
      ]
     },
     "execution_count": 40,
     "metadata": {},
     "output_type": "execute_result"
    },
    {
     "data": {
      "image/png": "[encoded data removed]",
      "text/plain": [
       "<Figure size 640x480 with 1 Axes>"
      ]
     },
     "metadata": {},
     "output_type": "display_data"
    }
   ],
   "source": [
    "abstract.RSI(df).plot()"
   ]
  },
  {
   "cell_type": "markdown",
   "metadata": {
    "slideshow": {
     "slide_type": "subslide"
    }
   },
   "source": [
    "## 依據相對強弱指標制定進場、出場策略\n",
    "\n",
    "- 當相對強弱指標未滿 50 且沒有庫存時買入。\n",
    "- 當相對強弱指標超過 70 且有庫存時賣出。"
   ]
  },
  {
   "cell_type": "code",
   "execution_count": 41,
   "metadata": {
    "slideshow": {
     "slide_type": "subslide"
    }
   },
   "outputs": [
    {
     "name": "stdout",
     "output_type": "stream",
     "text": [
      "trade times: 7, profit: 336.0\n",
      "[('2024-04-19', 'Buy', 750.0), ('2024-05-22', 'Sell', 864.0), ('2024-05-31', 'Buy', 821.0), ('2024-06-18', 'Sell', 943.0), ('2024-07-19', 'Buy', 970.0), ('2024-10-15', 'Sell', 1070.0), ('2024-11-01', 'Buy', 1025.0)]\n"
     ]
    }
   ],
   "source": [
    "stock_inventory = 0\n",
    "profit = 0\n",
    "trade_history = []\n",
    "rsi_series = abstract.RSI(df)\n",
    "for trade_date, rsi_value in zip(rsi_series.index, rsi_series.values):\n",
    "    if pd.isnull(rsi_value):\n",
    "        continue\n",
    "    if rsi_value < 50 and stock_inventory == 0:\n",
    "        stock_inventory = 1\n",
    "        price = df.loc[trade_date, \"close\"]\n",
    "        trade_history.append((trade_date.strftime(\"%Y-%m-%d\"), \"Buy\", price))\n",
    "    elif rsi_value > 70 and stock_inventory == 1:\n",
    "        stock_inventory = 0\n",
    "        price = df.loc[trade_date, \"close\"]\n",
    "        last_price = trade_history[-1][2]\n",
    "        current_profit = price - last_price\n",
    "        profit += current_profit\n",
    "        trade_history.append((trade_date.strftime(\"%Y-%m-%d\"), \"Sell\", price))\n",
    "trade_times = len(trade_history)\n",
    "print(f\"trade times: {trade_times}, profit: {profit}\")\n",
    "print(trade_history)"
   ]
  },
  {
   "cell_type": "markdown",
   "metadata": {
    "slideshow": {
     "slide_type": "slide"
    }
   },
   "source": [
    "## 隨機指標"
   ]
  },
  {
   "cell_type": "markdown",
   "metadata": {
    "slideshow": {
     "slide_type": "subslide"
    }
   },
   "source": [
    "## 關於隨機指標\n",
    "\n",
    "- Stochastic Oscillator\n",
    "- 由 K 和 D 兩個值組成，使用隨機指標的投資人會用這兩個值來判斷目前價格相對過去一段時間的高低變化。\n",
    "- 相對強弱指標與隨機指標都是技術分析中的動量分析（Momentum analysis）方法。\n",
    "    - 相對強弱指標呈現「一段時間內股價買盤與賣盤力量強弱比例」。\n",
    "    - 隨機指標呈現「最新股價的相對高低位置」。"
   ]
  },
  {
   "cell_type": "markdown",
   "metadata": {
    "slideshow": {
     "slide_type": "subslide"
    }
   },
   "source": [
    "## 如何計算隨機指標\n",
    "\n",
    "- 隨機指標的計算複雜，透過 `talib` 模組協助即可。\n",
    "- 載入 `talib` 模組中的 `abstract` 物件。\n",
    "- 使用 `STOCH()` 方法獲得隨機指標。\n",
    "- 提供的 `DataFrame` 必須要有 OHLC 四個價格。"
   ]
  },
  {
   "cell_type": "code",
   "execution_count": 42,
   "metadata": {
    "slideshow": {
     "slide_type": "subslide"
    }
   },
   "outputs": [
    {
     "data": {
      "text/html": [
       "<div>\n",
       "<style scoped>\n",
       "    .dataframe tbody tr th:only-of-type {\n",
       "        vertical-align: middle;\n",
       "    }\n",
       "\n",
       "    .dataframe tbody tr th {\n",
       "        vertical-align: top;\n",
       "    }\n",
       "\n",
       "    .dataframe thead th {\n",
       "        text-align: right;\n",
       "    }\n",
       "</style>\n",
       "<table border=\"1\" class=\"dataframe\">\n",
       "  <thead>\n",
       "    <tr style=\"text-align: right;\">\n",
       "      <th></th>\n",
       "      <th>open</th>\n",
       "      <th>high</th>\n",
       "      <th>low</th>\n",
       "      <th>close</th>\n",
       "    </tr>\n",
       "  </thead>\n",
       "  <tbody>\n",
       "    <tr>\n",
       "      <th>2024-01-02</th>\n",
       "      <td>590.0</td>\n",
       "      <td>593.0</td>\n",
       "      <td>589.0</td>\n",
       "      <td>593.0</td>\n",
       "    </tr>\n",
       "    <tr>\n",
       "      <th>2024-01-03</th>\n",
       "      <td>584.0</td>\n",
       "      <td>585.0</td>\n",
       "      <td>576.0</td>\n",
       "      <td>578.0</td>\n",
       "    </tr>\n",
       "    <tr>\n",
       "      <th>2024-01-04</th>\n",
       "      <td>580.0</td>\n",
       "      <td>581.0</td>\n",
       "      <td>577.0</td>\n",
       "      <td>580.0</td>\n",
       "    </tr>\n",
       "    <tr>\n",
       "      <th>2024-01-05</th>\n",
       "      <td>578.0</td>\n",
       "      <td>580.0</td>\n",
       "      <td>574.0</td>\n",
       "      <td>576.0</td>\n",
       "    </tr>\n",
       "    <tr>\n",
       "      <th>2024-01-08</th>\n",
       "      <td>582.0</td>\n",
       "      <td>585.0</td>\n",
       "      <td>579.0</td>\n",
       "      <td>583.0</td>\n",
       "    </tr>\n",
       "    <tr>\n",
       "      <th>...</th>\n",
       "      <td>...</td>\n",
       "      <td>...</td>\n",
       "      <td>...</td>\n",
       "      <td>...</td>\n",
       "    </tr>\n",
       "    <tr>\n",
       "      <th>2024-11-18</th>\n",
       "      <td>1030.0</td>\n",
       "      <td>1035.0</td>\n",
       "      <td>1020.0</td>\n",
       "      <td>1025.0</td>\n",
       "    </tr>\n",
       "    <tr>\n",
       "      <th>2024-11-19</th>\n",
       "      <td>1030.0</td>\n",
       "      <td>1045.0</td>\n",
       "      <td>1025.0</td>\n",
       "      <td>1040.0</td>\n",
       "    </tr>\n",
       "    <tr>\n",
       "      <th>2024-11-20</th>\n",
       "      <td>1025.0</td>\n",
       "      <td>1025.0</td>\n",
       "      <td>1025.0</td>\n",
       "      <td>1025.0</td>\n",
       "    </tr>\n",
       "    <tr>\n",
       "      <th>2024-11-21</th>\n",
       "      <td>1020.0</td>\n",
       "      <td>1025.0</td>\n",
       "      <td>1010.0</td>\n",
       "      <td>1010.0</td>\n",
       "    </tr>\n",
       "    <tr>\n",
       "      <th>2024-11-22</th>\n",
       "      <td>1035.0</td>\n",
       "      <td>1050.0</td>\n",
       "      <td>1035.0</td>\n",
       "      <td>1040.0</td>\n",
       "    </tr>\n",
       "  </tbody>\n",
       "</table>\n",
       "<p>215 rows × 4 columns</p>\n",
       "</div>"
      ],
      "text/plain": [
       "              open    high     low   close\n",
       "2024-01-02   590.0   593.0   589.0   593.0\n",
       "2024-01-03   584.0   585.0   576.0   578.0\n",
       "2024-01-04   580.0   581.0   577.0   580.0\n",
       "2024-01-05   578.0   580.0   574.0   576.0\n",
       "2024-01-08   582.0   585.0   579.0   583.0\n",
       "...            ...     ...     ...     ...\n",
       "2024-11-18  1030.0  1035.0  1020.0  1025.0\n",
       "2024-11-19  1030.0  1045.0  1025.0  1040.0\n",
       "2024-11-20  1025.0  1025.0  1025.0  1025.0\n",
       "2024-11-21  1020.0  1025.0  1010.0  1010.0\n",
       "2024-11-22  1035.0  1050.0  1035.0  1040.0\n",
       "\n",
       "[215 rows x 4 columns]"
      ]
     },
     "execution_count": 42,
     "metadata": {},
     "output_type": "execute_result"
    }
   ],
   "source": [
    "df = pd.DataFrame()\n",
    "for p in [\"open\", \"high\", \"low\", \"close\"]:\n",
    "    df[p] = tsmc[\"chart\"][\"result\"][0][\"indicators\"][\"quote\"][0][p]\n",
    "df.index = [datetime.fromtimestamp(ts).date() for ts in tsmc[\"chart\"][\"result\"][0][\"timestamp\"]]\n",
    "df"
   ]
  },
  {
   "cell_type": "code",
   "execution_count": 43,
   "metadata": {
    "slideshow": {
     "slide_type": "subslide"
    }
   },
   "outputs": [
    {
     "data": {
      "text/html": [
       "<div>\n",
       "<style scoped>\n",
       "    .dataframe tbody tr th:only-of-type {\n",
       "        vertical-align: middle;\n",
       "    }\n",
       "\n",
       "    .dataframe tbody tr th {\n",
       "        vertical-align: top;\n",
       "    }\n",
       "\n",
       "    .dataframe thead th {\n",
       "        text-align: right;\n",
       "    }\n",
       "</style>\n",
       "<table border=\"1\" class=\"dataframe\">\n",
       "  <thead>\n",
       "    <tr style=\"text-align: right;\">\n",
       "      <th></th>\n",
       "      <th>slowk</th>\n",
       "      <th>slowd</th>\n",
       "    </tr>\n",
       "  </thead>\n",
       "  <tbody>\n",
       "    <tr>\n",
       "      <th>2024-01-02</th>\n",
       "      <td>NaN</td>\n",
       "      <td>NaN</td>\n",
       "    </tr>\n",
       "    <tr>\n",
       "      <th>2024-01-03</th>\n",
       "      <td>NaN</td>\n",
       "      <td>NaN</td>\n",
       "    </tr>\n",
       "    <tr>\n",
       "      <th>2024-01-04</th>\n",
       "      <td>NaN</td>\n",
       "      <td>NaN</td>\n",
       "    </tr>\n",
       "    <tr>\n",
       "      <th>2024-01-05</th>\n",
       "      <td>NaN</td>\n",
       "      <td>NaN</td>\n",
       "    </tr>\n",
       "    <tr>\n",
       "      <th>2024-01-08</th>\n",
       "      <td>NaN</td>\n",
       "      <td>NaN</td>\n",
       "    </tr>\n",
       "    <tr>\n",
       "      <th>...</th>\n",
       "      <td>...</td>\n",
       "      <td>...</td>\n",
       "    </tr>\n",
       "    <tr>\n",
       "      <th>2024-11-18</th>\n",
       "      <td>13.960114</td>\n",
       "      <td>12.003799</td>\n",
       "    </tr>\n",
       "    <tr>\n",
       "      <th>2024-11-19</th>\n",
       "      <td>31.054131</td>\n",
       "      <td>18.423552</td>\n",
       "    </tr>\n",
       "    <tr>\n",
       "      <th>2024-11-20</th>\n",
       "      <td>32.592593</td>\n",
       "      <td>25.868946</td>\n",
       "    </tr>\n",
       "    <tr>\n",
       "      <th>2024-11-21</th>\n",
       "      <td>28.888889</td>\n",
       "      <td>30.845204</td>\n",
       "    </tr>\n",
       "    <tr>\n",
       "      <th>2024-11-22</th>\n",
       "      <td>31.666667</td>\n",
       "      <td>31.049383</td>\n",
       "    </tr>\n",
       "  </tbody>\n",
       "</table>\n",
       "<p>215 rows × 2 columns</p>\n",
       "</div>"
      ],
      "text/plain": [
       "                slowk      slowd\n",
       "2024-01-02        NaN        NaN\n",
       "2024-01-03        NaN        NaN\n",
       "2024-01-04        NaN        NaN\n",
       "2024-01-05        NaN        NaN\n",
       "2024-01-08        NaN        NaN\n",
       "...               ...        ...\n",
       "2024-11-18  13.960114  12.003799\n",
       "2024-11-19  31.054131  18.423552\n",
       "2024-11-20  32.592593  25.868946\n",
       "2024-11-21  28.888889  30.845204\n",
       "2024-11-22  31.666667  31.049383\n",
       "\n",
       "[215 rows x 2 columns]"
      ]
     },
     "execution_count": 43,
     "metadata": {},
     "output_type": "execute_result"
    }
   ],
   "source": [
    "abstract.STOCH(df)"
   ]
  },
  {
   "cell_type": "code",
   "execution_count": 44,
   "metadata": {
    "slideshow": {
     "slide_type": "subslide"
    }
   },
   "outputs": [
    {
     "data": {
      "text/plain": [
       "<AxesSubplot: >"
      ]
     },
     "execution_count": 44,
     "metadata": {},
     "output_type": "execute_result"
    },
    {
     "data": {
      "image/png": "[encoded data removed]",
      "text/plain": [
       "<Figure size 640x480 with 1 Axes>"
      ]
     },
     "metadata": {},
     "output_type": "display_data"
    }
   ],
   "source": [
    "abstract.STOCH(df).plot()"
   ]
  },
  {
   "cell_type": "markdown",
   "metadata": {
    "slideshow": {
     "slide_type": "subslide"
    }
   },
   "source": [
    "## 依據隨機指標制定進場、出場策略\n",
    "\n",
    "- 當 K 值大於 D 值且沒有庫存時買入。\n",
    "- 當 K 值小於 D 值且有庫存時賣出。"
   ]
  },
  {
   "cell_type": "code",
   "execution_count": 45,
   "metadata": {
    "slideshow": {
     "slide_type": "subslide"
    }
   },
   "outputs": [
    {
     "name": "stdout",
     "output_type": "stream",
     "text": [
      "trade times: 57, profit: 152.0\n",
      "[('2024-01-18', 'Buy', 588.0), ('2024-01-24', 'Sell', 627.0), ('2024-01-25', 'Buy', 642.0), ('2024-01-30', 'Sell', 642.0), ('2024-02-05', 'Buy', 646.0), ('2024-02-19', 'Sell', 678.0), ('2024-02-23', 'Buy', 697.0), ('2024-02-29', 'Sell', 690.0), ('2024-03-05', 'Buy', 730.0), ('2024-03-08', 'Sell', 784.0), ('2024-03-21', 'Buy', 784.0), ('2024-03-27', 'Sell', 779.0), ('2024-04-02', 'Buy', 790.0), ('2024-04-15', 'Sell', 806.0), ('2024-04-19', 'Buy', 750.0), ('2024-04-22', 'Sell', 742.0), ('2024-04-24', 'Buy', 783.0), ('2024-05-02', 'Sell', 772.0), ('2024-05-07', 'Buy', 800.0), ('2024-05-10', 'Sell', 802.0), ('2024-05-14', 'Buy', 825.0), ('2024-05-16', 'Sell', 841.0), ('2024-05-22', 'Buy', 864.0), ('2024-05-27', 'Sell', 869.0), ('2024-06-03', 'Buy', 846.0), ('2024-06-11', 'Sell', 883.0), ('2024-06-13', 'Buy', 919.0), ('2024-06-17', 'Sell', 921.0), ('2024-06-18', 'Buy', 943.0), ('2024-06-24', 'Sell', 940.0), ('2024-06-27', 'Buy', 960.0), ('2024-07-02', 'Sell', 960.0), ('2024-07-04', 'Buy', 1005.0), ('2024-07-09', 'Sell', 1040.0), ('2024-07-11', 'Buy', 1080.0), ('2024-07-12', 'Sell', 1040.0), ('2024-07-23', 'Buy', 979.0), ('2024-08-02', 'Sell', 903.0), ('2024-08-07', 'Buy', 920.0), ('2024-08-14', 'Sell', 948.0), ('2024-08-19', 'Buy', 973.0), ('2024-08-21', 'Sell', 958.0), ('2024-08-28', 'Buy', 964.0), ('2024-09-02', 'Sell', 948.0), ('2024-09-06', 'Buy', 918.0), ('2024-09-27', 'Sell', 1000.0), ('2024-10-07', 'Buy', 1005.0), ('2024-10-14', 'Sell', 1045.0), ('2024-10-15', 'Buy', 1070.0), ('2024-10-16', 'Sell', 1045.0), ('2024-10-21', 'Buy', 1085.0), ('2024-10-23', 'Sell', 1060.0), ('2024-10-29', 'Buy', 1040.0), ('2024-11-12', 'Sell', 1050.0), ('2024-11-18', 'Buy', 1025.0), ('2024-11-21', 'Sell', 1010.0), ('2024-11-22', 'Buy', 1040.0)]\n"
     ]
    }
   ],
   "source": [
    "stock_inventory = 0\n",
    "profit = 0\n",
    "trade_history = []\n",
    "stoch_df = abstract.STOCH(df)\n",
    "for trade_date, row in stoch_df.iterrows():\n",
    "    if pd.isnull(row[\"slowk\"]):\n",
    "        continue\n",
    "    if row[\"slowk\"] > row[\"slowd\"] and stock_inventory == 0:\n",
    "        stock_inventory = 1\n",
    "        price = df.loc[trade_date, \"close\"]\n",
    "        trade_history.append((trade_date.strftime(\"%Y-%m-%d\"), \"Buy\", price))\n",
    "    elif row[\"slowk\"] < row[\"slowd\"] and stock_inventory == 1:\n",
    "        stock_inventory = 0\n",
    "        price = df.loc[trade_date, \"close\"]\n",
    "        last_price = trade_history[-1][2]\n",
    "        current_profit = price - last_price\n",
    "        profit += current_profit\n",
    "        trade_history.append((trade_date.strftime(\"%Y-%m-%d\"), \"Sell\", price))\n",
    "trade_times = len(trade_history)\n",
    "print(f\"trade times: {trade_times}, profit: {profit}\")\n",
    "print(trade_history)"
   ]
  },
  {
   "cell_type": "markdown",
   "metadata": {
    "slideshow": {
     "slide_type": "slide"
    }
   },
   "source": [
    "## 實作：以動態圖表呈現串流金融資料"
   ]
  },
  {
   "cell_type": "markdown",
   "metadata": {
    "slideshow": {
     "slide_type": "subslide"
    }
   },
   "source": [
    "## 全年無休的串流金融資料\n",
    "\n",
    "- 以比特幣兌美元（BTC-USD）為範例。\n",
    "- BINANCE 幣安是全球性的加密貨幣交易所，為超過 100 種加密貨幣提供交易服務的平台，2018年初以來，幣安在交易量方面被認為是全世界上最大的加密貨幣交易所。"
   ]
  },
  {
   "cell_type": "markdown",
   "metadata": {
    "slideshow": {
     "slide_type": "subslide"
    }
   },
   "source": [
    "## BINANCE Websocket Market Streams\n",
    "\n",
    "- WebSocket 是一種網路傳輸協定，使得客戶端和伺服器之間的資料交換變得更加簡單，允許伺服器端主動向客戶端推播資料。\n",
    "- 在 WebSocket API 中瀏覽器和伺服器只需要完成一次連線，兩者之間就可以建立永續的連接並進行雙向資料傳輸。\n",
    "- BINANCE Websocket Market Streams 連線端點：wss://fstream.binance.com/ws"
   ]
  },
  {
   "cell_type": "markdown",
   "metadata": {
    "slideshow": {
     "slide_type": "subslide"
    }
   },
   "source": [
    "## 比特幣兌美元（BTC-USD）交易資料\n",
    "\n",
    "連線端點：wss://fstream.binance.com/ws/btcusdt@aggTrade\n",
    "\n",
    "```python\n",
    "# Run with a script instead of jupyter notebook\n",
    "import asyncio\n",
    "from websockets import connect\n",
    "import json\n",
    "\n",
    "async def connect_to_binance_web_market_stream(url):\n",
    "    async with connect(url) as websocket:\n",
    "        while True:\n",
    "            data_str = await websocket.recv()\n",
    "            data_dict = json.loads(data_str)\n",
    "            print(data_dict)\n",
    "        \n",
    "url = \"wss://fstream.binance.com/ws/btcusdt@aggTrade\"\n",
    "asyncio.run(connect_to_binance_web_market_stream(url))\n",
    "```"
   ]
  },
  {
   "cell_type": "markdown",
   "metadata": {
    "slideshow": {
     "slide_type": "subslide"
    }
   },
   "source": [
    "## 建立一個 SQLite 資料庫儲存比特幣兌美元（BTC-USD）交易資料\n",
    "\n",
    "```python\n",
    "# Run with a script instead of jupyter notebook\n",
    "import sqlite3\n",
    "\n",
    "conn = sqlite3.connect(\"agg_trade.db\")\n",
    "cursor = conn.cursor()\n",
    "cursor.execute(\"DROP TABLE IF EXISTS btcusdt;\")\n",
    "create_table_statement = \"\"\"\n",
    "CREATE TABLE btcusdt (\n",
    "    id UNSIGNED BIG INT PRIMARY KEY,\n",
    "    trade_time UNSIGNED BIG INT,\n",
    "    price float,\n",
    "    quantity float\n",
    ")\n",
    "\"\"\"\n",
    "cursor.execute(create_table_statement)\n",
    "cursor.execute(\"CREATE INDEX idx_trade_time ON btcusdt(trade_time);\")\n",
    "conn.commit()\n",
    "conn.close()\n",
    "```"
   ]
  },
  {
   "cell_type": "markdown",
   "metadata": {
    "slideshow": {
     "slide_type": "subslide"
    }
   },
   "source": [
    "## 運用 SQLite 資料庫作為即時交易資料的緩衝\n",
    "\n",
    "```python\n",
    "async def insert_data_into_db(url):\n",
    "    async with connect(url) as websocket:\n",
    "        data_dicts = []\n",
    "        while True:\n",
    "            data_str = await websocket.recv()\n",
    "            data_dict = json.loads(data_str)\n",
    "            data_to_append = (data_dict[\"a\"], data_dict[\"T\"], data_dict[\"p\"], data_dict[\"q\"])\n",
    "            data_dicts.append(data_to_append)\n",
    "            print(data_dict)\n",
    "            if len(data_dicts) > 10:\n",
    "                print(\"Inserting into DB...\")\n",
    "                async with aiosqlite.connect(\"agg_trade.db\") as db:\n",
    "                    await db.executemany(\"\"\"INSERT INTO btcusdt (id, trade_time, price, quantity) VALUES (?, ?, ?, ?)\"\"\", data_dicts)\n",
    "                    await db.commit()\n",
    "                data_dicts = []\n",
    "```"
   ]
  },
  {
   "cell_type": "markdown",
   "metadata": {
    "slideshow": {
     "slide_type": "subslide"
    }
   },
   "source": [
    "## 整合串流金融資料擷取與緩衝\n",
    "\n",
    "```python\n",
    "# btcusdt_agg_trade_stream.py\n",
    "import sqlite3\n",
    "import asyncio\n",
    "from websockets import connect\n",
    "import json\n",
    "import aiosqlite\n",
    "\n",
    "conn = sqlite3.connect(\"agg_trade.db\")\n",
    "cursor = conn.cursor()\n",
    "cursor.execute(\"DROP TABLE IF EXISTS btcusdt;\")\n",
    "create_table_statement = \"\"\"\n",
    "CREATE TABLE btcusdt (\n",
    "    id UNSIGNED BIG INT PRIMARY KEY,\n",
    "    trade_time UNSIGNED BIG INT,\n",
    "    price float,\n",
    "    quantity float\n",
    ")\n",
    "\"\"\"\n",
    "cursor.execute(create_table_statement)\n",
    "cursor.execute(\"CREATE INDEX idx_trade_time ON btcusdt(trade_time);\")\n",
    "conn.commit()\n",
    "conn.close()\n",
    "```"
   ]
  },
  {
   "cell_type": "markdown",
   "metadata": {
    "slideshow": {
     "slide_type": "subslide"
    }
   },
   "source": [
    "## 整合串流金融資料擷取與緩衝（續）\n",
    "\n",
    "```python\n",
    "async def insert_data_into_db(url):\n",
    "    async with connect(url) as websocket:\n",
    "        data_dicts = []\n",
    "        while True:\n",
    "            data_str = await websocket.recv()\n",
    "            data_dict = json.loads(data_str)\n",
    "            data_to_append = (data_dict[\"a\"], data_dict[\"T\"], data_dict[\"p\"], data_dict[\"q\"])\n",
    "            data_dicts.append(data_to_append)\n",
    "            print(data_dict)\n",
    "            if len(data_dicts) > 10:\n",
    "                print(\"Inserting into DB...\")\n",
    "                async with aiosqlite.connect(\"agg_trade.db\") as db:\n",
    "                    await db.executemany(\"\"\"INSERT INTO btcusdt (id, trade_time, price, quantity) VALUES (?, ?, ?, ?)\"\"\", data_dicts)\n",
    "                    await db.commit()\n",
    "                data_dicts = []\n",
    "                \n",
    "url = \"wss://fstream.binance.com/ws/btcusdt@aggTrade\"\n",
    "asyncio.run(insert_data_into_db(url))\n",
    "```"
   ]
  },
  {
   "cell_type": "markdown",
   "metadata": {
    "slideshow": {
     "slide_type": "subslide"
    }
   },
   "source": [
    "## 整合串流金融資料擷取與緩衝（續）\n",
    "\n",
    "- 執行 `python btcusdt_agg_trade_stream.py`\n",
    "- 以 SQLiteStudio 檢查 SQLite 資料庫：<https://github.com/pawelsalawa/sqlitestudio/releases>"
   ]
  },
  {
   "cell_type": "markdown",
   "metadata": {
    "slideshow": {
     "slide_type": "slide"
    }
   },
   "source": [
    "## 視覺化串流金融資料"
   ]
  },
  {
   "cell_type": "markdown",
   "metadata": {
    "slideshow": {
     "slide_type": "subslide"
    }
   },
   "source": [
    "## Plotly Dash\n",
    "\n",
    "- Dash 是以 Plotly.js、React.js 與 Flask 為基礎建構的視覺化模組，不僅支援 Python，也支援 R、Julia 等語言。\n",
    "- Dash 可以用來建置網頁應用程式，利於呈現資料視覺化與儀表板 Dashboard。Dash 除了支援 Plotly 的豐富圖表之外，也有下拉式選單、按鈕以及其他網頁介面功能可使用。\n",
    "- <https://dash.plotly.com>"
   ]
  },
  {
   "cell_type": "markdown",
   "metadata": {
    "slideshow": {
     "slide_type": "subslide"
    }
   },
   "source": [
    "## 建構一個簡易前端頁面\n",
    "\n",
    "```python\n",
    "# Run with a script instead of jupyter notebook\n",
    "from dash import html, dcc, Output, Input, Dash\n",
    "\n",
    "update_frequency = 200\n",
    "app = Dash(__name__)\n",
    "app.layout = html.Div([\n",
    "    html.H1(id=\"show_value\"),\n",
    "    dcc.Interval(id=\"update\", interval=update_frequency)\n",
    "])\n",
    "if __name__ == \"__main__\":\n",
    "    app.run_server(debug=True)\n",
    "```"
   ]
  },
  {
   "cell_type": "markdown",
   "metadata": {
    "slideshow": {
     "slide_type": "subslide"
    }
   },
   "source": [
    "## 以裝飾器更新 `H1` 的數值\n",
    "\n",
    "```python\n",
    "import sqlite3\n",
    "\n",
    "@app.callback(Output(\"show_value\", \"children\"), [Input(\"update\", \"n_intervals\")])\n",
    "def update_data(n_intervals):\n",
    "    conn = sqlite3.connect(\"agg_trade.db\")\n",
    "    cursor = conn.cursor()\n",
    "    sql_statement = \"\"\"\n",
    "    SELECT *\n",
    "      FROM btcusdt\n",
    "     ORDER BY trade_time DESC\n",
    "     LIMIT 1;\n",
    "    \"\"\"\n",
    "    list_of_tuples = cursor.execute(sql_statement).fetchall()\n",
    "    latest_price = list_of_tuples[0][2]\n",
    "    return latest_price\n",
    "```"
   ]
  },
  {
   "cell_type": "markdown",
   "metadata": {
    "slideshow": {
     "slide_type": "subslide"
    }
   },
   "source": [
    "## 建構一個簡易前端頁面（續）\n",
    "\n",
    "```python\n",
    "# Run with a script instead of jupyter notebook\n",
    "from dash import html, dcc, Output, Input, Dash\n",
    "\n",
    "update_frequency = 200\n",
    "figure = dict(data=[{'x': [], 'y': []}], \n",
    "              layout=dict(xaxis=dict(autorange=True), yaxis=dict(autorange=True)))\n",
    "app = dash.Dash()\n",
    "app.layout = html.Div([\n",
    "    dcc.Graph(id='graph', figure=figure),\n",
    "    dcc.Interval(id=\"interval\")]\n",
    ")\n",
    "if __name__ == \"__main__\":\n",
    "    app.run_server(debug=True)\n",
    "```"
   ]
  },
  {
   "cell_type": "markdown",
   "metadata": {
    "slideshow": {
     "slide_type": "subslide"
    }
   },
   "source": [
    "## 以裝飾器更新 `Graph` 的數值\n",
    "\n",
    "```python\n",
    "import sqlite3\n",
    "from datetime import datetime\n",
    "\n",
    "@app.callback(Output('graph', 'extendData'), [Input('interval', 'n_intervals')])\n",
    "def update_data(n_intervals):\n",
    "    conn = sqlite3.connect(\"agg_trade.db\")\n",
    "    cursor = conn.cursor()\n",
    "    sql_statement = \"\"\"\n",
    "    SELECT *\n",
    "      FROM btcusdt\n",
    "     ORDER BY trade_time DESC\n",
    "     LIMIT 1;\n",
    "    \"\"\"\n",
    "    list_of_tuples = cursor.execute(sql_statement).fetchall()\n",
    "    latest_trade_time = list_of_tuples[0][1]\n",
    "    latest_trade_time_dt = datetime.fromtimestamp(latest_trade_time / 1000)\n",
    "    latest_price = list_of_tuples[0][2]\n",
    "    dict_to_return = {\n",
    "        \"x\": [[latest_trade_time_dt]],\n",
    "        \"y\": [[latest_price]]\n",
    "    }\n",
    "    return (dict_to_return), [0], 100\n",
    "```"
   ]
  },
  {
   "cell_type": "markdown",
   "metadata": {
    "slideshow": {
     "slide_type": "subslide"
    }
   },
   "source": [
    "## 整合串流金融資料擷取、緩衝與視覺化\n",
    "\n",
    "```python\n",
    "# stream_data_line.py\n",
    "from dash import html, dcc, Output, Input, Dash\n",
    "import sqlite3\n",
    "from datetime import datetime\n",
    "\n",
    "update_frequency = 200\n",
    "figure = dict(data=[{'x': [], 'y': []}], \n",
    "              layout=dict(xaxis=dict(autorange=True), yaxis=dict(autorange=True)))\n",
    "app = Dash()\n",
    "app.layout = html.Div([\n",
    "    dcc.Graph(id='graph', figure=figure),\n",
    "    dcc.Interval(id=\"interval\")]\n",
    ")\n",
    "```"
   ]
  },
  {
   "cell_type": "markdown",
   "metadata": {
    "slideshow": {
     "slide_type": "subslide"
    }
   },
   "source": [
    "## 整合串流金融資料擷取、緩衝與視覺化\n",
    "\n",
    "```python\n",
    "@app.callback(Output('graph', 'extendData'), [Input('interval', 'n_intervals')])\n",
    "def update_data(n_intervals):\n",
    "    conn = sqlite3.connect(\"agg_trade.db\")\n",
    "    cursor = conn.cursor()\n",
    "    sql_statement = \"\"\"\n",
    "    SELECT *\n",
    "      FROM btcusdt\n",
    "     ORDER BY trade_time DESC\n",
    "     LIMIT 1;\n",
    "    \"\"\"\n",
    "    list_of_tuples = cursor.execute(sql_statement).fetchall()\n",
    "    latest_trade_time = list_of_tuples[0][1]\n",
    "    latest_trade_time_dt = datetime.fromtimestamp(latest_trade_time / 1000)\n",
    "    latest_price = list_of_tuples[0][2]\n",
    "    dict_to_return = {\n",
    "        \"x\": [[latest_trade_time_dt]],\n",
    "        \"y\": [[latest_price]]\n",
    "    }\n",
    "    return (dict_to_return), [0], 100\n",
    "\n",
    "if __name__ == \"__main__\":\n",
    "    app.run_server(debug=True)\n",
    "```"
   ]
  },
  {
   "cell_type": "markdown",
   "metadata": {
    "slideshow": {
     "slide_type": "subslide"
    }
   },
   "source": [
    "## 整合串流金融資料擷取、緩衝與視覺化（續）\n",
    "\n",
    "- 執行 `python btcusdt_agg_trade_stream.py`\n",
    "- 執行 `python stream_data_line.py`\n",
    "- 前往 `http://127.0.0.1:8050` 檢視。"
   ]
  }
 ],
 "metadata": {
  "celltoolbar": "Slideshow",
  "kernelspec": {
   "display_name": "Data Science",
   "language": "python",
   "name": "datascience"
  },
  "language_info": {
   "codemirror_mode": {
    "name": "ipython",
    "version": 3
   },
   "file_extension": ".py",
   "mimetype": "text/x-python",
   "name": "python",
   "nbconvert_exporter": "python",
   "pygments_lexer": "ipython3",
   "version": "3.11.9"
  }
 },
 "nbformat": 4,
 "nbformat_minor": 4
}

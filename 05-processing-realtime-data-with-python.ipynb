{
 "cells": [
  {
   "cell_type": "markdown",
   "id": "4f7c7958",
   "metadata": {
    "slideshow": {
     "slide_type": "slide"
    }
   },
   "source": [
    "# Python 金融資料的處理應用\n",
    "\n",
    "> 實作：以動態圖表呈現串流金融資料\n",
    "\n",
    "[郭耀仁](https://hahow.in/@tonykuoyj?tr=tonykuoyj) | yaojenkuo@ntu.edu.tw | April 2024"
   ]
  },
  {
   "cell_type": "markdown",
   "id": "e530f5c3",
   "metadata": {
    "slideshow": {
     "slide_type": "slide"
    }
   },
   "source": [
    "## 進階 Python 觀念"
   ]
  },
  {
   "cell_type": "markdown",
   "id": "77f89882",
   "metadata": {
    "slideshow": {
     "slide_type": "subslide"
    }
   },
   "source": [
    "## 關於進階 Python 觀念\n",
    "\n",
    "- 資源管理器。\n",
    "- 裝飾器。\n",
    "- 非同步 I/O"
   ]
  },
  {
   "cell_type": "markdown",
   "id": "0ffa87bf",
   "metadata": {
    "slideshow": {
     "slide_type": "subslide"
    }
   },
   "source": [
    "## 資源管理器\n",
    "\n",
    "- 資源的管理例如管理開啟的檔案或 Websockets 等，最主要的問題在於必須確保這些開啟的資源在使用完之後，有確實被關閉。\n",
    "- 如果忘記關閉這些資源，就會造成程式執行上的效能問題，甚至出現錯誤。\n",
    "- Python 提供 `with` 語法，可讓程式設計者更容易管理這些開啟的資源。"
   ]
  },
  {
   "cell_type": "markdown",
   "id": "99187c8b",
   "metadata": {
    "slideshow": {
     "slide_type": "subslide"
    }
   },
   "source": [
    "## 傳統開啟檔案的方式\n",
    "\n",
    "如果在使用檔案的過程中發生了例外（Exception），造成程式中斷時，這個開啟的檔案就沒有被關閉。\n",
    "\n",
    "```python\n",
    "# 開啟檔案\n",
    "f = open(filename)\n",
    "\n",
    "# 使用檔案的過程\n",
    "\n",
    "# 關閉檔案\n",
    "f.close()\n",
    "```"
   ]
  },
  {
   "cell_type": "markdown",
   "id": "84de894e",
   "metadata": {
    "slideshow": {
     "slide_type": "subslide"
    }
   },
   "source": [
    "## 以 `with` 開啟一個檔案\n",
    "\n",
    "- 在使用 `with` 開啟檔案時，會將開啟的檔案用 `f` 變數參照。\n",
    "- 這個變數只有在 `with` 的範圍內可以使用，而離開這個範圍時變數就會自動被關閉，回收相關的資源。\n",
    "\n",
    "```python\n",
    "with open(filename) as f:\n",
    "  # 使用檔案的過程\n",
    "```"
   ]
  },
  {
   "cell_type": "markdown",
   "id": "70cbe043",
   "metadata": {
    "slideshow": {
     "slide_type": "subslide"
    }
   },
   "source": [
    "## 裝飾器\n",
    "\n",
    "- 裝飾器（Decorator）是一種設計模式（Design Pattern），可以簡化大量函數中相同的程式碼並重複使用。\n",
    "- 裝飾器的作用是為已經存在的函數添加額外的功能。"
   ]
  },
  {
   "cell_type": "markdown",
   "id": "366f3599",
   "metadata": {
    "slideshow": {
     "slide_type": "subslide"
    }
   },
   "source": [
    "## 一個將累加印出來的函數"
   ]
  },
  {
   "cell_type": "code",
   "execution_count": 1,
   "id": "af41838f",
   "metadata": {},
   "outputs": [
    {
     "name": "stdout",
     "output_type": "stream",
     "text": [
      "0\n",
      "1\n",
      "3\n",
      "6\n",
      "10\n",
      "15\n",
      "21\n",
      "28\n",
      "36\n",
      "45\n"
     ]
    }
   ],
   "source": [
    "def print_cum_sum():\n",
    "    cum_sum = 0\n",
    "    for i in range(10):\n",
    "        cum_sum += i\n",
    "        print(cum_sum)\n",
    "\n",
    "print_cum_sum()"
   ]
  },
  {
   "cell_type": "markdown",
   "id": "53ae5b0e",
   "metadata": {
    "slideshow": {
     "slide_type": "subslide"
    }
   },
   "source": [
    "## 一個計算函數執行所需時間的函數"
   ]
  },
  {
   "cell_type": "code",
   "execution_count": 2,
   "id": "3ccb71a6",
   "metadata": {},
   "outputs": [],
   "source": [
    "import time\n",
    "\n",
    "def timing(func):\n",
    "    t_start = time.perf_counter()\n",
    "    func()\n",
    "    t_stop = time.perf_counter()\n",
    "    print(f\"Elapsed time(secs): {t_stop - t_start}\")"
   ]
  },
  {
   "cell_type": "markdown",
   "id": "54b07bad",
   "metadata": {
    "slideshow": {
     "slide_type": "subslide"
    }
   },
   "source": [
    "## 計算 `print_cum_sum()` 執行所需時間"
   ]
  },
  {
   "cell_type": "code",
   "execution_count": 3,
   "id": "d9957006",
   "metadata": {},
   "outputs": [
    {
     "name": "stdout",
     "output_type": "stream",
     "text": [
      "0\n",
      "1\n",
      "3\n",
      "6\n",
      "10\n",
      "15\n",
      "21\n",
      "28\n",
      "36\n",
      "45\n",
      "Elapsed time(secs): 0.002172488020732999\n"
     ]
    }
   ],
   "source": [
    "timing(print_cum_sum)"
   ]
  },
  {
   "cell_type": "markdown",
   "id": "01fe6436",
   "metadata": {
    "slideshow": {
     "slide_type": "subslide"
    }
   },
   "source": [
    "## 裝飾器的動機\n",
    "\n",
    "- 如何在不更動函數執行語法的前提下，仍能計算 `print_cum_sum()` 執行所需時間？\n",
    "- 意即不要將 `print_cum_sum()` 更改為 `timing(print_cum_sum)`"
   ]
  },
  {
   "cell_type": "code",
   "execution_count": 4,
   "id": "73af34c2",
   "metadata": {},
   "outputs": [
    {
     "name": "stdout",
     "output_type": "stream",
     "text": [
      "0\n",
      "1\n",
      "3\n",
      "6\n",
      "10\n",
      "15\n",
      "21\n",
      "28\n",
      "36\n",
      "45\n",
      "Elapsed time(secs): 0.0011555659584701061\n"
     ]
    }
   ],
   "source": [
    "def print_cum_sum():\n",
    "    cum_sum = 0\n",
    "    for i in range(10):\n",
    "        cum_sum += i\n",
    "        print(cum_sum)\n",
    "\n",
    "def timing(func):\n",
    "    def wrapper():\n",
    "        t_start = time.perf_counter()\n",
    "        func()\n",
    "        t_stop = time.perf_counter()\n",
    "        print(f\"Elapsed time(secs): {t_stop - t_start}\")\n",
    "    return wrapper\n",
    "\n",
    "print_cum_sum = timing(print_cum_sum)\n",
    "print_cum_sum()"
   ]
  },
  {
   "cell_type": "markdown",
   "id": "8c68284a",
   "metadata": {
    "slideshow": {
     "slide_type": "subslide"
    }
   },
   "source": [
    "## 將倒數第二段註解掉即可恢復「未加入計時」的功能"
   ]
  },
  {
   "cell_type": "code",
   "execution_count": 5,
   "id": "a78f9d16",
   "metadata": {
    "slideshow": {
     "slide_type": "-"
    }
   },
   "outputs": [
    {
     "name": "stdout",
     "output_type": "stream",
     "text": [
      "0\n",
      "1\n",
      "3\n",
      "6\n",
      "10\n",
      "15\n",
      "21\n",
      "28\n",
      "36\n",
      "45\n"
     ]
    }
   ],
   "source": [
    "def print_cum_sum():\n",
    "    cum_sum = 0\n",
    "    for i in range(10):\n",
    "        cum_sum += i\n",
    "        print(cum_sum)\n",
    "\n",
    "def timing(func):\n",
    "    def wrapper():\n",
    "        t_start = time.perf_counter()\n",
    "        func()\n",
    "        t_stop = time.perf_counter()\n",
    "        print(f\"Elapsed time(secs): {t_stop - t_start}\")\n",
    "    return wrapper\n",
    "\n",
    "#print_cum_sum = timing(print_cum_sum)\n",
    "print_cum_sum()"
   ]
  },
  {
   "cell_type": "markdown",
   "id": "1f928a5f",
   "metadata": {
    "slideshow": {
     "slide_type": "subslide"
    }
   },
   "source": [
    "## 利用裝飾器實現不更動函數執行語法的前提下添加額外的功能"
   ]
  },
  {
   "cell_type": "code",
   "execution_count": 6,
   "id": "f61ee18f",
   "metadata": {},
   "outputs": [
    {
     "name": "stdout",
     "output_type": "stream",
     "text": [
      "0\n",
      "1\n",
      "3\n",
      "6\n",
      "10\n",
      "15\n",
      "21\n",
      "28\n",
      "36\n",
      "45\n",
      "Elapsed time(secs): 0.00043658295180648565\n"
     ]
    }
   ],
   "source": [
    "def timing(func):\n",
    "    def wrapper():\n",
    "        t_start = time.perf_counter()\n",
    "        func()\n",
    "        t_stop = time.perf_counter()\n",
    "        print(f\"Elapsed time(secs): {t_stop - t_start}\")\n",
    "    return wrapper\n",
    "\n",
    "@timing\n",
    "def print_cum_sum():\n",
    "    cum_sum = 0\n",
    "    for i in range(10):\n",
    "        cum_sum += i\n",
    "        print(cum_sum)\n",
    "\n",
    "print_cum_sum()"
   ]
  },
  {
   "cell_type": "markdown",
   "id": "8c3ccb33",
   "metadata": {
    "slideshow": {
     "slide_type": "subslide"
    }
   },
   "source": [
    "## 利用裝飾器實現不更動函數執行語法的前提下添加額外的功能（續）\n",
    "\n",
    "- `@` 開頭那一段的意思就是將 `print_cum_sum()` 傳入 `timing()` 後，再將傳回的物件重新命名為 `print_cum_sum()`\n",
    "- 可以把 `@timing` 視為加上 `timing()` 函數功能的意思。\n",
    "- 利用裝飾器完全不需要更動原本執行 `print_cum_sum()` 的程式。"
   ]
  },
  {
   "cell_type": "markdown",
   "id": "ea21a281",
   "metadata": {
    "slideshow": {
     "slide_type": "subslide"
    }
   },
   "source": [
    "## 非同步 I/O\n",
    "\n",
    "- Python 在對任一段程式進行請求的時候，都會等到回應之後再進行下一段程式。\n",
    "- 非同步 I/O 指的是執行過程不會等待回應，而是繼續執行下面的程式碼，讓後續流程作為事件（Event），並透過輪詢（polling）與回調 （callback）觸發執行後續程式碼。\n",
    "- Python 以 `asyncio` 模組來實現並行（Concurrency），並且使用 `async` 和 `await` 兩個關鍵字撰寫相關程式。"
   ]
  },
  {
   "cell_type": "markdown",
   "id": "598e641e",
   "metadata": {
    "slideshow": {
     "slide_type": "subslide"
    }
   },
   "source": [
    "## 非同步 I/O 的動機\n",
    "\n",
    "- 程式會遇到的瓶頸可分為：計算瓶頸（CPU）與等待瓶頸。\n",
    "- 如何在「非」計算瓶頸的時候提升程式執行效率？例如：網路請求或檔案讀寫。"
   ]
  },
  {
   "cell_type": "code",
   "execution_count": 7,
   "id": "8136c3bc",
   "metadata": {},
   "outputs": [
    {
     "name": "stdout",
     "output_type": "stream",
     "text": [
      "The request #1 begins\n",
      "The request #1 ends\n",
      "The request #2 begins\n",
      "The request #2 ends\n",
      "The request #3 begins\n",
      "The request #3 ends\n",
      "The request #4 begins\n",
      "The request #4 ends\n",
      "The request #5 begins\n",
      "The request #5 ends\n",
      "Elapsed time(secs): 10.020244781975634\n"
     ]
    }
   ],
   "source": [
    "def a_requests_need_two_seconds(i):\n",
    "    print(f\"The request #{i} begins\")\n",
    "    time.sleep(2)\n",
    "    print(f\"The request #{i} ends\")\n",
    "\n",
    "t_start = time.perf_counter()\n",
    "for i in range(1, 6):\n",
    "    a_requests_need_two_seconds(i)\n",
    "t_stop = time.perf_counter()\n",
    "print(f\"Elapsed time(secs): {t_stop - t_start}\")"
   ]
  },
  {
   "cell_type": "markdown",
   "id": "39104421",
   "metadata": {
    "slideshow": {
     "slide_type": "subslide"
    }
   },
   "source": [
    "## 以 `asyncio` 模組打破等待瓶頸\n",
    "\n",
    "`await` 告訴 CPU 這個函數很慢，不需要等它執行完畢，請 CPU 先跳去執行其他的事情，在這個函數結束時再回來處理。\n",
    "\n",
    "```python\n",
    "# Run with a script instead of jupyter notebook\n",
    "import time\n",
    "import asyncio\n",
    "\n",
    "async def a_request_needs_two_seconds(i):\n",
    "    print(f\"The request #{i} begins\")\n",
    "    await asyncio.sleep(2)\n",
    "    print(f\"The request #{i} ends\")\n",
    "\n",
    "t_start = time.perf_counter()\n",
    "loop = asyncio.get_event_loop()\n",
    "tasks = [loop.create_task(a_request_needs_two_seconds(i)) for i in range(1, 6)]\n",
    "loop.run_until_complete(asyncio.wait(tasks))\n",
    "loop.close()\n",
    "t_stop = time.perf_counter()\n",
    "print(f\"Elapsed time(secs): {t_stop - t_start}\")\n",
    "```"
   ]
  },
  {
   "cell_type": "markdown",
   "id": "eb27fd14",
   "metadata": {
    "slideshow": {
     "slide_type": "slide"
    }
   },
   "source": [
    "## 取得串流金融資料"
   ]
  },
  {
   "cell_type": "markdown",
   "id": "46223d9e",
   "metadata": {
    "slideshow": {
     "slide_type": "subslide"
    }
   },
   "source": [
    "## 全年無休的串流金融資料\n",
    "\n",
    "- 以比特幣兌美元（BTC-USD）為範例。\n",
    "- BINANCE 幣安是全球性的加密貨幣交易所，為超過 100 種加密貨幣提供交易服務的平台，2018年初以來，幣安在交易量方面被認為是全世界上最大的加密貨幣交易所。"
   ]
  },
  {
   "cell_type": "markdown",
   "id": "cb4550eb",
   "metadata": {
    "slideshow": {
     "slide_type": "subslide"
    }
   },
   "source": [
    "## BINANCE Websocket Market Streams\n",
    "\n",
    "- WebSocket 是一種網路傳輸協定，使得客戶端和伺服器之間的資料交換變得更加簡單，允許伺服器端主動向客戶端推播資料。\n",
    "- 在 WebSocket API 中瀏覽器和伺服器只需要完成一次連線，兩者之間就可以建立永續的連接並進行雙向資料傳輸。\n",
    "- BINANCE Websocket Market Streams 連線端點：wss://fstream.binance.com/ws"
   ]
  },
  {
   "cell_type": "markdown",
   "id": "a06941cb",
   "metadata": {
    "slideshow": {
     "slide_type": "subslide"
    }
   },
   "source": [
    "## 比特幣兌美元（BTC-USD）交易資料\n",
    "\n",
    "連線端點：wss://fstream.binance.com/ws/btcusdt@aggTrade\n",
    "\n",
    "```python\n",
    "# Run with a script instead of jupyter notebook\n",
    "import asyncio\n",
    "from websockets import connect\n",
    "import json\n",
    "\n",
    "async def connect_to_binance_web_market_stream(url):\n",
    "    async with connect(url) as websocket:\n",
    "        while True:\n",
    "            data_str = await websocket.recv()\n",
    "            data_dict = json.loads(data_str)\n",
    "            print(data_dict)\n",
    "        \n",
    "url = \"wss://fstream.binance.com/ws/btcusdt@aggTrade\"\n",
    "asyncio.run(connect_to_binance_web_market_stream(url))\n",
    "```"
   ]
  },
  {
   "cell_type": "markdown",
   "id": "141d60fb",
   "metadata": {
    "slideshow": {
     "slide_type": "subslide"
    }
   },
   "source": [
    "## 建立一個 SQLite 資料庫儲存比特幣兌美元（BTC-USD）交易資料\n",
    "\n",
    "```python\n",
    "# Run with a script instead of jupyter notebook\n",
    "import sqlite3\n",
    "\n",
    "conn = sqlite3.connect(\"agg_trade.db\")\n",
    "cursor = conn.cursor()\n",
    "cursor.execute(\"DROP TABLE IF EXISTS btcusdt;\")\n",
    "create_table_statement = \"\"\"\n",
    "CREATE TABLE btcusdt (\n",
    "    id UNSIGNED BIG INT PRIMARY KEY,\n",
    "    trade_time UNSIGNED BIG INT,\n",
    "    price float,\n",
    "    quantity float\n",
    ")\n",
    "\"\"\"\n",
    "cursor.execute(create_table_statement)\n",
    "cursor.execute(\"CREATE INDEX idx_trade_time ON btcusdt(trade_time);\")\n",
    "conn.commit()\n",
    "conn.close()\n",
    "```"
   ]
  },
  {
   "cell_type": "markdown",
   "id": "9b062034",
   "metadata": {
    "slideshow": {
     "slide_type": "subslide"
    }
   },
   "source": [
    "## 運用 SQLite 資料庫作為即時交易資料的緩衝\n",
    "\n",
    "```python\n",
    "async def insert_data_into_db(url):\n",
    "    async with connect(url) as websocket:\n",
    "        data_dicts = []\n",
    "        while True:\n",
    "            data_str = await websocket.recv()\n",
    "            data_dict = json.loads(data_str)\n",
    "            data_to_append = (data_dict[\"a\"], data_dict[\"T\"], data_dict[\"p\"], data_dict[\"q\"])\n",
    "            data_dicts.append(data_to_append)\n",
    "            print(data_dict)\n",
    "            if len(data_dicts) > 10:\n",
    "                print(\"Inserting into DB...\")\n",
    "                async with aiosqlite.connect(\"agg_trade.db\") as db:\n",
    "                    await db.executemany(\"\"\"INSERT INTO btcusdt (id, trade_time, price, quantity) VALUES (?, ?, ?, ?)\"\"\", data_dicts)\n",
    "                    await db.commit()\n",
    "                data_dicts = []\n",
    "```"
   ]
  },
  {
   "cell_type": "markdown",
   "id": "03c8c42b",
   "metadata": {
    "slideshow": {
     "slide_type": "subslide"
    }
   },
   "source": [
    "## 整合串流金融資料擷取與緩衝\n",
    "\n",
    "```python\n",
    "# btcusdt_agg_trade_stream.py\n",
    "import sqlite3\n",
    "import asyncio\n",
    "from websockets import connect\n",
    "import json\n",
    "import aiosqlite\n",
    "\n",
    "conn = sqlite3.connect(\"agg_trade.db\")\n",
    "cursor = conn.cursor()\n",
    "cursor.execute(\"DROP TABLE IF EXISTS btcusdt;\")\n",
    "create_table_statement = \"\"\"\n",
    "CREATE TABLE btcusdt (\n",
    "    id UNSIGNED BIG INT PRIMARY KEY,\n",
    "    trade_time UNSIGNED BIG INT,\n",
    "    price float,\n",
    "    quantity float\n",
    ")\n",
    "\"\"\"\n",
    "cursor.execute(create_table_statement)\n",
    "cursor.execute(\"CREATE INDEX idx_trade_time ON btcusdt(trade_time);\")\n",
    "conn.commit()\n",
    "conn.close()\n",
    "```"
   ]
  },
  {
   "cell_type": "markdown",
   "id": "6ecaa5e7",
   "metadata": {
    "slideshow": {
     "slide_type": "subslide"
    }
   },
   "source": [
    "## 整合串流金融資料擷取與緩衝（續）\n",
    "\n",
    "```python\n",
    "async def insert_data_into_db(url):\n",
    "    async with connect(url) as websocket:\n",
    "        data_dicts = []\n",
    "        while True:\n",
    "            data_str = await websocket.recv()\n",
    "            data_dict = json.loads(data_str)\n",
    "            data_to_append = (data_dict[\"a\"], data_dict[\"T\"], data_dict[\"p\"], data_dict[\"q\"])\n",
    "            data_dicts.append(data_to_append)\n",
    "            print(data_dict)\n",
    "            if len(data_dicts) > 10:\n",
    "                print(\"Inserting into DB...\")\n",
    "                async with aiosqlite.connect(\"agg_trade.db\") as db:\n",
    "                    await db.executemany(\"\"\"INSERT INTO btcusdt (id, trade_time, price, quantity) VALUES (?, ?, ?, ?)\"\"\", data_dicts)\n",
    "                    await db.commit()\n",
    "                data_dicts = []\n",
    "                \n",
    "url = \"wss://fstream.binance.com/ws/btcusdt@aggTrade\"\n",
    "asyncio.run(insert_data_into_db(url))\n",
    "```"
   ]
  },
  {
   "cell_type": "markdown",
   "id": "6de7c5cb",
   "metadata": {
    "slideshow": {
     "slide_type": "subslide"
    }
   },
   "source": [
    "## 整合串流金融資料擷取與緩衝（續）\n",
    "\n",
    "- 執行 `python btcusdt_agg_trade_stream.py`\n",
    "- 以 SQLiteStudio 檢查 SQLite 資料庫：<https://github.com/pawelsalawa/sqlitestudio/releases>"
   ]
  },
  {
   "cell_type": "markdown",
   "id": "6790ea86",
   "metadata": {
    "slideshow": {
     "slide_type": "slide"
    }
   },
   "source": [
    "## 視覺化串流金融資料"
   ]
  },
  {
   "cell_type": "markdown",
   "id": "22dd1482",
   "metadata": {
    "slideshow": {
     "slide_type": "subslide"
    }
   },
   "source": [
    "## Plotly Dash\n",
    "\n",
    "- Dash 是以 Plotly.js、React.js 與 Flask 為基礎建構的視覺化模組，不僅支援 Python，也支援 R、Julia 等語言。\n",
    "- Dash 可以用來建置網頁應用程式，利於呈現資料視覺化與儀表板 Dashboard。Dash 除了支援 Plotly 的豐富圖表之外，也有下拉式選單、按鈕以及其他網頁介面功能可使用。\n",
    "- <https://dash.plotly.com>"
   ]
  },
  {
   "cell_type": "markdown",
   "id": "9ad99f9d",
   "metadata": {
    "slideshow": {
     "slide_type": "subslide"
    }
   },
   "source": [
    "## 建構一個簡易前端頁面\n",
    "\n",
    "```python\n",
    "# Run with a script instead of jupyter notebook\n",
    "from dash import html, dcc, Output, Input, Dash\n",
    "\n",
    "update_frequency = 200\n",
    "app = Dash(__name__)\n",
    "app.layout = html.Div([\n",
    "    html.H1(id=\"show_value\"),\n",
    "    dcc.Interval(id=\"update\", interval=update_frequency)\n",
    "])\n",
    "if __name__ == \"__main__\":\n",
    "    app.run_server(debug=True)\n",
    "```"
   ]
  },
  {
   "cell_type": "markdown",
   "id": "675101a1",
   "metadata": {
    "slideshow": {
     "slide_type": "subslide"
    }
   },
   "source": [
    "## 以裝飾器更新 `H1` 的數值\n",
    "\n",
    "```python\n",
    "import sqlite3\n",
    "\n",
    "@app.callback(Output(\"show_value\", \"children\"), [Input(\"update\", \"n_intervals\")])\n",
    "def update_data(n_intervals):\n",
    "    conn = sqlite3.connect(\"agg_trade.db\")\n",
    "    cursor = conn.cursor()\n",
    "    sql_statement = \"\"\"\n",
    "    SELECT *\n",
    "      FROM btcusdt\n",
    "     ORDER BY trade_time DESC\n",
    "     LIMIT 1;\n",
    "    \"\"\"\n",
    "    list_of_tuples = cursor.execute(sql_statement).fetchall()\n",
    "    latest_price = list_of_tuples[0][2]\n",
    "    return latest_price\n",
    "```"
   ]
  },
  {
   "cell_type": "markdown",
   "id": "ab38d3d9",
   "metadata": {
    "slideshow": {
     "slide_type": "subslide"
    }
   },
   "source": [
    "## 建構一個簡易前端頁面（續）\n",
    "\n",
    "```python\n",
    "# Run with a script instead of jupyter notebook\n",
    "from dash import html, dcc, Output, Input, Dash\n",
    "\n",
    "update_frequency = 200\n",
    "figure = dict(data=[{'x': [], 'y': []}], \n",
    "              layout=dict(xaxis=dict(autorange=True), yaxis=dict(autorange=True)))\n",
    "app = dash.Dash()\n",
    "app.layout = html.Div([\n",
    "    dcc.Graph(id='graph', figure=figure),\n",
    "    dcc.Interval(id=\"interval\")]\n",
    ")\n",
    "if __name__ == \"__main__\":\n",
    "    app.run_server(debug=True)\n",
    "```"
   ]
  },
  {
   "cell_type": "markdown",
   "id": "805f9a41",
   "metadata": {
    "slideshow": {
     "slide_type": "subslide"
    }
   },
   "source": [
    "## 以裝飾器更新 `Graph` 的數值\n",
    "\n",
    "```python\n",
    "import sqlite3\n",
    "from datetime import datetime\n",
    "\n",
    "@app.callback(Output('graph', 'extendData'), [Input('interval', 'n_intervals')])\n",
    "def update_data(n_intervals):\n",
    "    conn = sqlite3.connect(\"agg_trade.db\")\n",
    "    cursor = conn.cursor()\n",
    "    sql_statement = \"\"\"\n",
    "    SELECT *\n",
    "      FROM btcusdt\n",
    "     ORDER BY trade_time DESC\n",
    "     LIMIT 1;\n",
    "    \"\"\"\n",
    "    list_of_tuples = cursor.execute(sql_statement).fetchall()\n",
    "    latest_trade_time = list_of_tuples[0][1]\n",
    "    latest_trade_time_dt = datetime.fromtimestamp(latest_trade_time / 1000)\n",
    "    latest_price = list_of_tuples[0][2]\n",
    "    dict_to_return = {\n",
    "        \"x\": [[latest_trade_time_dt]],\n",
    "        \"y\": [[latest_price]]\n",
    "    }\n",
    "    return (dict_to_return), [0], 100\n",
    "```"
   ]
  },
  {
   "cell_type": "markdown",
   "id": "b4d30779",
   "metadata": {
    "slideshow": {
     "slide_type": "subslide"
    }
   },
   "source": [
    "## 整合串流金融資料擷取、緩衝與視覺化\n",
    "\n",
    "```python\n",
    "# stream_data_line.py\n",
    "from dash import html, dcc, Output, Input, Dash\n",
    "import sqlite3\n",
    "from datetime import datetime\n",
    "\n",
    "update_frequency = 200\n",
    "figure = dict(data=[{'x': [], 'y': []}], \n",
    "              layout=dict(xaxis=dict(autorange=True), yaxis=dict(autorange=True)))\n",
    "app = Dash()\n",
    "app.layout = html.Div([\n",
    "    dcc.Graph(id='graph', figure=figure),\n",
    "    dcc.Interval(id=\"interval\")]\n",
    ")\n",
    "```"
   ]
  },
  {
   "cell_type": "markdown",
   "id": "2b4b9d5c",
   "metadata": {
    "slideshow": {
     "slide_type": "subslide"
    }
   },
   "source": [
    "## 整合串流金融資料擷取、緩衝與視覺化\n",
    "\n",
    "```python\n",
    "@app.callback(Output('graph', 'extendData'), [Input('interval', 'n_intervals')])\n",
    "def update_data(n_intervals):\n",
    "    conn = sqlite3.connect(\"agg_trade.db\")\n",
    "    cursor = conn.cursor()\n",
    "    sql_statement = \"\"\"\n",
    "    SELECT *\n",
    "      FROM btcusdt\n",
    "     ORDER BY trade_time DESC\n",
    "     LIMIT 1;\n",
    "    \"\"\"\n",
    "    list_of_tuples = cursor.execute(sql_statement).fetchall()\n",
    "    latest_trade_time = list_of_tuples[0][1]\n",
    "    latest_trade_time_dt = datetime.fromtimestamp(latest_trade_time / 1000)\n",
    "    latest_price = list_of_tuples[0][2]\n",
    "    dict_to_return = {\n",
    "        \"x\": [[latest_trade_time_dt]],\n",
    "        \"y\": [[latest_price]]\n",
    "    }\n",
    "    return (dict_to_return), [0], 100\n",
    "\n",
    "if __name__ == \"__main__\":\n",
    "    app.run_server(debug=True)\n",
    "```"
   ]
  },
  {
   "cell_type": "markdown",
   "id": "4745bbd2",
   "metadata": {
    "slideshow": {
     "slide_type": "subslide"
    }
   },
   "source": [
    "## 整合串流金融資料擷取、緩衝與視覺化（續）\n",
    "\n",
    "- 執行 `python btcusdt_agg_trade_stream.py`\n",
    "- 執行 `python stream_data_line.py`\n",
    "- 前往 `http://127.0.0.1:8050` 檢視。"
   ]
  }
 ],
 "metadata": {
  "celltoolbar": "Slideshow",
  "kernelspec": {
   "display_name": "Python 3 (ipykernel)",
   "language": "python",
   "name": "python3"
  },
  "language_info": {
   "codemirror_mode": {
    "name": "ipython",
    "version": 3
   },
   "file_extension": ".py",
   "mimetype": "text/x-python",
   "name": "python",
   "nbconvert_exporter": "python",
   "pygments_lexer": "ipython3",
   "version": "3.11.4"
  }
 },
 "nbformat": 4,
 "nbformat_minor": 5
}
